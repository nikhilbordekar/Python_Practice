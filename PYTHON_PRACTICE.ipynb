{
  "nbformat": 4,
  "nbformat_minor": 0,
  "metadata": {
    "colab": {
      "provenance": [],
      "authorship_tag": "ABX9TyNhgzfVxaCvZRpwIlmgr0Rm",
      "include_colab_link": true
    },
    "kernelspec": {
      "name": "python3",
      "display_name": "Python 3"
    },
    "language_info": {
      "name": "python"
    }
  },
  "cells": [
    {
      "cell_type": "markdown",
      "metadata": {
        "id": "view-in-github",
        "colab_type": "text"
      },
      "source": [
        "<a href=\"https://colab.research.google.com/github/nikhilbordekar/Python_Practice/blob/main/PYTHON_PRACTICE.ipynb\" target=\"_parent\"><img src=\"https://colab.research.google.com/assets/colab-badge.svg\" alt=\"Open In Colab\"/></a>"
      ]
    },
    {
      "cell_type": "markdown",
      "source": [
        "# **Integers and Floats**\n",
        "\n",
        "\n",
        "\n",
        "\n"
      ],
      "metadata": {
        "id": "86I8eHjcme5_"
      }
    },
    {
      "cell_type": "markdown",
      "source": [
        "Basic Arithmetic"
      ],
      "metadata": {
        "id": "byKA7KQ6mq7l"
      }
    },
    {
      "cell_type": "code",
      "source": [
        "# Addition\n",
        "2+1"
      ],
      "metadata": {
        "colab": {
          "base_uri": "https://localhost:8080/"
        },
        "id": "4HP4cF5Omt5N",
        "outputId": "cd42c258-d032-4c74-f6a0-68a073daeef0"
      },
      "execution_count": null,
      "outputs": [
        {
          "output_type": "execute_result",
          "data": {
            "text/plain": [
              "3"
            ]
          },
          "metadata": {},
          "execution_count": 1
        }
      ]
    },
    {
      "cell_type": "code",
      "source": [
        "# Subtraction\n",
        "2-5"
      ],
      "metadata": {
        "colab": {
          "base_uri": "https://localhost:8080/"
        },
        "id": "RQBedFl5mwV9",
        "outputId": "8413f056-dc92-42eb-afd4-18219bf2085f"
      },
      "execution_count": null,
      "outputs": [
        {
          "output_type": "execute_result",
          "data": {
            "text/plain": [
              "-3"
            ]
          },
          "metadata": {},
          "execution_count": 2
        }
      ]
    },
    {
      "cell_type": "code",
      "source": [
        "# Multiplication\n",
        "2*2"
      ],
      "metadata": {
        "colab": {
          "base_uri": "https://localhost:8080/"
        },
        "id": "s2XJ_h6em0St",
        "outputId": "60030543-b657-44a7-a5e3-31c391cecbf8"
      },
      "execution_count": null,
      "outputs": [
        {
          "output_type": "execute_result",
          "data": {
            "text/plain": [
              "4"
            ]
          },
          "metadata": {},
          "execution_count": 6
        }
      ]
    },
    {
      "cell_type": "code",
      "source": [
        "# Division\n",
        "3/2"
      ],
      "metadata": {
        "colab": {
          "base_uri": "https://localhost:8080/"
        },
        "id": "jZEddTv-m3K1",
        "outputId": "16dff790-d8ab-4ba3-a69b-f0cd8640f8ea"
      },
      "execution_count": null,
      "outputs": [
        {
          "output_type": "execute_result",
          "data": {
            "text/plain": [
              "1.5"
            ]
          },
          "metadata": {},
          "execution_count": 4
        }
      ]
    },
    {
      "cell_type": "code",
      "source": [
        "# Floor Division\n",
        "7//2"
      ],
      "metadata": {
        "colab": {
          "base_uri": "https://localhost:8080/"
        },
        "id": "5eKNmuY-m5Dd",
        "outputId": "a9508d91-6ce9-428b-f123-6164235f31c9"
      },
      "execution_count": null,
      "outputs": [
        {
          "output_type": "execute_result",
          "data": {
            "text/plain": [
              "3"
            ]
          },
          "metadata": {},
          "execution_count": 5
        }
      ]
    },
    {
      "cell_type": "code",
      "source": [
        "# Exponentiation\n",
        "2**5"
      ],
      "metadata": {
        "colab": {
          "base_uri": "https://localhost:8080/"
        },
        "id": "dDv3zl38m8OP",
        "outputId": "8c8e65b6-07f1-4a95-e1a3-d7f9f59c88f4"
      },
      "execution_count": null,
      "outputs": [
        {
          "output_type": "execute_result",
          "data": {
            "text/plain": [
              "32"
            ]
          },
          "metadata": {},
          "execution_count": 7
        }
      ]
    },
    {
      "cell_type": "code",
      "source": [
        "# Modulus\n",
        "5%6"
      ],
      "metadata": {
        "colab": {
          "base_uri": "https://localhost:8080/"
        },
        "id": "6icdQS8Nm-R-",
        "outputId": "b4a4214e-849c-409e-93e2-2de7d082b19b"
      },
      "execution_count": null,
      "outputs": [
        {
          "output_type": "execute_result",
          "data": {
            "text/plain": [
              "5"
            ]
          },
          "metadata": {},
          "execution_count": 8
        }
      ]
    },
    {
      "cell_type": "markdown",
      "source": [
        "# **String**"
      ],
      "metadata": {
        "id": "4fMXMj7hnQKV"
      }
    },
    {
      "cell_type": "code",
      "source": [
        "# Single word\n",
        "my_first_string= 'MATHEMATICS'\n",
        "my_first_string"
      ],
      "metadata": {
        "colab": {
          "base_uri": "https://localhost:8080/",
          "height": 35
        },
        "id": "dlLCuKP0nRWU",
        "outputId": "94315543-3f77-4a7f-db64-1ef597424538"
      },
      "execution_count": null,
      "outputs": [
        {
          "output_type": "execute_result",
          "data": {
            "text/plain": [
              "'MATHEMATICS'"
            ],
            "application/vnd.google.colaboratory.intrinsic+json": {
              "type": "string"
            }
          },
          "metadata": {},
          "execution_count": 9
        }
      ]
    },
    {
      "cell_type": "code",
      "source": [
        "# Entire phrase\n",
        "phrase = 'Statistics sits at the heart of machine learning'\n",
        "print(phrase)"
      ],
      "metadata": {
        "colab": {
          "base_uri": "https://localhost:8080/"
        },
        "id": "iWi3aUvrnRdm",
        "outputId": "82e494af-a0f2-4d81-dd28-3ed1317575a4"
      },
      "execution_count": null,
      "outputs": [
        {
          "output_type": "stream",
          "name": "stdout",
          "text": [
            "Statistics sits at the heart of machine learning\n"
          ]
        }
      ]
    },
    {
      "cell_type": "markdown",
      "source": [
        "String Indexing"
      ],
      "metadata": {
        "id": "iERyNFpznfyM"
      }
    },
    {
      "cell_type": "code",
      "source": [
        "# Assign string as a string\n",
        "string  = 'Principal Component Analysis!'\n",
        "# Show first element (in this case a letter)\n",
        "print(string[5])"
      ],
      "metadata": {
        "colab": {
          "base_uri": "https://localhost:8080/"
        },
        "id": "-_mRRcUtngRq",
        "outputId": "65fd2ec3-3f31-4171-fa16-4b9fbeb17d6c"
      },
      "execution_count": null,
      "outputs": [
        {
          "output_type": "stream",
          "name": "stdout",
          "text": [
            "i\n"
          ]
        }
      ]
    },
    {
      "cell_type": "code",
      "source": [
        "print(string[-2])"
      ],
      "metadata": {
        "colab": {
          "base_uri": "https://localhost:8080/"
        },
        "id": "-Zg978wJnqd6",
        "outputId": "bc952411-3e27-4712-d845-07059d2d52f4"
      },
      "execution_count": null,
      "outputs": [
        {
          "output_type": "stream",
          "name": "stdout",
          "text": [
            "s\n"
          ]
        }
      ]
    },
    {
      "cell_type": "markdown",
      "source": [
        "String Slicing"
      ],
      "metadata": {
        "id": "RcPF4fVmnry7"
      }
    },
    {
      "cell_type": "code",
      "source": [
        "# Grab everything past the first term all the way to the length of s which is len(s)\n",
        "print(string)\n",
        "print(string[:13])"
      ],
      "metadata": {
        "colab": {
          "base_uri": "https://localhost:8080/"
        },
        "id": "41qYAKBFnuYW",
        "outputId": "5d2bf828-c71f-43c4-8d89-5ed716e05a91"
      },
      "execution_count": null,
      "outputs": [
        {
          "output_type": "stream",
          "name": "stdout",
          "text": [
            "Principal Component Analysis!\n",
            "Principal Com\n"
          ]
        }
      ]
    },
    {
      "cell_type": "code",
      "source": [
        "# Grab everything starting from index 10 till index 18\n",
        "print(string[10:])"
      ],
      "metadata": {
        "colab": {
          "base_uri": "https://localhost:8080/"
        },
        "id": "m_AoBfifnynF",
        "outputId": "c099cf20-3291-4c11-f6d8-0bc6e52cf6bc"
      },
      "execution_count": null,
      "outputs": [
        {
          "output_type": "stream",
          "name": "stdout",
          "text": [
            "Component Analysis!\n"
          ]
        }
      ]
    },
    {
      "cell_type": "code",
      "source": [
        "# Grab everything, but go in steps size of 1\n",
        "print(string[::1])"
      ],
      "metadata": {
        "colab": {
          "base_uri": "https://localhost:8080/"
        },
        "id": "JidWNRQUn1u2",
        "outputId": "e816eb69-d76f-44c6-df3a-f1b1ddc08f3e"
      },
      "execution_count": null,
      "outputs": [
        {
          "output_type": "stream",
          "name": "stdout",
          "text": [
            "Principal Component Analysis!\n"
          ]
        }
      ]
    },
    {
      "cell_type": "markdown",
      "source": [
        "String functions and methods"
      ],
      "metadata": {
        "id": "pGFFIe3Kn9T1"
      }
    },
    {
      "cell_type": "code",
      "source": [
        "algorithm = 'Neural Networks'\n",
        "\n",
        "print(algorithm)"
      ],
      "metadata": {
        "colab": {
          "base_uri": "https://localhost:8080/"
        },
        "id": "vgDhu59in-P1",
        "outputId": "fce9a33f-a90f-4578-fb22-562080d113ce"
      },
      "execution_count": null,
      "outputs": [
        {
          "output_type": "stream",
          "name": "stdout",
          "text": [
            "Neural Networks\n"
          ]
        }
      ]
    },
    {
      "cell_type": "markdown",
      "source": [
        "len()"
      ],
      "metadata": {
        "id": "WvmmmYaNoB5l"
      }
    },
    {
      "cell_type": "code",
      "source": [
        "# Print the length of the string\n",
        "len(algorithm)"
      ],
      "metadata": {
        "colab": {
          "base_uri": "https://localhost:8080/"
        },
        "id": "-GoURdzBoEhl",
        "outputId": "16bbbcc9-2fb6-4135-a6e0-d3453174a879"
      },
      "execution_count": null,
      "outputs": [
        {
          "output_type": "execute_result",
          "data": {
            "text/plain": [
              "15"
            ]
          },
          "metadata": {},
          "execution_count": 17
        }
      ]
    },
    {
      "cell_type": "markdown",
      "source": [
        "lower()/upper()"
      ],
      "metadata": {
        "id": "6MIDLejloJb1"
      }
    },
    {
      "cell_type": "code",
      "source": [
        "algorithm.lower()"
      ],
      "metadata": {
        "colab": {
          "base_uri": "https://localhost:8080/",
          "height": 35
        },
        "id": "WrzRGQYWoNdt",
        "outputId": "192abcb4-e9d0-4239-a561-306546ab4750"
      },
      "execution_count": null,
      "outputs": [
        {
          "output_type": "execute_result",
          "data": {
            "text/plain": [
              "'neural networks'"
            ],
            "application/vnd.google.colaboratory.intrinsic+json": {
              "type": "string"
            }
          },
          "metadata": {},
          "execution_count": 18
        }
      ]
    },
    {
      "cell_type": "code",
      "source": [
        "algorithm.upper()"
      ],
      "metadata": {
        "colab": {
          "base_uri": "https://localhost:8080/",
          "height": 35
        },
        "id": "ZXV67JlhoUYt",
        "outputId": "44a0280b-3124-46cf-99e4-37c4f8d8428b"
      },
      "execution_count": null,
      "outputs": [
        {
          "output_type": "execute_result",
          "data": {
            "text/plain": [
              "'NEURAL NETWORKS'"
            ],
            "application/vnd.google.colaboratory.intrinsic+json": {
              "type": "string"
            }
          },
          "metadata": {},
          "execution_count": 19
        }
      ]
    },
    {
      "cell_type": "markdown",
      "source": [
        "count()"
      ],
      "metadata": {
        "id": "rcD4or1doapn"
      }
    },
    {
      "cell_type": "code",
      "source": [
        "algorithm"
      ],
      "metadata": {
        "colab": {
          "base_uri": "https://localhost:8080/",
          "height": 35
        },
        "id": "bbWXGkFQompG",
        "outputId": "2abe3545-f065-4d23-8367-bd9cc2bb65f3"
      },
      "execution_count": null,
      "outputs": [
        {
          "output_type": "execute_result",
          "data": {
            "text/plain": [
              "'Neural Networks'"
            ],
            "application/vnd.google.colaboratory.intrinsic+json": {
              "type": "string"
            }
          },
          "metadata": {},
          "execution_count": 23
        }
      ]
    },
    {
      "cell_type": "code",
      "source": [
        "algorithm.count('Ne')"
      ],
      "metadata": {
        "colab": {
          "base_uri": "https://localhost:8080/"
        },
        "id": "8GbyeNcIoaCt",
        "outputId": "0f8ebfc4-7f3e-41ca-89f4-9f7cc4e19388"
      },
      "execution_count": null,
      "outputs": [
        {
          "output_type": "execute_result",
          "data": {
            "text/plain": [
              "2"
            ]
          },
          "metadata": {},
          "execution_count": 22
        }
      ]
    },
    {
      "cell_type": "markdown",
      "source": [
        "find()"
      ],
      "metadata": {
        "id": "LmxnjqeMosc1"
      }
    },
    {
      "cell_type": "code",
      "source": [
        "algorithm.find('e')"
      ],
      "metadata": {
        "colab": {
          "base_uri": "https://localhost:8080/"
        },
        "id": "5fRGr8zBotC1",
        "outputId": "2f8171f7-5730-4eef-86f8-362ab67a98ed"
      },
      "execution_count": null,
      "outputs": [
        {
          "output_type": "execute_result",
          "data": {
            "text/plain": [
              "1"
            ]
          },
          "metadata": {},
          "execution_count": 24
        }
      ]
    },
    {
      "cell_type": "markdown",
      "source": [
        "replace()"
      ],
      "metadata": {
        "id": "qQMaanHzo1nt"
      }
    },
    {
      "cell_type": "code",
      "source": [
        "algorithm.replace(\" \", \"-\")\n"
      ],
      "metadata": {
        "colab": {
          "base_uri": "https://localhost:8080/",
          "height": 35
        },
        "id": "naIfmrOco2LW",
        "outputId": "f549a844-1a40-4e1b-fd06-d0e8b38e6935"
      },
      "execution_count": null,
      "outputs": [
        {
          "output_type": "execute_result",
          "data": {
            "text/plain": [
              "'Neural-Networks'"
            ],
            "application/vnd.google.colaboratory.intrinsic+json": {
              "type": "string"
            }
          },
          "metadata": {},
          "execution_count": 26
        }
      ]
    },
    {
      "cell_type": "markdown",
      "source": [
        "# **List**"
      ],
      "metadata": {
        "id": "PoDnIPYvdue8"
      }
    },
    {
      "cell_type": "code",
      "source": [
        "#List can take int, float, str etc\n",
        "my_list = ['A string',23,100.232,'o',True]\n",
        "my_list"
      ],
      "metadata": {
        "colab": {
          "base_uri": "https://localhost:8080/"
        },
        "id": "LHyjfP0-dx2q",
        "outputId": "697ff948-a21b-44bf-cdfa-2e4391751441"
      },
      "execution_count": null,
      "outputs": [
        {
          "output_type": "execute_result",
          "data": {
            "text/plain": [
              "['A string', 23, 100.232, 'o', True]"
            ]
          },
          "metadata": {},
          "execution_count": 1
        }
      ]
    },
    {
      "cell_type": "markdown",
      "source": [
        "List Indexing"
      ],
      "metadata": {
        "id": "VeuJvkAmNfn5"
      }
    },
    {
      "cell_type": "code",
      "source": [
        "loss_functions = ['Mean Absolute Error','Mean Squared Error','Huber Loss','Log Loss','Hinge Loss']\n",
        "print(loss_functions)"
      ],
      "metadata": {
        "colab": {
          "base_uri": "https://localhost:8080/"
        },
        "id": "ZBJ0fljMNc1r",
        "outputId": "188d1a5f-d195-4161-9860-4280f52175cd"
      },
      "execution_count": null,
      "outputs": [
        {
          "output_type": "stream",
          "name": "stdout",
          "text": [
            "['Mean Absolute Error', 'Mean Squared Error', 'Huber Loss', 'Log Loss', 'Hinge Loss']\n"
          ]
        }
      ]
    },
    {
      "cell_type": "code",
      "source": [
        "print(loss_functions[0])"
      ],
      "metadata": {
        "colab": {
          "base_uri": "https://localhost:8080/"
        },
        "id": "hCXod2MwNjAt",
        "outputId": "c9feda9c-da6e-45e3-fe2e-ed3f0d6553c3"
      },
      "execution_count": null,
      "outputs": [
        {
          "output_type": "stream",
          "name": "stdout",
          "text": [
            "Mean Absolute Error\n"
          ]
        }
      ]
    },
    {
      "cell_type": "code",
      "source": [
        "print(loss_functions[-1])"
      ],
      "metadata": {
        "colab": {
          "base_uri": "https://localhost:8080/"
        },
        "id": "IF2tT9BKNmmA",
        "outputId": "cc84ce79-e634-4052-a377-234b7d5a5577"
      },
      "execution_count": null,
      "outputs": [
        {
          "output_type": "stream",
          "name": "stdout",
          "text": [
            "Hinge Loss\n"
          ]
        }
      ]
    },
    {
      "cell_type": "markdown",
      "source": [
        "List Slicing"
      ],
      "metadata": {
        "id": "EmJ9DtG_Npzo"
      }
    },
    {
      "cell_type": "code",
      "source": [
        "loss_functions[1:4]"
      ],
      "metadata": {
        "colab": {
          "base_uri": "https://localhost:8080/"
        },
        "id": "tInPtX-7NqZY",
        "outputId": "3421d700-40e0-407c-9cbb-5eff803ca152"
      },
      "execution_count": null,
      "outputs": [
        {
          "output_type": "execute_result",
          "data": {
            "text/plain": [
              "['Mean Squared Error', 'Huber Loss', 'Log Loss']"
            ]
          },
          "metadata": {},
          "execution_count": 5
        }
      ]
    },
    {
      "cell_type": "code",
      "source": [
        "loss_functions[2:]"
      ],
      "metadata": {
        "colab": {
          "base_uri": "https://localhost:8080/"
        },
        "id": "Cc6ddmewNvDP",
        "outputId": "530b85d6-38f7-4671-cd59-13922d5c8481"
      },
      "execution_count": null,
      "outputs": [
        {
          "output_type": "execute_result",
          "data": {
            "text/plain": [
              "['Huber Loss', 'Log Loss', 'Hinge Loss']"
            ]
          },
          "metadata": {},
          "execution_count": 6
        }
      ]
    },
    {
      "cell_type": "code",
      "source": [
        "# Grab everything\n",
        "print(loss_functions[:])"
      ],
      "metadata": {
        "colab": {
          "base_uri": "https://localhost:8080/"
        },
        "id": "hKnN6JCINykI",
        "outputId": "d1e393d1-766a-40bd-b2f8-698c4fe87ac0"
      },
      "execution_count": null,
      "outputs": [
        {
          "output_type": "stream",
          "name": "stdout",
          "text": [
            "['Mean Absolute Error', 'Mean Squared Error', 'Huber Loss', 'Log Loss', 'Hinge Loss']\n"
          ]
        }
      ]
    },
    {
      "cell_type": "markdown",
      "source": [
        "List Operations"
      ],
      "metadata": {
        "id": "qkJz4upzN3ci"
      }
    },
    {
      "cell_type": "code",
      "source": [
        "#concatenate\n",
        "loss_functions + ['Kullback-Leibler']"
      ],
      "metadata": {
        "colab": {
          "base_uri": "https://localhost:8080/"
        },
        "id": "6AtmlLkHN4IZ",
        "outputId": "41c646b5-31f6-4699-bea0-09ee365d6080"
      },
      "execution_count": null,
      "outputs": [
        {
          "output_type": "execute_result",
          "data": {
            "text/plain": [
              "['Mean Absolute Error',\n",
              " 'Mean Squared Error',\n",
              " 'Huber Loss',\n",
              " 'Log Loss',\n",
              " 'Hinge Loss',\n",
              " 'Kullback-Leibler']"
            ]
          },
          "metadata": {},
          "execution_count": 8
        }
      ]
    },
    {
      "cell_type": "code",
      "source": [
        "#Note: This doesn't actually change the original list!\n",
        "print(loss_functions)"
      ],
      "metadata": {
        "colab": {
          "base_uri": "https://localhost:8080/"
        },
        "id": "o3hvwVm8OBgQ",
        "outputId": "c5d107c7-ac62-41cc-8aa1-35581dfa8105"
      },
      "execution_count": null,
      "outputs": [
        {
          "output_type": "stream",
          "name": "stdout",
          "text": [
            "['Mean Absolute Error', 'Mean Squared Error', 'Huber Loss', 'Log Loss', 'Hinge Loss']\n"
          ]
        }
      ]
    },
    {
      "cell_type": "code",
      "source": [
        "# Reassign\n",
        "loss_functions = loss_functions + ['Kullback-Leibler']"
      ],
      "metadata": {
        "id": "Uso8CGYROIV7"
      },
      "execution_count": null,
      "outputs": []
    },
    {
      "cell_type": "markdown",
      "source": [
        "List Functions"
      ],
      "metadata": {
        "id": "hPdN6W8JOiMH"
      }
    },
    {
      "cell_type": "markdown",
      "source": [
        "1. sum(list)"
      ],
      "metadata": {
        "id": "78-3lg1vOs2g"
      }
    },
    {
      "cell_type": "code",
      "source": [
        "new_list = [6, 9, 1, 3, 5.5]"
      ],
      "metadata": {
        "id": "0AECAQW9Ow7Z"
      },
      "execution_count": null,
      "outputs": []
    },
    {
      "cell_type": "code",
      "source": [
        "sum(new_list)"
      ],
      "metadata": {
        "colab": {
          "base_uri": "https://localhost:8080/"
        },
        "id": "U-MNE7ayOisf",
        "outputId": "5fba3b7b-300c-4b98-b4d2-f502d4f8a9e2"
      },
      "execution_count": null,
      "outputs": [
        {
          "output_type": "execute_result",
          "data": {
            "text/plain": [
              "24.5"
            ]
          },
          "metadata": {},
          "execution_count": 12
        }
      ]
    },
    {
      "cell_type": "markdown",
      "source": [
        "2. sorted()"
      ],
      "metadata": {
        "id": "QlV7ktP-O5NB"
      }
    },
    {
      "cell_type": "code",
      "source": [
        "sorted(new_list)"
      ],
      "metadata": {
        "colab": {
          "base_uri": "https://localhost:8080/"
        },
        "id": "szKZ9qC6O6rC",
        "outputId": "9da3bd50-f8fb-4755-d3fd-adcc4e11ebbf"
      },
      "execution_count": null,
      "outputs": [
        {
          "output_type": "execute_result",
          "data": {
            "text/plain": [
              "[1, 3, 5.5, 6, 9]"
            ]
          },
          "metadata": {},
          "execution_count": 13
        }
      ]
    },
    {
      "cell_type": "code",
      "source": [
        "#descending order\n",
        "sorted(new_list,reverse=True)"
      ],
      "metadata": {
        "colab": {
          "base_uri": "https://localhost:8080/"
        },
        "id": "_nCUtWkSPBsY",
        "outputId": "e9b3a9a9-0ada-4992-b1ba-23280544c3bf"
      },
      "execution_count": null,
      "outputs": [
        {
          "output_type": "execute_result",
          "data": {
            "text/plain": [
              "[9, 6, 5.5, 3, 1]"
            ]
          },
          "metadata": {},
          "execution_count": 14
        }
      ]
    },
    {
      "cell_type": "markdown",
      "source": [
        "List Methods"
      ],
      "metadata": {
        "id": "RW9LfbEZPNIh"
      }
    },
    {
      "cell_type": "markdown",
      "source": [
        "1. append()"
      ],
      "metadata": {
        "id": "NfBHP_56PRxQ"
      }
    },
    {
      "cell_type": "code",
      "source": [
        "my_list"
      ],
      "metadata": {
        "colab": {
          "base_uri": "https://localhost:8080/"
        },
        "id": "jRDqmPsWPNoY",
        "outputId": "c27978f3-772c-450b-ec9c-251dfef7ea21"
      },
      "execution_count": null,
      "outputs": [
        {
          "output_type": "execute_result",
          "data": {
            "text/plain": [
              "['A string', 23, 100.232, 'o', True]"
            ]
          },
          "metadata": {},
          "execution_count": 15
        }
      ]
    },
    {
      "cell_type": "code",
      "source": [
        "# Append to the end of the list\n",
        "my_list.append('Append me!')"
      ],
      "metadata": {
        "id": "mn3JA4FkPWz4"
      },
      "execution_count": null,
      "outputs": []
    },
    {
      "cell_type": "markdown",
      "source": [
        "2. extend()\n",
        "\n",
        "  Use the extend() method to merge a list to an existing list"
      ],
      "metadata": {
        "id": "H2bID51qPeaQ"
      }
    },
    {
      "cell_type": "code",
      "source": [
        "my_list"
      ],
      "metadata": {
        "colab": {
          "base_uri": "https://localhost:8080/"
        },
        "id": "ws5t-RhKPpKL",
        "outputId": "3fc7769a-a91f-4712-f1b8-eca23b755dfe"
      },
      "execution_count": null,
      "outputs": [
        {
          "output_type": "execute_result",
          "data": {
            "text/plain": [
              "['A string', 23, 100.232, 'o', True, 'Append me!']"
            ]
          },
          "metadata": {},
          "execution_count": 17
        }
      ]
    },
    {
      "cell_type": "code",
      "source": [
        "my_list.extend(['Wubba','Lubba','Dub Dub'])"
      ],
      "metadata": {
        "id": "kboPcss7PkvA"
      },
      "execution_count": null,
      "outputs": []
    },
    {
      "cell_type": "code",
      "source": [
        "my_list"
      ],
      "metadata": {
        "colab": {
          "base_uri": "https://localhost:8080/"
        },
        "id": "sreiJdcJPqRi",
        "outputId": "2921421a-954d-4cb7-8a16-873bbfc4e417"
      },
      "execution_count": null,
      "outputs": [
        {
          "output_type": "execute_result",
          "data": {
            "text/plain": [
              "['A string', 23, 100.232, 'o', True, 'Append me!', 'Wubba', 'Lubba', 'Dub Dub']"
            ]
          },
          "metadata": {},
          "execution_count": 19
        }
      ]
    },
    {
      "cell_type": "markdown",
      "source": [
        "3. pop()"
      ],
      "metadata": {
        "id": "tPcP9WlFPv93"
      }
    },
    {
      "cell_type": "code",
      "source": [
        "my_list"
      ],
      "metadata": {
        "colab": {
          "base_uri": "https://localhost:8080/"
        },
        "id": "vvZcWsB6P6Kv",
        "outputId": "044fe571-30c9-478a-e17e-6a1cebcffe7d"
      },
      "execution_count": null,
      "outputs": [
        {
          "output_type": "execute_result",
          "data": {
            "text/plain": [
              "['A string', 23, 100.232, 'o', True, 'Append me!', 'Wubba', 'Lubba', 'Dub Dub']"
            ]
          },
          "metadata": {},
          "execution_count": 20
        }
      ]
    },
    {
      "cell_type": "code",
      "source": [
        "#Last index is default pop element\n",
        "my_list.pop()"
      ],
      "metadata": {
        "colab": {
          "base_uri": "https://localhost:8080/",
          "height": 35
        },
        "id": "e2NkXFyWP6Qd",
        "outputId": "b0a566f7-4036-4084-f1f1-541382bee48c"
      },
      "execution_count": null,
      "outputs": [
        {
          "output_type": "execute_result",
          "data": {
            "text/plain": [
              "'Dub Dub'"
            ],
            "application/vnd.google.colaboratory.intrinsic+json": {
              "type": "string"
            }
          },
          "metadata": {},
          "execution_count": 21
        }
      ]
    },
    {
      "cell_type": "code",
      "source": [
        "my_list"
      ],
      "metadata": {
        "colab": {
          "base_uri": "https://localhost:8080/"
        },
        "id": "OzYHsn99P9d8",
        "outputId": "5164517a-ed09-4a52-8f3c-43c02d763c20"
      },
      "execution_count": null,
      "outputs": [
        {
          "output_type": "execute_result",
          "data": {
            "text/plain": [
              "['A string', 23, 100.232, 'o', True, 'Append me!', 'Wubba', 'Lubba']"
            ]
          },
          "metadata": {},
          "execution_count": 22
        }
      ]
    },
    {
      "cell_type": "markdown",
      "source": [
        "4. remove()"
      ],
      "metadata": {
        "id": "Gfwc2iouQJFu"
      }
    },
    {
      "cell_type": "code",
      "source": [
        "my_list.remove(\"A string\")"
      ],
      "metadata": {
        "id": "gZnGtvr2QKC6"
      },
      "execution_count": null,
      "outputs": []
    },
    {
      "cell_type": "code",
      "source": [
        "my_list"
      ],
      "metadata": {
        "colab": {
          "base_uri": "https://localhost:8080/"
        },
        "id": "AquMH8n4QWLP",
        "outputId": "b59fb914-b37d-4671-c6dc-3be59eb84a9f"
      },
      "execution_count": null,
      "outputs": [
        {
          "output_type": "execute_result",
          "data": {
            "text/plain": [
              "[23, 100.232, 'o', True, 'Append me!', 'Wubba', 'Lubba']"
            ]
          },
          "metadata": {},
          "execution_count": 25
        }
      ]
    },
    {
      "cell_type": "markdown",
      "source": [
        "5. reverse()"
      ],
      "metadata": {
        "id": "plofcdxbQbgI"
      }
    },
    {
      "cell_type": "code",
      "source": [
        "my_list"
      ],
      "metadata": {
        "colab": {
          "base_uri": "https://localhost:8080/"
        },
        "id": "0qYJLeXwQce0",
        "outputId": "fc72f958-48bf-449e-f2e3-4f90bc2ba8a5"
      },
      "execution_count": null,
      "outputs": [
        {
          "output_type": "execute_result",
          "data": {
            "text/plain": [
              "[23, 100.232, 'o', True, 'Append me!', 'Wubba', 'Lubba']"
            ]
          },
          "metadata": {},
          "execution_count": 26
        }
      ]
    },
    {
      "cell_type": "code",
      "source": [
        "my_list.reverse()"
      ],
      "metadata": {
        "id": "lKXaajCQQeth"
      },
      "execution_count": null,
      "outputs": []
    },
    {
      "cell_type": "code",
      "source": [
        "my_list"
      ],
      "metadata": {
        "id": "YAYJFEIpQkxo",
        "outputId": "45aaea8a-9b78-4e89-a7a7-eabf2e0ca65b",
        "colab": {
          "base_uri": "https://localhost:8080/"
        }
      },
      "execution_count": null,
      "outputs": [
        {
          "output_type": "execute_result",
          "data": {
            "text/plain": [
              "['Lubba', 'Wubba', 'Append me!', True, 'o', 100.232, 23]"
            ]
          },
          "metadata": {},
          "execution_count": 28
        }
      ]
    },
    {
      "cell_type": "markdown",
      "source": [
        "# **Tuples**"
      ],
      "metadata": {
        "id": "BAYgJQNzHxgo"
      }
    },
    {
      "cell_type": "code",
      "source": [
        "# Create a tuple\n",
        "my_tuple = (1,'a',3)"
      ],
      "metadata": {
        "id": "rriAgwFcH_Oy"
      },
      "execution_count": null,
      "outputs": []
    },
    {
      "cell_type": "code",
      "source": [
        "print(my_tuple)"
      ],
      "metadata": {
        "colab": {
          "base_uri": "https://localhost:8080/"
        },
        "id": "H5W943LQICgx",
        "outputId": "75fa3f4d-9331-4f70-ceea-e6483cf63d94"
      },
      "execution_count": null,
      "outputs": [
        {
          "output_type": "stream",
          "name": "stdout",
          "text": [
            "(1, 'a', 3)\n"
          ]
        }
      ]
    },
    {
      "cell_type": "markdown",
      "source": [
        "Tuple Indexing"
      ],
      "metadata": {
        "id": "aN7xCOByIK9s"
      }
    },
    {
      "cell_type": "code",
      "source": [
        "my_tuple[0]"
      ],
      "metadata": {
        "colab": {
          "base_uri": "https://localhost:8080/"
        },
        "id": "KMOlJ5j2IL2N",
        "outputId": "96be30b7-0118-4ef7-9f4a-5c88b51a5b01"
      },
      "execution_count": null,
      "outputs": [
        {
          "output_type": "execute_result",
          "data": {
            "text/plain": [
              "1"
            ]
          },
          "metadata": {},
          "execution_count": 3
        }
      ]
    },
    {
      "cell_type": "code",
      "source": [
        "my_tuple[-1]"
      ],
      "metadata": {
        "colab": {
          "base_uri": "https://localhost:8080/"
        },
        "id": "9JPqeJIIITzL",
        "outputId": "50ca33a5-a3b6-42fe-fceb-6f1ab5061bd5"
      },
      "execution_count": null,
      "outputs": [
        {
          "output_type": "execute_result",
          "data": {
            "text/plain": [
              "3"
            ]
          },
          "metadata": {},
          "execution_count": 4
        }
      ]
    },
    {
      "cell_type": "markdown",
      "source": [
        "Tuple Slicing"
      ],
      "metadata": {
        "id": "69AfLxiOIYlE"
      }
    },
    {
      "cell_type": "code",
      "source": [
        "my_tuple[:]"
      ],
      "metadata": {
        "colab": {
          "base_uri": "https://localhost:8080/"
        },
        "id": "OWEdPtHCIZWN",
        "outputId": "6113ad61-ca05-490d-a777-10d416266f81"
      },
      "execution_count": null,
      "outputs": [
        {
          "output_type": "execute_result",
          "data": {
            "text/plain": [
              "(1, 'a', 3)"
            ]
          },
          "metadata": {},
          "execution_count": 5
        }
      ]
    },
    {
      "cell_type": "code",
      "source": [
        "my_tuple[1:]"
      ],
      "metadata": {
        "colab": {
          "base_uri": "https://localhost:8080/"
        },
        "id": "xggtdgyLIjRM",
        "outputId": "fcc0d249-051c-4d70-99c9-571084a487e5"
      },
      "execution_count": null,
      "outputs": [
        {
          "output_type": "execute_result",
          "data": {
            "text/plain": [
              "('a', 3)"
            ]
          },
          "metadata": {},
          "execution_count": 6
        }
      ]
    },
    {
      "cell_type": "markdown",
      "source": [
        "Tuple Methods"
      ],
      "metadata": {
        "id": "oa3whzaJIsJ3"
      }
    },
    {
      "cell_type": "markdown",
      "source": [
        "1) Index"
      ],
      "metadata": {
        "id": "BCYQKKMAI1Dz"
      }
    },
    {
      "cell_type": "code",
      "source": [
        "my_tuple =(1,2,3,4,5,6,1,1,2)\n",
        "my_tuple.index(2)"
      ],
      "metadata": {
        "colab": {
          "base_uri": "https://localhost:8080/"
        },
        "id": "fGhEL3nVIsvK",
        "outputId": "49fab787-534c-4d7c-fd8b-8cc884c394aa"
      },
      "execution_count": null,
      "outputs": [
        {
          "output_type": "execute_result",
          "data": {
            "text/plain": [
              "1"
            ]
          },
          "metadata": {},
          "execution_count": 7
        }
      ]
    },
    {
      "cell_type": "markdown",
      "source": [
        "2) Count"
      ],
      "metadata": {
        "id": "yLeb9jBpI4LX"
      }
    },
    {
      "cell_type": "code",
      "source": [
        "my_tuple.count(2)"
      ],
      "metadata": {
        "colab": {
          "base_uri": "https://localhost:8080/"
        },
        "id": "VfKl-PomI8Yw",
        "outputId": "7b1cc66c-140f-4579-eb1d-e92f1403d9b7"
      },
      "execution_count": null,
      "outputs": [
        {
          "output_type": "execute_result",
          "data": {
            "text/plain": [
              "2"
            ]
          },
          "metadata": {},
          "execution_count": 8
        }
      ]
    },
    {
      "cell_type": "markdown",
      "source": [
        "Immutability"
      ],
      "metadata": {
        "id": "8tZNRnxaJEyj"
      }
    },
    {
      "cell_type": "code",
      "source": [
        "my_tuple[0] = 'change'"
      ],
      "metadata": {
        "colab": {
          "base_uri": "https://localhost:8080/",
          "height": 176
        },
        "id": "5otqmWNHJFbp",
        "outputId": "fc47f770-7f80-4a44-bb7a-8e9e831f673a"
      },
      "execution_count": null,
      "outputs": [
        {
          "output_type": "error",
          "ename": "TypeError",
          "evalue": "ignored",
          "traceback": [
            "\u001b[0;31m---------------------------------------------------------------------------\u001b[0m",
            "\u001b[0;31mTypeError\u001b[0m                                 Traceback (most recent call last)",
            "\u001b[0;32m<ipython-input-9-1113c19e61ee>\u001b[0m in \u001b[0;36m<cell line: 1>\u001b[0;34m()\u001b[0m\n\u001b[0;32m----> 1\u001b[0;31m \u001b[0mmy_tuple\u001b[0m\u001b[0;34m[\u001b[0m\u001b[0;36m0\u001b[0m\u001b[0;34m]\u001b[0m \u001b[0;34m=\u001b[0m \u001b[0;34m'change'\u001b[0m\u001b[0;34m\u001b[0m\u001b[0;34m\u001b[0m\u001b[0m\n\u001b[0m",
            "\u001b[0;31mTypeError\u001b[0m: 'tuple' object does not support item assignment"
          ]
        }
      ]
    },
    {
      "cell_type": "markdown",
      "source": [
        "3) zip()"
      ],
      "metadata": {
        "id": "uJRMH0ANJa9z"
      }
    },
    {
      "cell_type": "code",
      "source": [
        "city_list = ['Delhi','Patna','Cuttack','Guwahati']\n",
        "river_list = ['Yamuna','Ganga','Mahanadi','Brahmaputra']"
      ],
      "metadata": {
        "id": "7pznqkVdJIsa"
      },
      "execution_count": null,
      "outputs": []
    },
    {
      "cell_type": "code",
      "source": [
        "zip(city_list, river_list)"
      ],
      "metadata": {
        "colab": {
          "base_uri": "https://localhost:8080/"
        },
        "id": "r_WNqno2JhWk",
        "outputId": "4ab83b90-0ceb-4928-bbb8-ca64eef19d1e"
      },
      "execution_count": null,
      "outputs": [
        {
          "output_type": "execute_result",
          "data": {
            "text/plain": [
              "<zip at 0x7c36e4d71dc0>"
            ]
          },
          "metadata": {},
          "execution_count": 11
        }
      ]
    },
    {
      "cell_type": "code",
      "source": [
        "print(zip(city_list, river_list))"
      ],
      "metadata": {
        "colab": {
          "base_uri": "https://localhost:8080/"
        },
        "id": "XLcZcUzZJjdT",
        "outputId": "20974ea7-f7f0-4327-e69b-3171c2ec841f"
      },
      "execution_count": null,
      "outputs": [
        {
          "output_type": "stream",
          "name": "stdout",
          "text": [
            "<zip object at 0x7c36e4d30500>\n"
          ]
        }
      ]
    },
    {
      "cell_type": "code",
      "source": [
        "city_and_their_rivers = list(zip(city_list,river_list))"
      ],
      "metadata": {
        "id": "v5WUDFdEJfjj"
      },
      "execution_count": null,
      "outputs": []
    },
    {
      "cell_type": "code",
      "source": [
        "city_and_their_rivers"
      ],
      "metadata": {
        "colab": {
          "base_uri": "https://localhost:8080/"
        },
        "id": "GvQGpoHBJs37",
        "outputId": "1e4b520d-e93a-4181-8ec6-07ff24d258ff"
      },
      "execution_count": null,
      "outputs": [
        {
          "output_type": "execute_result",
          "data": {
            "text/plain": [
              "[('Delhi', 'Yamuna'),\n",
              " ('Patna', 'Ganga'),\n",
              " ('Cuttack', 'Mahanadi'),\n",
              " ('Guwahati', 'Brahmaputra')]"
            ]
          },
          "metadata": {},
          "execution_count": 15
        }
      ]
    },
    {
      "cell_type": "markdown",
      "source": [
        "# **Sets**"
      ],
      "metadata": {
        "id": "Ti_QkF8lJ69M"
      }
    },
    {
      "cell_type": "code",
      "source": [
        "my_list = [1 ,2, 23, 3 ,56]\n",
        "my_set = set(my_list) # unordered Property\n",
        "my_set # Hash Table"
      ],
      "metadata": {
        "id": "6v8XemLwJ8VM",
        "colab": {
          "base_uri": "https://localhost:8080/"
        },
        "outputId": "a438a9f1-c1ce-41c3-cf93-8235b89fb8ba"
      },
      "execution_count": null,
      "outputs": [
        {
          "output_type": "execute_result",
          "data": {
            "text/plain": [
              "{1, 2, 3, 23, 56}"
            ]
          },
          "metadata": {},
          "execution_count": 1
        }
      ]
    },
    {
      "cell_type": "code",
      "source": [
        "# We add to sets with the add() method\n",
        "my_set = set() # empty Set\n",
        "my_set.add('a')"
      ],
      "metadata": {
        "id": "nAt9dDI9arQR"
      },
      "execution_count": null,
      "outputs": []
    },
    {
      "cell_type": "code",
      "source": [
        "my_set = {5,7,9,3}"
      ],
      "metadata": {
        "id": "zE1FtExMa96V"
      },
      "execution_count": null,
      "outputs": []
    },
    {
      "cell_type": "code",
      "source": [
        "# add multiple elements\n",
        "add_list = [2, 3, 4]\n",
        "my_set.update(add_list)\n",
        "print(my_set)"
      ],
      "metadata": {
        "colab": {
          "base_uri": "https://localhost:8080/"
        },
        "id": "2OtzgVbZbABC",
        "outputId": "4955836e-8c97-4708-b367-a38988ee6d52"
      },
      "execution_count": null,
      "outputs": [
        {
          "output_type": "stream",
          "name": "stdout",
          "text": [
            "{2, 3, 4, 5, 7, 9}\n"
          ]
        }
      ]
    },
    {
      "cell_type": "markdown",
      "source": [
        "Remove()"
      ],
      "metadata": {
        "id": "-bx1qCWAbJgy"
      }
    },
    {
      "cell_type": "code",
      "source": [
        "non_empty_set = {1, 5, 6, 73, 2}"
      ],
      "metadata": {
        "id": "1YjY0Ja8bKYA"
      },
      "execution_count": null,
      "outputs": []
    },
    {
      "cell_type": "code",
      "source": [
        "non_empty_set.remove(5)\n"
      ],
      "metadata": {
        "id": "GinXvjFUbOiO"
      },
      "execution_count": null,
      "outputs": []
    },
    {
      "cell_type": "code",
      "source": [
        "non_empty_set"
      ],
      "metadata": {
        "colab": {
          "base_uri": "https://localhost:8080/"
        },
        "id": "S4CJf60wbVfz",
        "outputId": "f6d51cfc-a60a-44b2-c391-3904adae92b3"
      },
      "execution_count": null,
      "outputs": [
        {
          "output_type": "execute_result",
          "data": {
            "text/plain": [
              "{1, 2, 6, 73}"
            ]
          },
          "metadata": {},
          "execution_count": 11
        }
      ]
    },
    {
      "cell_type": "markdown",
      "source": [
        "union()"
      ],
      "metadata": {
        "id": "s3VOxtxWbY3j"
      }
    },
    {
      "cell_type": "code",
      "source": [
        "# Initialize sets A and B\n",
        "A = {1, 2, 3, 4, 5}\n",
        "\n",
        "B = {4, 5, 6, 7, 8}"
      ],
      "metadata": {
        "id": "4mLia_YBbbS9"
      },
      "execution_count": null,
      "outputs": []
    },
    {
      "cell_type": "code",
      "source": [
        "A | B"
      ],
      "metadata": {
        "colab": {
          "base_uri": "https://localhost:8080/"
        },
        "id": "icjYokqsbhR6",
        "outputId": "c3771d43-e7b8-47af-9d7c-7b6197add7e9"
      },
      "execution_count": null,
      "outputs": [
        {
          "output_type": "execute_result",
          "data": {
            "text/plain": [
              "{1, 2, 3, 4, 5, 6, 7, 8}"
            ]
          },
          "metadata": {},
          "execution_count": 13
        }
      ]
    },
    {
      "cell_type": "code",
      "source": [
        "A.union(B)"
      ],
      "metadata": {
        "colab": {
          "base_uri": "https://localhost:8080/"
        },
        "id": "-tTEUqK7bitS",
        "outputId": "06ee2e6e-1d24-4d44-dbb8-45634a6269f5"
      },
      "execution_count": null,
      "outputs": [
        {
          "output_type": "execute_result",
          "data": {
            "text/plain": [
              "{1, 2, 3, 4, 5, 6, 7, 8}"
            ]
          },
          "metadata": {},
          "execution_count": 14
        }
      ]
    },
    {
      "cell_type": "markdown",
      "source": [
        "intersection()"
      ],
      "metadata": {
        "id": "JO8ZrGoHbm4i"
      }
    },
    {
      "cell_type": "code",
      "source": [
        "A = {1, 2, 3, 4, 5}\n",
        "B = {4, 5, 6, 7, 8}"
      ],
      "metadata": {
        "id": "jaEPmrvQbmMV"
      },
      "execution_count": null,
      "outputs": []
    },
    {
      "cell_type": "code",
      "source": [
        "A & B"
      ],
      "metadata": {
        "colab": {
          "base_uri": "https://localhost:8080/"
        },
        "id": "UIVpnRAAbtVf",
        "outputId": "ccbc06f6-dc4f-407e-d026-ea0286eacf78"
      },
      "execution_count": null,
      "outputs": [
        {
          "output_type": "execute_result",
          "data": {
            "text/plain": [
              "{4, 5}"
            ]
          },
          "metadata": {},
          "execution_count": 17
        }
      ]
    },
    {
      "cell_type": "code",
      "source": [
        "A.intersection(B)"
      ],
      "metadata": {
        "colab": {
          "base_uri": "https://localhost:8080/"
        },
        "id": "q122P1qRbrU5",
        "outputId": "067abb51-6db3-4077-b6fb-55c478c0e8ca"
      },
      "execution_count": null,
      "outputs": [
        {
          "output_type": "execute_result",
          "data": {
            "text/plain": [
              "{4, 5}"
            ]
          },
          "metadata": {},
          "execution_count": 18
        }
      ]
    },
    {
      "cell_type": "markdown",
      "source": [
        "Difference()"
      ],
      "metadata": {
        "id": "EKEj4WDnb0pT"
      }
    },
    {
      "cell_type": "code",
      "source": [
        "A = {1, 2, 3, 4, 5}\n",
        "\n",
        "B = {4, 5, 6, 7, 8}"
      ],
      "metadata": {
        "id": "cnT60D3mb28Q"
      },
      "execution_count": null,
      "outputs": []
    },
    {
      "cell_type": "code",
      "source": [
        "A - B"
      ],
      "metadata": {
        "colab": {
          "base_uri": "https://localhost:8080/"
        },
        "id": "PyQtLto9b4el",
        "outputId": "abf482b7-8ad7-4a3f-8671-af240512e862"
      },
      "execution_count": null,
      "outputs": [
        {
          "output_type": "execute_result",
          "data": {
            "text/plain": [
              "{1, 2, 3}"
            ]
          },
          "metadata": {},
          "execution_count": 20
        }
      ]
    },
    {
      "cell_type": "code",
      "source": [
        "A.difference(B)"
      ],
      "metadata": {
        "colab": {
          "base_uri": "https://localhost:8080/"
        },
        "id": "R_U28-Glb6Sw",
        "outputId": "78d48245-1157-41f3-9e3a-6ba2518c4121"
      },
      "execution_count": null,
      "outputs": [
        {
          "output_type": "execute_result",
          "data": {
            "text/plain": [
              "{1, 2, 3}"
            ]
          },
          "metadata": {},
          "execution_count": 21
        }
      ]
    },
    {
      "cell_type": "code",
      "source": [
        "B - A"
      ],
      "metadata": {
        "colab": {
          "base_uri": "https://localhost:8080/"
        },
        "id": "svw0NvaXb8fQ",
        "outputId": "f1ed4066-cb25-410c-a7ff-488084799828"
      },
      "execution_count": null,
      "outputs": [
        {
          "output_type": "execute_result",
          "data": {
            "text/plain": [
              "{6, 7, 8}"
            ]
          },
          "metadata": {},
          "execution_count": 22
        }
      ]
    },
    {
      "cell_type": "code",
      "source": [
        "B.difference(A)"
      ],
      "metadata": {
        "colab": {
          "base_uri": "https://localhost:8080/"
        },
        "id": "B3DRKmY3cAg-",
        "outputId": "2188e2b9-0baa-4ff6-c65f-1b049bccba7a"
      },
      "execution_count": null,
      "outputs": [
        {
          "output_type": "execute_result",
          "data": {
            "text/plain": [
              "{6, 7, 8}"
            ]
          },
          "metadata": {},
          "execution_count": 23
        }
      ]
    },
    {
      "cell_type": "markdown",
      "source": [
        "symmetric_difference()"
      ],
      "metadata": {
        "id": "8jebEp-8cIHs"
      }
    },
    {
      "cell_type": "code",
      "source": [
        "A = {1, 2, 3, 4, 5}\n",
        "B = {4, 5, 6, 7, 8}"
      ],
      "metadata": {
        "id": "XaJ5b5gXcLF8"
      },
      "execution_count": null,
      "outputs": []
    },
    {
      "cell_type": "code",
      "source": [
        "A^B"
      ],
      "metadata": {
        "colab": {
          "base_uri": "https://localhost:8080/"
        },
        "id": "IaeJAaYXcMVh",
        "outputId": "b8e47383-ae74-40b7-fcac-2ef4a2c7f8b2"
      },
      "execution_count": null,
      "outputs": [
        {
          "output_type": "execute_result",
          "data": {
            "text/plain": [
              "{1, 2, 3, 6, 7, 8}"
            ]
          },
          "metadata": {},
          "execution_count": 25
        }
      ]
    },
    {
      "cell_type": "code",
      "source": [
        "A.symmetric_difference(B)"
      ],
      "metadata": {
        "colab": {
          "base_uri": "https://localhost:8080/"
        },
        "id": "__lRXIYYcQZd",
        "outputId": "16a24e51-bcc2-4b66-8ce3-0acc842f8840"
      },
      "execution_count": null,
      "outputs": [
        {
          "output_type": "execute_result",
          "data": {
            "text/plain": [
              "{1, 2, 3, 6, 7, 8}"
            ]
          },
          "metadata": {},
          "execution_count": 26
        }
      ]
    },
    {
      "cell_type": "markdown",
      "source": [
        "# **Dictionaries**"
      ],
      "metadata": {
        "id": "SA-fwHN-caPs"
      }
    },
    {
      "cell_type": "markdown",
      "source": [
        "# Dictionaries\n",
        "\n",
        "* We've been learning about *sequences* in Python but now we're going to switch gears and learn about *mappings* in Python.\n",
        "\n",
        "\n",
        "* If you're familiar with other languages you can think of these Dictionaries as hash tables.\n",
        "\n",
        "\n",
        "* So what are mappings? Mappings are a collection of objects that are stored by a *key*, unlike a sequence that stored objects by their relative position. This is an important distinction, since mappings won't retain order since they have objects defined by a key.\n",
        "\n",
        "\n",
        "* A Python dictionary consists of a key and then an associated value. That value can be almost any Python object. So a dictionary object always has elements as key-value pairs\n",
        "\n",
        "\n",
        "## Constructing a Dictionary\n",
        "\n",
        "\n",
        "* A dictionary object is constructed using curly braces <code>{key1:value1,key2:value2,key3:value3}</code>"
      ],
      "metadata": {
        "id": "1tafulBk-n9Z"
      }
    },
    {
      "cell_type": "code",
      "source": [
        "marvel_dict = {'Name':'Thor','Place':'Asgard','Weapon' : 'Hammer', 1:2, 3 : 'power', 'alibies' : ['Ironman','Captain America'], 'abc' : {1:2, 4:5}}"
      ],
      "metadata": {
        "id": "Llrixr2Ackpn"
      },
      "execution_count": null,
      "outputs": []
    },
    {
      "cell_type": "code",
      "source": [
        "# Call values by their key\n",
        "marvel_dict['Place']"
      ],
      "metadata": {
        "colab": {
          "base_uri": "https://localhost:8080/",
          "height": 35
        },
        "id": "3dV-rWfD-vwq",
        "outputId": "6b244f3e-9fb6-4c65-ffb2-0d169fb06449"
      },
      "execution_count": null,
      "outputs": [
        {
          "output_type": "execute_result",
          "data": {
            "text/plain": [
              "'Asgard'"
            ],
            "application/vnd.google.colaboratory.intrinsic+json": {
              "type": "string"
            }
          },
          "metadata": {},
          "execution_count": 2
        }
      ]
    },
    {
      "cell_type": "code",
      "source": [
        "type(marvel_dict)"
      ],
      "metadata": {
        "colab": {
          "base_uri": "https://localhost:8080/"
        },
        "id": "xBUwA982-wEQ",
        "outputId": "eb8ccf03-88fc-4e9a-ca54-0baf0bb80491"
      },
      "execution_count": null,
      "outputs": [
        {
          "output_type": "execute_result",
          "data": {
            "text/plain": [
              "dict"
            ]
          },
          "metadata": {},
          "execution_count": 3
        }
      ]
    },
    {
      "cell_type": "code",
      "source": [
        "marvel_dict['Name']"
      ],
      "metadata": {
        "colab": {
          "base_uri": "https://localhost:8080/",
          "height": 35
        },
        "id": "9LXTZiLs-2mq",
        "outputId": "2eb4d87c-7f84-4671-c994-d09bb2281192"
      },
      "execution_count": null,
      "outputs": [
        {
          "output_type": "execute_result",
          "data": {
            "text/plain": [
              "'Thor'"
            ],
            "application/vnd.google.colaboratory.intrinsic+json": {
              "type": "string"
            }
          },
          "metadata": {},
          "execution_count": 4
        }
      ]
    },
    {
      "cell_type": "markdown",
      "source": [
        "# **Dictionary Methods**"
      ],
      "metadata": {
        "id": "WbH-BRsu-7lK"
      }
    },
    {
      "cell_type": "markdown",
      "source": [
        "keys()"
      ],
      "metadata": {
        "id": "jRX8mhW3-_Fa"
      }
    },
    {
      "cell_type": "code",
      "source": [
        "marvel_dict.keys()"
      ],
      "metadata": {
        "colab": {
          "base_uri": "https://localhost:8080/"
        },
        "id": "AZih91ZN-8Rm",
        "outputId": "2927ac38-eea4-4a5d-c8a4-80f8574653a3"
      },
      "execution_count": null,
      "outputs": [
        {
          "output_type": "execute_result",
          "data": {
            "text/plain": [
              "dict_keys(['Name', 'Place', 'Weapon', 1, 3, 'alibies', 'abc'])"
            ]
          },
          "metadata": {},
          "execution_count": 5
        }
      ]
    },
    {
      "cell_type": "markdown",
      "source": [
        "values()"
      ],
      "metadata": {
        "id": "Lr-zz2G8_IZ1"
      }
    },
    {
      "cell_type": "code",
      "source": [
        "list(marvel_dict.values())"
      ],
      "metadata": {
        "colab": {
          "base_uri": "https://localhost:8080/"
        },
        "id": "APPejdXj_K6f",
        "outputId": "45f4d8a1-e08c-4dba-96cd-176e3d339ece"
      },
      "execution_count": null,
      "outputs": [
        {
          "output_type": "execute_result",
          "data": {
            "text/plain": [
              "['Thor',\n",
              " 'Asgard',\n",
              " 'Hammer',\n",
              " 2,\n",
              " 'power',\n",
              " ['Ironman', 'Captain America'],\n",
              " {1: 2, 4: 5}]"
            ]
          },
          "metadata": {},
          "execution_count": 6
        }
      ]
    },
    {
      "cell_type": "markdown",
      "source": [
        "items()"
      ],
      "metadata": {
        "id": "7Lx3Xqmf_SO-"
      }
    },
    {
      "cell_type": "code",
      "source": [
        "# Get the keys and their corresponding values\n",
        "list(marvel_dict.items()) # Dict in the list form"
      ],
      "metadata": {
        "colab": {
          "base_uri": "https://localhost:8080/"
        },
        "id": "LX7Z2hT7_S8F",
        "outputId": "11b2a517-729c-4651-d257-1aad19523dda"
      },
      "execution_count": null,
      "outputs": [
        {
          "output_type": "execute_result",
          "data": {
            "text/plain": [
              "[('Name', 'Thor'),\n",
              " ('Place', 'Asgard'),\n",
              " ('Weapon', 'Hammer'),\n",
              " (1, 2),\n",
              " (3, 'power'),\n",
              " ('alibies', ['Ironman', 'Captain America']),\n",
              " ('abc', {1: 2, 4: 5})]"
            ]
          },
          "metadata": {},
          "execution_count": 7
        }
      ]
    },
    {
      "cell_type": "markdown",
      "source": [
        "update()"
      ],
      "metadata": {
        "id": "RaXZPC4gpiFf"
      }
    },
    {
      "cell_type": "code",
      "source": [
        "marvel_dict.update({'Place':'Earth'})\n",
        "marvel_dict"
      ],
      "metadata": {
        "colab": {
          "base_uri": "https://localhost:8080/"
        },
        "id": "c1yWN8JopoNR",
        "outputId": "aa132e2e-47e7-4324-95b0-1501efb0c081"
      },
      "execution_count": null,
      "outputs": [
        {
          "output_type": "execute_result",
          "data": {
            "text/plain": [
              "{'Name': 'Thor',\n",
              " 'Place': 'Earth',\n",
              " 'Weapon': 'Hammer',\n",
              " 1: 2,\n",
              " 3: 'power',\n",
              " 'alibies': ['Ironman', 'Captain America'],\n",
              " 'abc': {1: 2, 4: 5}}"
            ]
          },
          "metadata": {},
          "execution_count": 4
        }
      ]
    },
    {
      "cell_type": "markdown",
      "source": [
        "# Python Comments"
      ],
      "metadata": {
        "id": "_VV0wAaN0Z2h"
      }
    },
    {
      "cell_type": "markdown",
      "source": [
        "\n",
        "\n",
        "*   Comments are very important while writing a program. They describe what is going on inside a program, so that a person looking at the source code does not have a hard time figuring it out.\n",
        "\n",
        "*   You might forget the key details of the program you just wrote in a month's time. So taking the time to explain these concepts in the form of comments is always fruitful.\n",
        "\n",
        "\n",
        "*   In Python, we use the hash (#) symbol to start writing a comment.\n",
        "It extends up to the newline character. Comments are for programmers to better understand a program. Python Interpreter ignores comments.\n",
        "\n",
        "\n",
        "\n"
      ],
      "metadata": {
        "id": "zKnIqsaQ0bdo"
      }
    },
    {
      "cell_type": "code",
      "source": [
        "# This is a comment\n",
        "# print('Hello')\n",
        "print('Hello')"
      ],
      "metadata": {
        "colab": {
          "base_uri": "https://localhost:8080/"
        },
        "id": "JVSSzA0b0-H2",
        "outputId": "c65bcd21-151e-4098-f67f-78d6de465b4d"
      },
      "execution_count": null,
      "outputs": [
        {
          "output_type": "stream",
          "name": "stdout",
          "text": [
            "Hello\n"
          ]
        }
      ]
    },
    {
      "cell_type": "markdown",
      "source": [
        "\n",
        "\n",
        "*   We can have comments that extend up to multiple lines. One way is to use the hash(#) symbol at the beginning of each line. For example:\n",
        "\n"
      ],
      "metadata": {
        "id": "oO46Txbi00fp"
      }
    },
    {
      "cell_type": "code",
      "source": [
        "# This is a long comment\n",
        "# and it extends\n",
        "# to multiple lines"
      ],
      "metadata": {
        "id": "-8-eP1ht1IQL"
      },
      "execution_count": null,
      "outputs": []
    },
    {
      "cell_type": "markdown",
      "source": [
        "\n",
        "\n",
        "*   Another way of doing this is to use triple quotes, either ''' or \"\"\".\n",
        "\n",
        "*   These triple quotes are generally used for multi-line strings. But they can be used as a multi-line comment as well. Unless they are not docstrings, they do not generate any extra code.\n",
        "\n"
      ],
      "metadata": {
        "id": "tNk-AlPe1Kwh"
      }
    },
    {
      "cell_type": "code",
      "source": [
        "'''This is also a\n",
        "perfect example of\n",
        "ahjcdjh\n",
        "sdjbdkjas\n",
        "mnbscjsab\n",
        "bkjabfa\n",
        "multi-line comments'''\n",
        "\n",
        "a = 3\n",
        "print(a)"
      ],
      "metadata": {
        "colab": {
          "base_uri": "https://localhost:8080/"
        },
        "id": "1NaJsdgD1UE5",
        "outputId": "cee453d3-826e-4607-e7e8-80c9aa641945"
      },
      "execution_count": null,
      "outputs": [
        {
          "output_type": "stream",
          "name": "stdout",
          "text": [
            "3\n"
          ]
        }
      ]
    },
    {
      "cell_type": "markdown",
      "source": [
        "# Indentation in Python\n",
        "\n",
        "\n"
      ],
      "metadata": {
        "id": "4LxdL1L_1gIO"
      }
    },
    {
      "cell_type": "markdown",
      "source": [
        "It is important to keep a good understanding of how indentation works in Python to maintain the structure and order of your code. We will touch on this topic again when we start building out functions!"
      ],
      "metadata": {
        "id": "Vvg8EsHQ1rYF"
      }
    },
    {
      "cell_type": "markdown",
      "source": [
        "# **Loops**"
      ],
      "metadata": {
        "id": "NfUGqyXfAuZf"
      }
    },
    {
      "cell_type": "markdown",
      "source": [
        "### For - Loop"
      ],
      "metadata": {
        "id": "z6LrwIdKAzOA"
      }
    },
    {
      "cell_type": "code",
      "source": [
        "for i in range(1,10):\n",
        "  print(i, end=\" \")\n",
        "\n",
        "print()\n",
        "# Negative looping\n",
        "for i in range(10,0,-1):\n",
        "  print(i, end=\" \")"
      ],
      "metadata": {
        "colab": {
          "base_uri": "https://localhost:8080/"
        },
        "id": "_WMTIV4jA2D1",
        "outputId": "c3abed81-cb9f-4733-eb4c-5d1fe8c2a241"
      },
      "execution_count": null,
      "outputs": [
        {
          "output_type": "stream",
          "name": "stdout",
          "text": [
            "1 2 3 4 5 6 7 8 9 \n",
            "10 9 8 7 6 5 4 3 2 1 "
          ]
        }
      ]
    },
    {
      "cell_type": "code",
      "source": [
        "for i in range(1,10):\n",
        "  print(i, end=\"\")\n"
      ],
      "metadata": {
        "colab": {
          "base_uri": "https://localhost:8080/"
        },
        "id": "HQGs_CMUDZCr",
        "outputId": "60174403-a16c-4845-a4e9-89e2829d3ca7"
      },
      "execution_count": null,
      "outputs": [
        {
          "output_type": "stream",
          "name": "stdout",
          "text": [
            "123456789"
          ]
        }
      ]
    },
    {
      "cell_type": "code",
      "source": [
        "for i in range(1,10):\n",
        "  print(i)"
      ],
      "metadata": {
        "colab": {
          "base_uri": "https://localhost:8080/"
        },
        "id": "6PlSGFX6DeKR",
        "outputId": "27351428-9dd3-4306-abfd-0edcca5d0e22"
      },
      "execution_count": null,
      "outputs": [
        {
          "output_type": "stream",
          "name": "stdout",
          "text": [
            "1\n",
            "2\n",
            "3\n",
            "4\n",
            "5\n",
            "6\n",
            "7\n",
            "8\n",
            "9\n"
          ]
        }
      ]
    },
    {
      "cell_type": "markdown",
      "source": [
        "### Enumerate"
      ],
      "metadata": {
        "id": "EIv0EPUHDoDU"
      }
    },
    {
      "cell_type": "code",
      "source": [
        "list = ['a','b','c','d']\n",
        "\n",
        "for i, char in enumerate(list):\n",
        "  print(i, char)"
      ],
      "metadata": {
        "colab": {
          "base_uri": "https://localhost:8080/"
        },
        "id": "QpR0TE6BDsqf",
        "outputId": "736e89fe-073d-495a-e38f-edb72aecf04b"
      },
      "execution_count": null,
      "outputs": [
        {
          "output_type": "stream",
          "name": "stdout",
          "text": [
            "0 a\n",
            "1 b\n",
            "2 c\n",
            "3 d\n"
          ]
        }
      ]
    },
    {
      "cell_type": "markdown",
      "source": [
        "### While - Loop"
      ],
      "metadata": {
        "id": "ns-7ohpkDwQZ"
      }
    },
    {
      "cell_type": "code",
      "source": [
        "i=10\n",
        "while(i>0):\n",
        "  print(i)\n",
        "  i-=1"
      ],
      "metadata": {
        "colab": {
          "base_uri": "https://localhost:8080/"
        },
        "id": "5BRdJIELDzIj",
        "outputId": "04ab43eb-3bf9-44db-dc9d-136617f07a8d"
      },
      "execution_count": null,
      "outputs": [
        {
          "output_type": "stream",
          "name": "stdout",
          "text": [
            "10\n",
            "9\n",
            "8\n",
            "7\n",
            "6\n",
            "5\n",
            "4\n",
            "3\n",
            "2\n",
            "1\n"
          ]
        }
      ]
    },
    {
      "cell_type": "markdown",
      "source": [
        "- The `break` statement is used to exit a loop prematurely.\n",
        "- The `pass` statement is a no-operation statement. It does nothing and allows the loop to continue.\n",
        "-The `continue` statement is used to skip the current iteration of the loop and continue with the next iteration."
      ],
      "metadata": {
        "id": "LCKhWQvED34-"
      }
    },
    {
      "cell_type": "code",
      "source": [
        "#Break\n",
        "i = 0\n",
        "while i < 5:\n",
        "    print(i)\n",
        "    if i == 3:\n",
        "        break\n",
        "    i += 1"
      ],
      "metadata": {
        "colab": {
          "base_uri": "https://localhost:8080/"
        },
        "id": "nPRndbS4D6PM",
        "outputId": "819dc6b1-3228-4423-c4d7-71d9c1e79cff"
      },
      "execution_count": null,
      "outputs": [
        {
          "output_type": "stream",
          "name": "stdout",
          "text": [
            "0\n",
            "1\n",
            "2\n",
            "3\n"
          ]
        }
      ]
    },
    {
      "cell_type": "code",
      "source": [
        "#Pass\n",
        "i = 0\n",
        "while i < 5:\n",
        "    if i == 2:\n",
        "        pass\n",
        "    else:\n",
        "        print(i)\n",
        "    i += 1\n"
      ],
      "metadata": {
        "colab": {
          "base_uri": "https://localhost:8080/"
        },
        "id": "dOthw4LND89c",
        "outputId": "53355d93-222e-435c-ab5d-0d5378fa3cce"
      },
      "execution_count": null,
      "outputs": [
        {
          "output_type": "stream",
          "name": "stdout",
          "text": [
            "0\n",
            "1\n",
            "3\n",
            "4\n"
          ]
        }
      ]
    },
    {
      "cell_type": "code",
      "source": [
        "#Continue\n",
        "i = 0\n",
        "while i < 5:\n",
        "    i += 1\n",
        "    if i == 2:\n",
        "        continue\n",
        "    print(i)\n"
      ],
      "metadata": {
        "colab": {
          "base_uri": "https://localhost:8080/"
        },
        "id": "kGreheZoD9wC",
        "outputId": "7b9e74ef-e625-4d15-cf23-28e1858b7078"
      },
      "execution_count": null,
      "outputs": [
        {
          "output_type": "stream",
          "name": "stdout",
          "text": [
            "1\n",
            "3\n",
            "4\n",
            "5\n"
          ]
        }
      ]
    },
    {
      "cell_type": "markdown",
      "source": [
        "## Functions and Methods"
      ],
      "metadata": {
        "id": "51uV4QftELKG"
      }
    },
    {
      "cell_type": "markdown",
      "source": [
        "Certainly! Let's start by defining functions and methods and then discuss their differences and scope.\n",
        "\n",
        "**Function:**\n",
        "- A function is a block of reusable code that performs a specific task or a set of tasks.\n",
        "- Functions are defined using the `def` keyword in Python, followed by the function name, parameters (if any), a colon, and the function body.\n",
        "- Functions are called by their name, followed by parentheses `()`, which may contain arguments.\n",
        "- Functions can be defined at the module level or within other functions.\n",
        "\n",
        "Example of defining and calling a function:\n",
        "\n",
        "```python\n",
        "def greet(name):\n",
        "    print(f\"Hello, {name}!\")\n",
        "\n",
        "greet(\"Alice\")  # Calling the function\n",
        "```\n",
        "\n",
        "**Method:**\n",
        "- A method is a function that is associated with an object or a class.\n",
        "- Methods are called on objects and can access and modify the object's data.\n",
        "- Methods are defined within classes and are used to define the behavior of objects of that class.\n",
        "- Methods are accessed using the dot notation `object.method()`.\n",
        "\n",
        "Example of defining and calling a method:\n",
        "\n",
        "```python\n",
        "class Dog:\n",
        "    def bark(self):\n",
        "        print(\"Woof!\")\n",
        "\n",
        "my_dog = Dog()\n",
        "my_dog.bark()  # Calling the method on an object\n",
        "```\n",
        "\n",
        "**Difference between Function and Method:**\n",
        "1. **Association with Objects:**\n",
        "   - A function is not associated with any particular object or class.\n",
        "   - A method is always associated with an object or a class. It operates on the data contained within that object or class.\n",
        "\n",
        "2. **Syntax:**\n",
        "   - Functions are defined using the `def` keyword.\n",
        "   - Methods are defined within classes and use the `def` keyword as well but are associated with that class.\n",
        "\n",
        "3. **Calling:**\n",
        "   - Functions are called by their name.\n",
        "   - Methods are called on objects or classes and use the dot notation (`object.method()` or `class.method()`).\n",
        "\n",
        "**Scope:**\n",
        "- The scope of a function or method defines where it can be accessed or called within a program.\n",
        "- In Python, there are two main types of scope: global scope and local scope.\n",
        "- Functions and methods have their own local scope, which means variables defined inside them are only accessible within that function or method.\n",
        "- Variables defined outside of any function or method have global scope and can be accessed from anywhere in the program.\n",
        "\n",
        "Example of scope:\n",
        "\n",
        "```python\n",
        "x = 10  # Global variable\n",
        "\n",
        "def my_function():\n",
        "    y = 5  # Local variable\n",
        "    print(x)  # Accessing the global variable\n",
        "    print(y)  # Accessing the local variable\n",
        "\n",
        "my_function()\n",
        "print(x)  # Accessing the global variable outside the function\n",
        "# print(y)  # This would result in an error because y is a local variable\n",
        "```\n",
        "\n",
        "In summary, functions are independent blocks of code that can be defined and called globally, while methods are functions associated with objects or classes and operate on their data. Both functions and methods have their own local scope, and variables within them have limited visibility. Global variables, on the other hand, are accessible from anywhere in the program."
      ],
      "metadata": {
        "id": "0nR3HesuEO0i"
      }
    },
    {
      "cell_type": "markdown",
      "source": [
        "## **Pandas**"
      ],
      "metadata": {
        "id": "lLQeB_Y4EUYy"
      }
    },
    {
      "cell_type": "markdown",
      "source": [
        "**Series and DataFrames** are fundamental data structures provided by the **Pandas** library in Python for data manipulation and analysis. They are built on top of NumPy arrays and are particularly useful for handling structured data.\n",
        "\n",
        "### Series:\n",
        "\n",
        "- A **Series** is a one-dimensional labeled array capable of holding data of various types (numeric, string, etc.).\n",
        "- It is similar to a column in a spreadsheet or a single column in a database table.\n",
        "- A Series has two main components: the data (values) and the index (labels for the data).\n",
        "- You can create a Series using the `pd.Series()` constructor.\n",
        "\n",
        "Creating a Series from a list:\n",
        "```python\n",
        "import pandas as pd\n",
        "\n",
        "data = [1, 2, 3, 4, 5]\n",
        "series = pd.Series(data)\n",
        "```\n",
        "\n",
        "Creating a Series from a dictionary:\n",
        "```python\n",
        "data = {'a': 1, 'b': 2, 'c': 3}\n",
        "series = pd.Series(data)\n",
        "```\n",
        "\n",
        "### DataFrame:\n",
        "\n",
        "- A **DataFrame** is a two-dimensional labeled data structure with columns of potentially different types.\n",
        "- It is similar to a spreadsheet or SQL table, where data is organized in rows and columns.\n",
        "- A DataFrame has both row labels (index) and column labels.\n",
        "- You can create a DataFrame using the `pd.DataFrame()` constructor.\n",
        "\n",
        "Creating a DataFrame from a list of lists:\n",
        "```python\n",
        "import pandas as pd\n",
        "\n",
        "data = [[1, 'Alice'], [2, 'Bob'], [3, 'Charlie']]\n",
        "df = pd.DataFrame(data, columns=['ID', 'Name'])\n",
        "```\n",
        "\n",
        "Creating a DataFrame from a dictionary of lists:\n",
        "```python\n",
        "data = {'ID': [1, 2, 3], 'Name': ['Alice', 'Bob', 'Charlie']}\n",
        "df = pd.DataFrame(data)\n",
        "```\n",
        "\n",
        "Creating a DataFrame from a list of dictionaries:\n",
        "```python\n",
        "data = [{'ID': 1, 'Name': 'Alice'}, {'ID': 2, 'Name': 'Bob'}, {'ID': 3, 'Name': 'Charlie'}]\n",
        "df = pd.DataFrame(data)\n",
        "```"
      ],
      "metadata": {
        "id": "kRdAb8YAEXIa"
      }
    },
    {
      "cell_type": "markdown",
      "source": [
        "## Function and Method"
      ],
      "metadata": {
        "id": "jQqG_q6zEcOa"
      }
    },
    {
      "cell_type": "markdown",
      "source": [
        "### Functions and Methods\n",
        "\n",
        "Let's cover some fundamental DataFrame operations:\n",
        "\n",
        "**1. Creating DataFrames:**\n",
        "\n",
        "```python\n",
        "import pandas as pd\n",
        "\n",
        "# Creating a DataFrame from a dictionary\n",
        "data = {'Name': ['Alice', 'Bob', 'Charlie'],\n",
        "        'Age': [25, 30, 22]}\n",
        "df = pd.DataFrame(data)\n",
        "print(df)\n",
        "```\n",
        "\n",
        "**2. Accessing Data:**\n",
        "\n",
        "```python\n",
        "# Accessing a single column\n",
        "names = df['Name']\n",
        "\n",
        "# Accessing multiple columns\n",
        "subset = df[['Name', 'Age']]\n",
        "\n",
        "# Accessing rows using iloc (integer location)\n",
        "row = df.iloc[1]  # Access the second row (index 1)\n",
        "```\n",
        "\n",
        "**3. Filtering Data:**\n",
        "\n",
        "```python\n",
        "# Filtering rows based on a condition\n",
        "young_people = df[df['Age'] < 30]\n",
        "```\n",
        "\n",
        "**4. Adding and Removing Columns:**\n",
        "\n",
        "```python\n",
        "# Adding a new column\n",
        "df['City'] = ['New York', 'San Francisco', 'Los Angeles']\n",
        "\n",
        "# Removing a column\n",
        "df.drop('City', axis=1, inplace=True)\n",
        "```\n",
        "\n",
        "**5. Aggregation and Summary Statistics:**\n",
        "\n",
        "```python\n",
        "# Calculating mean age\n",
        "mean_age = df['Age'].mean()\n",
        "\n",
        "# Grouping and aggregating data\n",
        "grouped = df.groupby('City')['Age'].mean()\n",
        "```\n",
        "\n",
        "**6. Sorting Data:**\n",
        "\n",
        "```python\n",
        "# Sorting by a specific column\n",
        "sorted_df = df.sort_values(by='Age', ascending=False)\n",
        "```\n",
        "\n",
        "**7. Merging DataFrames (Joining):**\n",
        "\n",
        "```python\n",
        "# Merging two DataFrames\n",
        "data1 = {'ID': [1, 2, 3], 'Score1': [85, 92, 78]}\n",
        "data2 = {'ID': [2, 3, 4], 'Score2': [88, 75, 90]}\n",
        "df1 = pd.DataFrame(data1)\n",
        "df2 = pd.DataFrame(data2)\n",
        "merged_df = pd.merge(df1, df2, on='ID', how='inner')\n",
        "```\n",
        "\n",
        "**8. Handling Missing Data:**\n",
        "\n",
        "```python\n",
        "# Checking for missing values\n",
        "missing_values = df.isnull()\n",
        "\n",
        "# Dropping rows with missing values\n",
        "df.dropna(inplace=True)\n",
        "\n",
        "# Filling missing values\n",
        "df.fillna(0, inplace=True)\n",
        "```\n",
        "\n",
        "**9. Pivot Tables:**\n",
        "\n",
        "```python\n",
        "# Creating a pivot table\n",
        "pivot_table = df.pivot_table(index='City', values='Age', aggfunc='mean')\n",
        "```\n",
        "\n",
        "**10. Saving and Loading Data:**\n",
        "\n",
        "```python\n",
        "# Saving DataFrame to a CSV file\n",
        "df.to_csv('data.csv', index=False)\n",
        "\n",
        "# Loading data from a CSV file\n",
        "loaded_df = pd.read_csv('data.csv')\n",
        "```"
      ],
      "metadata": {
        "id": "RvMbPjC1Einy"
      }
    },
    {
      "cell_type": "markdown",
      "source": [
        "Here are explanations of several important DataFrame methods and functions in Pandas:\n",
        "\n",
        "1. **`head(n)` and `tail(n)`:**\n",
        "   - `head(n)` returns the first `n` rows of the DataFrame.\n",
        "   - `tail(n)` returns the last `n` rows of the DataFrame.\n",
        "   \n",
        "2. **`index` and `columns`:**\n",
        "   - `index` returns the index (row labels) of the DataFrame.\n",
        "   - `columns` returns the column labels of the DataFrame.\n",
        "\n",
        "3. **`info()`:**\n",
        "   - `info()` provides a concise summary of the DataFrame, including the data types, non-null values, and memory usage.\n",
        "\n",
        "4. **`rename(columns=)` and `rename(index=)`:**\n",
        "   - `rename(columns=)` renames columns in the DataFrame.\n",
        "   - `rename(index=)` renames index (row labels) in the DataFrame.\n",
        "\n",
        "5. **`describe()`:**\n",
        "   - `describe()` generates summary statistics of the DataFrame's numeric columns, including count, mean, standard deviation, min, max, and quartiles.\n",
        "\n",
        "6. **`iloc[row_index, col_index]` and `loc[row_label, col_label]`:**\n",
        "   - `iloc` and `loc` allow for selecting rows and columns by integer position (`iloc`) or by labels (`loc`).\n",
        "\n",
        "7. **`strptime()` and `strftime()`:**\n",
        "   - `strptime()` converts a string to a datetime object based on a specified format.\n",
        "   - `strftime()` formats a datetime object as a string based on a specified format.\n",
        "\n",
        "8. **`unique()`:**\n",
        "   - `unique()` returns an array of unique values in a column, excluding duplicates.\n",
        "\n",
        "9. **`nunique()`:**\n",
        "   - `nunique()` returns the number of unique values in a column.\n",
        "\n",
        "10. **`value_counts()`:**\n",
        "    - `value_counts()` counts the occurrences of unique values in a column and returns a Series with counts.\n",
        "\n",
        "11. **`isnull()` and `fillna()`:**\n",
        "    - `isnull()` returns a DataFrame of the same shape with `True` where values are missing (NaN) and `False` otherwise.\n",
        "    - `fillna()` fills missing (NaN) values with specified values or methods."
      ],
      "metadata": {
        "id": "lUTHOMsfEoI5"
      }
    },
    {
      "cell_type": "markdown",
      "source": [
        "## **Numpy**"
      ],
      "metadata": {
        "id": "PEboJavREpJI"
      }
    },
    {
      "cell_type": "markdown",
      "source": [
        "**NumPy** is a powerful Python library for numerical and scientific computing. It provides support for large, multi-dimensional arrays and matrices, as well as a variety of high-level mathematical functions to operate on these arrays. NumPy is a fundamental library for data analysis, machine learning, and scientific research in Python.\n",
        "\n",
        "### Importing NumPy:\n",
        "\n",
        "You can import NumPy in your Python code using the following statement:\n",
        "\n",
        "```python\n",
        "import numpy as np\n",
        "```\n",
        "\n",
        "### Array Inspection Methods:\n",
        "\n",
        "NumPy provides several methods to inspect arrays:\n",
        "\n",
        "1. **`shape` and `ndim`:**\n",
        "   - `shape` returns a tuple representing the dimensions of the array.\n",
        "   - `ndim` returns the number of dimensions of the array.\n",
        "\n",
        "```python\n",
        "import numpy as np\n",
        "\n",
        "arr = np.array([[1, 2, 3], [4, 5, 6]])\n",
        "print(arr.shape)  # Output: (2, 3)\n",
        "print(arr.ndim)   # Output: 2\n",
        "```\n",
        "\n",
        "2. **`dtype`:**\n",
        "   - `dtype` returns the data type of elements in the array.\n",
        "\n",
        "```python\n",
        "arr = np.array([1, 2, 3], dtype=float)\n",
        "print(arr.dtype)  # Output: float64\n",
        "```\n",
        "\n",
        "3. **`size` and `itemsize`:**\n",
        "   - `size` returns the total number of elements in the array.\n",
        "   - `itemsize` returns the size (in bytes) of each element in the array.\n",
        "\n",
        "```python\n",
        "arr = np.array([[1, 2, 3], [4, 5, 6]])\n",
        "print(arr.size)      # Output: 6\n",
        "print(arr.itemsize)  # Output: 8 (assuming 64-bit system)\n",
        "```\n",
        "\n",
        "### Creating ndarrays:\n",
        "\n",
        "NumPy provides several ways to create ndarrays:\n",
        "\n",
        "1. **`np.array()`:**\n",
        "   - Create an ndarray from a list or iterable.\n",
        "\n",
        "```python\n",
        "arr = np.array([1, 2, 3])\n",
        "```\n",
        "\n",
        "2. **`np.zeros()`:**\n",
        "   - Create an ndarray filled with zeros.\n",
        "\n",
        "```python\n",
        "zeros = np.zeros((2, 3))\n",
        "```\n",
        "\n",
        "3. **`np.ones()`:**\n",
        "   - Create an ndarray filled with ones.\n",
        "\n",
        "```python\n",
        "ones = np.ones((2, 3))\n",
        "```\n",
        "\n",
        "4. **`np.arange()`:**\n",
        "   - Create an ndarray with regularly spaced values.\n",
        "\n",
        "```python\n",
        "seq = np.arange(0, 10, 2)  # [0, 2, 4, 6, 8]\n",
        "```\n",
        "\n",
        "### Indexing and Slicing:\n",
        "\n",
        "NumPy arrays support various ways of indexing and slicing:\n",
        "\n",
        "```python\n",
        "arr = np.array([[1, 2, 3], [4, 5, 6]])\n",
        "\n",
        "# Access a specific element\n",
        "element = arr[0, 1]  # 2\n",
        "\n",
        "# Slicing\n",
        "row = arr[1, :]  # [4, 5, 6]\n",
        "column = arr[:, 2]  # [3, 6]\n",
        "```\n",
        "\n",
        "### Array Manipulation Methods:\n",
        "\n",
        "NumPy provides functions to manipulate arrays:\n",
        "\n",
        "1. **`reshape()`:**\n",
        "   - Change the shape of an array.\n",
        "\n",
        "```python\n",
        "arr = np.array([1, 2, 3, 4, 5, 6])\n",
        "reshaped = arr.reshape(2, 3)\n",
        "```\n",
        "\n",
        "2. **`flatten()` and `ravel()`:**\n",
        "   - `flatten()` returns a new 1D array.\n",
        "   - `ravel()` returns a flattened 1D view of the original array.\n",
        "\n",
        "```python\n",
        "flattened = arr.flatten()\n",
        "raveled = arr.ravel()\n",
        "```\n",
        "\n",
        "3. **`transpose()`:**\n",
        "   - Transpose rows and columns of an array.\n",
        "\n",
        "```python\n",
        "transposed = arr.transpose()\n",
        "```\n",
        "\n",
        "4. **`concatenate()`:**\n",
        "   - Join arrays along an existing axis.\n",
        "\n",
        "```python\n",
        "arr1 = np.array([1, 2, 3])\n",
        "arr2 = np.array([4, 5, 6])\n",
        "concatenated = np.concatenate((arr1, arr2))\n",
        "```\n",
        "\n",
        "These are just a few of the many methods and functions available in NumPy for working with arrays. NumPy is a vast library with extensive documentation, making it a powerful tool for scientific computing and data analysis in Python."
      ],
      "metadata": {
        "id": "aePX0JC6Ew9L"
      }
    }
  ]
}