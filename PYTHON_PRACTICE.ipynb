{
  "nbformat": 4,
  "nbformat_minor": 0,
  "metadata": {
    "colab": {
      "provenance": [],
      "authorship_tag": "ABX9TyMSzRIdyuxFt2y9kWg2uizF",
      "include_colab_link": true
    },
    "kernelspec": {
      "name": "python3",
      "display_name": "Python 3"
    },
    "language_info": {
      "name": "python"
    }
  },
  "cells": [
    {
      "cell_type": "markdown",
      "metadata": {
        "id": "view-in-github",
        "colab_type": "text"
      },
      "source": [
        "<a href=\"https://colab.research.google.com/github/nikhilbordekar/Python_Practice/blob/main/PYTHON_PRACTICE.ipynb\" target=\"_parent\"><img src=\"https://colab.research.google.com/assets/colab-badge.svg\" alt=\"Open In Colab\"/></a>"
      ]
    },
    {
      "cell_type": "markdown",
      "source": [
        "# **Integers and Floats**\n",
        "\n",
        "\n",
        "\n",
        "\n"
      ],
      "metadata": {
        "id": "86I8eHjcme5_"
      }
    },
    {
      "cell_type": "markdown",
      "source": [
        "Basic Arithmetic"
      ],
      "metadata": {
        "id": "byKA7KQ6mq7l"
      }
    },
    {
      "cell_type": "code",
      "source": [
        "# Addition\n",
        "2+1"
      ],
      "metadata": {
        "colab": {
          "base_uri": "https://localhost:8080/"
        },
        "id": "4HP4cF5Omt5N",
        "outputId": "cd42c258-d032-4c74-f6a0-68a073daeef0"
      },
      "execution_count": null,
      "outputs": [
        {
          "output_type": "execute_result",
          "data": {
            "text/plain": [
              "3"
            ]
          },
          "metadata": {},
          "execution_count": 1
        }
      ]
    },
    {
      "cell_type": "code",
      "source": [
        "# Subtraction\n",
        "2-5"
      ],
      "metadata": {
        "colab": {
          "base_uri": "https://localhost:8080/"
        },
        "id": "RQBedFl5mwV9",
        "outputId": "8413f056-dc92-42eb-afd4-18219bf2085f"
      },
      "execution_count": null,
      "outputs": [
        {
          "output_type": "execute_result",
          "data": {
            "text/plain": [
              "-3"
            ]
          },
          "metadata": {},
          "execution_count": 2
        }
      ]
    },
    {
      "cell_type": "code",
      "source": [
        "# Multiplication\n",
        "2*2"
      ],
      "metadata": {
        "colab": {
          "base_uri": "https://localhost:8080/"
        },
        "id": "s2XJ_h6em0St",
        "outputId": "60030543-b657-44a7-a5e3-31c391cecbf8"
      },
      "execution_count": null,
      "outputs": [
        {
          "output_type": "execute_result",
          "data": {
            "text/plain": [
              "4"
            ]
          },
          "metadata": {},
          "execution_count": 6
        }
      ]
    },
    {
      "cell_type": "code",
      "source": [
        "# Division\n",
        "3/2"
      ],
      "metadata": {
        "colab": {
          "base_uri": "https://localhost:8080/"
        },
        "id": "jZEddTv-m3K1",
        "outputId": "16dff790-d8ab-4ba3-a69b-f0cd8640f8ea"
      },
      "execution_count": null,
      "outputs": [
        {
          "output_type": "execute_result",
          "data": {
            "text/plain": [
              "1.5"
            ]
          },
          "metadata": {},
          "execution_count": 4
        }
      ]
    },
    {
      "cell_type": "code",
      "source": [
        "# Floor Division\n",
        "7//2"
      ],
      "metadata": {
        "colab": {
          "base_uri": "https://localhost:8080/"
        },
        "id": "5eKNmuY-m5Dd",
        "outputId": "a9508d91-6ce9-428b-f123-6164235f31c9"
      },
      "execution_count": null,
      "outputs": [
        {
          "output_type": "execute_result",
          "data": {
            "text/plain": [
              "3"
            ]
          },
          "metadata": {},
          "execution_count": 5
        }
      ]
    },
    {
      "cell_type": "code",
      "source": [
        "# Exponentiation\n",
        "2**5"
      ],
      "metadata": {
        "colab": {
          "base_uri": "https://localhost:8080/"
        },
        "id": "dDv3zl38m8OP",
        "outputId": "8c8e65b6-07f1-4a95-e1a3-d7f9f59c88f4"
      },
      "execution_count": null,
      "outputs": [
        {
          "output_type": "execute_result",
          "data": {
            "text/plain": [
              "32"
            ]
          },
          "metadata": {},
          "execution_count": 7
        }
      ]
    },
    {
      "cell_type": "code",
      "source": [
        "# Modulus\n",
        "5%6"
      ],
      "metadata": {
        "colab": {
          "base_uri": "https://localhost:8080/"
        },
        "id": "6icdQS8Nm-R-",
        "outputId": "b4a4214e-849c-409e-93e2-2de7d082b19b"
      },
      "execution_count": null,
      "outputs": [
        {
          "output_type": "execute_result",
          "data": {
            "text/plain": [
              "5"
            ]
          },
          "metadata": {},
          "execution_count": 8
        }
      ]
    },
    {
      "cell_type": "markdown",
      "source": [
        "# **String**"
      ],
      "metadata": {
        "id": "4fMXMj7hnQKV"
      }
    },
    {
      "cell_type": "code",
      "source": [
        "# Single word\n",
        "my_first_string= 'MATHEMATICS'\n",
        "my_first_string"
      ],
      "metadata": {
        "colab": {
          "base_uri": "https://localhost:8080/",
          "height": 35
        },
        "id": "dlLCuKP0nRWU",
        "outputId": "94315543-3f77-4a7f-db64-1ef597424538"
      },
      "execution_count": null,
      "outputs": [
        {
          "output_type": "execute_result",
          "data": {
            "text/plain": [
              "'MATHEMATICS'"
            ],
            "application/vnd.google.colaboratory.intrinsic+json": {
              "type": "string"
            }
          },
          "metadata": {},
          "execution_count": 9
        }
      ]
    },
    {
      "cell_type": "code",
      "source": [
        "# Entire phrase\n",
        "phrase = 'Statistics sits at the heart of machine learning'\n",
        "print(phrase)"
      ],
      "metadata": {
        "colab": {
          "base_uri": "https://localhost:8080/"
        },
        "id": "iWi3aUvrnRdm",
        "outputId": "82e494af-a0f2-4d81-dd28-3ed1317575a4"
      },
      "execution_count": null,
      "outputs": [
        {
          "output_type": "stream",
          "name": "stdout",
          "text": [
            "Statistics sits at the heart of machine learning\n"
          ]
        }
      ]
    },
    {
      "cell_type": "markdown",
      "source": [
        "String Indexing"
      ],
      "metadata": {
        "id": "iERyNFpznfyM"
      }
    },
    {
      "cell_type": "code",
      "source": [
        "# Assign string as a string\n",
        "string  = 'Principal Component Analysis!'\n",
        "# Show first element (in this case a letter)\n",
        "print(string[5])"
      ],
      "metadata": {
        "colab": {
          "base_uri": "https://localhost:8080/"
        },
        "id": "-_mRRcUtngRq",
        "outputId": "65fd2ec3-3f31-4171-fa16-4b9fbeb17d6c"
      },
      "execution_count": null,
      "outputs": [
        {
          "output_type": "stream",
          "name": "stdout",
          "text": [
            "i\n"
          ]
        }
      ]
    },
    {
      "cell_type": "code",
      "source": [
        "print(string[-2])"
      ],
      "metadata": {
        "colab": {
          "base_uri": "https://localhost:8080/"
        },
        "id": "-Zg978wJnqd6",
        "outputId": "bc952411-3e27-4712-d845-07059d2d52f4"
      },
      "execution_count": null,
      "outputs": [
        {
          "output_type": "stream",
          "name": "stdout",
          "text": [
            "s\n"
          ]
        }
      ]
    },
    {
      "cell_type": "markdown",
      "source": [
        "String Slicing"
      ],
      "metadata": {
        "id": "RcPF4fVmnry7"
      }
    },
    {
      "cell_type": "code",
      "source": [
        "# Grab everything past the first term all the way to the length of s which is len(s)\n",
        "print(string)\n",
        "print(string[:13])"
      ],
      "metadata": {
        "colab": {
          "base_uri": "https://localhost:8080/"
        },
        "id": "41qYAKBFnuYW",
        "outputId": "5d2bf828-c71f-43c4-8d89-5ed716e05a91"
      },
      "execution_count": null,
      "outputs": [
        {
          "output_type": "stream",
          "name": "stdout",
          "text": [
            "Principal Component Analysis!\n",
            "Principal Com\n"
          ]
        }
      ]
    },
    {
      "cell_type": "code",
      "source": [
        "# Grab everything starting from index 10 till index 18\n",
        "print(string[10:])"
      ],
      "metadata": {
        "colab": {
          "base_uri": "https://localhost:8080/"
        },
        "id": "m_AoBfifnynF",
        "outputId": "c099cf20-3291-4c11-f6d8-0bc6e52cf6bc"
      },
      "execution_count": null,
      "outputs": [
        {
          "output_type": "stream",
          "name": "stdout",
          "text": [
            "Component Analysis!\n"
          ]
        }
      ]
    },
    {
      "cell_type": "code",
      "source": [
        "# Grab everything, but go in steps size of 1\n",
        "print(string[::1])"
      ],
      "metadata": {
        "colab": {
          "base_uri": "https://localhost:8080/"
        },
        "id": "JidWNRQUn1u2",
        "outputId": "e816eb69-d76f-44c6-df3a-f1b1ddc08f3e"
      },
      "execution_count": null,
      "outputs": [
        {
          "output_type": "stream",
          "name": "stdout",
          "text": [
            "Principal Component Analysis!\n"
          ]
        }
      ]
    },
    {
      "cell_type": "markdown",
      "source": [
        "String functions and methods"
      ],
      "metadata": {
        "id": "pGFFIe3Kn9T1"
      }
    },
    {
      "cell_type": "code",
      "source": [
        "algorithm = 'Neural Networks'\n",
        "\n",
        "print(algorithm)"
      ],
      "metadata": {
        "colab": {
          "base_uri": "https://localhost:8080/"
        },
        "id": "vgDhu59in-P1",
        "outputId": "fce9a33f-a90f-4578-fb22-562080d113ce"
      },
      "execution_count": null,
      "outputs": [
        {
          "output_type": "stream",
          "name": "stdout",
          "text": [
            "Neural Networks\n"
          ]
        }
      ]
    },
    {
      "cell_type": "markdown",
      "source": [
        "len()"
      ],
      "metadata": {
        "id": "WvmmmYaNoB5l"
      }
    },
    {
      "cell_type": "code",
      "source": [
        "# Print the length of the string\n",
        "len(algorithm)"
      ],
      "metadata": {
        "colab": {
          "base_uri": "https://localhost:8080/"
        },
        "id": "-GoURdzBoEhl",
        "outputId": "16bbbcc9-2fb6-4135-a6e0-d3453174a879"
      },
      "execution_count": null,
      "outputs": [
        {
          "output_type": "execute_result",
          "data": {
            "text/plain": [
              "15"
            ]
          },
          "metadata": {},
          "execution_count": 17
        }
      ]
    },
    {
      "cell_type": "markdown",
      "source": [
        "lower()/upper()"
      ],
      "metadata": {
        "id": "6MIDLejloJb1"
      }
    },
    {
      "cell_type": "code",
      "source": [
        "algorithm.lower()"
      ],
      "metadata": {
        "colab": {
          "base_uri": "https://localhost:8080/",
          "height": 35
        },
        "id": "WrzRGQYWoNdt",
        "outputId": "192abcb4-e9d0-4239-a561-306546ab4750"
      },
      "execution_count": null,
      "outputs": [
        {
          "output_type": "execute_result",
          "data": {
            "text/plain": [
              "'neural networks'"
            ],
            "application/vnd.google.colaboratory.intrinsic+json": {
              "type": "string"
            }
          },
          "metadata": {},
          "execution_count": 18
        }
      ]
    },
    {
      "cell_type": "code",
      "source": [
        "algorithm.upper()"
      ],
      "metadata": {
        "colab": {
          "base_uri": "https://localhost:8080/",
          "height": 35
        },
        "id": "ZXV67JlhoUYt",
        "outputId": "44a0280b-3124-46cf-99e4-37c4f8d8428b"
      },
      "execution_count": null,
      "outputs": [
        {
          "output_type": "execute_result",
          "data": {
            "text/plain": [
              "'NEURAL NETWORKS'"
            ],
            "application/vnd.google.colaboratory.intrinsic+json": {
              "type": "string"
            }
          },
          "metadata": {},
          "execution_count": 19
        }
      ]
    },
    {
      "cell_type": "markdown",
      "source": [
        "count()"
      ],
      "metadata": {
        "id": "rcD4or1doapn"
      }
    },
    {
      "cell_type": "code",
      "source": [
        "algorithm"
      ],
      "metadata": {
        "colab": {
          "base_uri": "https://localhost:8080/",
          "height": 35
        },
        "id": "bbWXGkFQompG",
        "outputId": "2abe3545-f065-4d23-8367-bd9cc2bb65f3"
      },
      "execution_count": null,
      "outputs": [
        {
          "output_type": "execute_result",
          "data": {
            "text/plain": [
              "'Neural Networks'"
            ],
            "application/vnd.google.colaboratory.intrinsic+json": {
              "type": "string"
            }
          },
          "metadata": {},
          "execution_count": 23
        }
      ]
    },
    {
      "cell_type": "code",
      "source": [
        "algorithm.count('Ne')"
      ],
      "metadata": {
        "colab": {
          "base_uri": "https://localhost:8080/"
        },
        "id": "8GbyeNcIoaCt",
        "outputId": "0f8ebfc4-7f3e-41ca-89f4-9f7cc4e19388"
      },
      "execution_count": null,
      "outputs": [
        {
          "output_type": "execute_result",
          "data": {
            "text/plain": [
              "2"
            ]
          },
          "metadata": {},
          "execution_count": 22
        }
      ]
    },
    {
      "cell_type": "markdown",
      "source": [
        "find()"
      ],
      "metadata": {
        "id": "LmxnjqeMosc1"
      }
    },
    {
      "cell_type": "code",
      "source": [
        "algorithm.find('e')"
      ],
      "metadata": {
        "colab": {
          "base_uri": "https://localhost:8080/"
        },
        "id": "5fRGr8zBotC1",
        "outputId": "2f8171f7-5730-4eef-86f8-362ab67a98ed"
      },
      "execution_count": null,
      "outputs": [
        {
          "output_type": "execute_result",
          "data": {
            "text/plain": [
              "1"
            ]
          },
          "metadata": {},
          "execution_count": 24
        }
      ]
    },
    {
      "cell_type": "markdown",
      "source": [
        "replace()"
      ],
      "metadata": {
        "id": "qQMaanHzo1nt"
      }
    },
    {
      "cell_type": "code",
      "source": [
        "algorithm.replace(\" \", \"-\")\n"
      ],
      "metadata": {
        "colab": {
          "base_uri": "https://localhost:8080/",
          "height": 35
        },
        "id": "naIfmrOco2LW",
        "outputId": "f549a844-1a40-4e1b-fd06-d0e8b38e6935"
      },
      "execution_count": null,
      "outputs": [
        {
          "output_type": "execute_result",
          "data": {
            "text/plain": [
              "'Neural-Networks'"
            ],
            "application/vnd.google.colaboratory.intrinsic+json": {
              "type": "string"
            }
          },
          "metadata": {},
          "execution_count": 26
        }
      ]
    },
    {
      "cell_type": "markdown",
      "source": [
        "# **List**"
      ],
      "metadata": {
        "id": "PoDnIPYvdue8"
      }
    },
    {
      "cell_type": "code",
      "source": [
        "#List can take int, float, str etc\n",
        "my_list = ['A string',23,100.232,'o',True]\n",
        "my_list"
      ],
      "metadata": {
        "colab": {
          "base_uri": "https://localhost:8080/"
        },
        "id": "LHyjfP0-dx2q",
        "outputId": "697ff948-a21b-44bf-cdfa-2e4391751441"
      },
      "execution_count": null,
      "outputs": [
        {
          "output_type": "execute_result",
          "data": {
            "text/plain": [
              "['A string', 23, 100.232, 'o', True]"
            ]
          },
          "metadata": {},
          "execution_count": 1
        }
      ]
    },
    {
      "cell_type": "markdown",
      "source": [
        "List Indexing"
      ],
      "metadata": {
        "id": "VeuJvkAmNfn5"
      }
    },
    {
      "cell_type": "code",
      "source": [
        "loss_functions = ['Mean Absolute Error','Mean Squared Error','Huber Loss','Log Loss','Hinge Loss']\n",
        "print(loss_functions)"
      ],
      "metadata": {
        "colab": {
          "base_uri": "https://localhost:8080/"
        },
        "id": "ZBJ0fljMNc1r",
        "outputId": "188d1a5f-d195-4161-9860-4280f52175cd"
      },
      "execution_count": null,
      "outputs": [
        {
          "output_type": "stream",
          "name": "stdout",
          "text": [
            "['Mean Absolute Error', 'Mean Squared Error', 'Huber Loss', 'Log Loss', 'Hinge Loss']\n"
          ]
        }
      ]
    },
    {
      "cell_type": "code",
      "source": [
        "print(loss_functions[0])"
      ],
      "metadata": {
        "colab": {
          "base_uri": "https://localhost:8080/"
        },
        "id": "hCXod2MwNjAt",
        "outputId": "c9feda9c-da6e-45e3-fe2e-ed3f0d6553c3"
      },
      "execution_count": null,
      "outputs": [
        {
          "output_type": "stream",
          "name": "stdout",
          "text": [
            "Mean Absolute Error\n"
          ]
        }
      ]
    },
    {
      "cell_type": "code",
      "source": [
        "print(loss_functions[-1])"
      ],
      "metadata": {
        "colab": {
          "base_uri": "https://localhost:8080/"
        },
        "id": "IF2tT9BKNmmA",
        "outputId": "cc84ce79-e634-4052-a377-234b7d5a5577"
      },
      "execution_count": null,
      "outputs": [
        {
          "output_type": "stream",
          "name": "stdout",
          "text": [
            "Hinge Loss\n"
          ]
        }
      ]
    },
    {
      "cell_type": "markdown",
      "source": [
        "List Slicing"
      ],
      "metadata": {
        "id": "EmJ9DtG_Npzo"
      }
    },
    {
      "cell_type": "code",
      "source": [
        "loss_functions[1:4]"
      ],
      "metadata": {
        "colab": {
          "base_uri": "https://localhost:8080/"
        },
        "id": "tInPtX-7NqZY",
        "outputId": "3421d700-40e0-407c-9cbb-5eff803ca152"
      },
      "execution_count": null,
      "outputs": [
        {
          "output_type": "execute_result",
          "data": {
            "text/plain": [
              "['Mean Squared Error', 'Huber Loss', 'Log Loss']"
            ]
          },
          "metadata": {},
          "execution_count": 5
        }
      ]
    },
    {
      "cell_type": "code",
      "source": [
        "loss_functions[2:]"
      ],
      "metadata": {
        "colab": {
          "base_uri": "https://localhost:8080/"
        },
        "id": "Cc6ddmewNvDP",
        "outputId": "530b85d6-38f7-4671-cd59-13922d5c8481"
      },
      "execution_count": null,
      "outputs": [
        {
          "output_type": "execute_result",
          "data": {
            "text/plain": [
              "['Huber Loss', 'Log Loss', 'Hinge Loss']"
            ]
          },
          "metadata": {},
          "execution_count": 6
        }
      ]
    },
    {
      "cell_type": "code",
      "source": [
        "# Grab everything\n",
        "print(loss_functions[:])"
      ],
      "metadata": {
        "colab": {
          "base_uri": "https://localhost:8080/"
        },
        "id": "hKnN6JCINykI",
        "outputId": "d1e393d1-766a-40bd-b2f8-698c4fe87ac0"
      },
      "execution_count": null,
      "outputs": [
        {
          "output_type": "stream",
          "name": "stdout",
          "text": [
            "['Mean Absolute Error', 'Mean Squared Error', 'Huber Loss', 'Log Loss', 'Hinge Loss']\n"
          ]
        }
      ]
    },
    {
      "cell_type": "markdown",
      "source": [
        "List Operations"
      ],
      "metadata": {
        "id": "qkJz4upzN3ci"
      }
    },
    {
      "cell_type": "code",
      "source": [
        "#concatenate\n",
        "loss_functions + ['Kullback-Leibler']"
      ],
      "metadata": {
        "colab": {
          "base_uri": "https://localhost:8080/"
        },
        "id": "6AtmlLkHN4IZ",
        "outputId": "41c646b5-31f6-4699-bea0-09ee365d6080"
      },
      "execution_count": null,
      "outputs": [
        {
          "output_type": "execute_result",
          "data": {
            "text/plain": [
              "['Mean Absolute Error',\n",
              " 'Mean Squared Error',\n",
              " 'Huber Loss',\n",
              " 'Log Loss',\n",
              " 'Hinge Loss',\n",
              " 'Kullback-Leibler']"
            ]
          },
          "metadata": {},
          "execution_count": 8
        }
      ]
    },
    {
      "cell_type": "code",
      "source": [
        "#Note: This doesn't actually change the original list!\n",
        "print(loss_functions)"
      ],
      "metadata": {
        "colab": {
          "base_uri": "https://localhost:8080/"
        },
        "id": "o3hvwVm8OBgQ",
        "outputId": "c5d107c7-ac62-41cc-8aa1-35581dfa8105"
      },
      "execution_count": null,
      "outputs": [
        {
          "output_type": "stream",
          "name": "stdout",
          "text": [
            "['Mean Absolute Error', 'Mean Squared Error', 'Huber Loss', 'Log Loss', 'Hinge Loss']\n"
          ]
        }
      ]
    },
    {
      "cell_type": "code",
      "source": [
        "# Reassign\n",
        "loss_functions = loss_functions + ['Kullback-Leibler']"
      ],
      "metadata": {
        "id": "Uso8CGYROIV7"
      },
      "execution_count": null,
      "outputs": []
    },
    {
      "cell_type": "markdown",
      "source": [
        "List Functions"
      ],
      "metadata": {
        "id": "hPdN6W8JOiMH"
      }
    },
    {
      "cell_type": "markdown",
      "source": [
        "1. sum(list)"
      ],
      "metadata": {
        "id": "78-3lg1vOs2g"
      }
    },
    {
      "cell_type": "code",
      "source": [
        "new_list = [6, 9, 1, 3, 5.5]"
      ],
      "metadata": {
        "id": "0AECAQW9Ow7Z"
      },
      "execution_count": null,
      "outputs": []
    },
    {
      "cell_type": "code",
      "source": [
        "sum(new_list)"
      ],
      "metadata": {
        "colab": {
          "base_uri": "https://localhost:8080/"
        },
        "id": "U-MNE7ayOisf",
        "outputId": "5fba3b7b-300c-4b98-b4d2-f502d4f8a9e2"
      },
      "execution_count": null,
      "outputs": [
        {
          "output_type": "execute_result",
          "data": {
            "text/plain": [
              "24.5"
            ]
          },
          "metadata": {},
          "execution_count": 12
        }
      ]
    },
    {
      "cell_type": "markdown",
      "source": [
        "2. sorted()"
      ],
      "metadata": {
        "id": "QlV7ktP-O5NB"
      }
    },
    {
      "cell_type": "code",
      "source": [
        "sorted(new_list)"
      ],
      "metadata": {
        "colab": {
          "base_uri": "https://localhost:8080/"
        },
        "id": "szKZ9qC6O6rC",
        "outputId": "9da3bd50-f8fb-4755-d3fd-adcc4e11ebbf"
      },
      "execution_count": null,
      "outputs": [
        {
          "output_type": "execute_result",
          "data": {
            "text/plain": [
              "[1, 3, 5.5, 6, 9]"
            ]
          },
          "metadata": {},
          "execution_count": 13
        }
      ]
    },
    {
      "cell_type": "code",
      "source": [
        "#descending order\n",
        "sorted(new_list,reverse=True)"
      ],
      "metadata": {
        "colab": {
          "base_uri": "https://localhost:8080/"
        },
        "id": "_nCUtWkSPBsY",
        "outputId": "e9b3a9a9-0ada-4992-b1ba-23280544c3bf"
      },
      "execution_count": null,
      "outputs": [
        {
          "output_type": "execute_result",
          "data": {
            "text/plain": [
              "[9, 6, 5.5, 3, 1]"
            ]
          },
          "metadata": {},
          "execution_count": 14
        }
      ]
    },
    {
      "cell_type": "markdown",
      "source": [
        "List Methods"
      ],
      "metadata": {
        "id": "RW9LfbEZPNIh"
      }
    },
    {
      "cell_type": "markdown",
      "source": [
        "1. append()"
      ],
      "metadata": {
        "id": "NfBHP_56PRxQ"
      }
    },
    {
      "cell_type": "code",
      "source": [
        "my_list"
      ],
      "metadata": {
        "colab": {
          "base_uri": "https://localhost:8080/"
        },
        "id": "jRDqmPsWPNoY",
        "outputId": "c27978f3-772c-450b-ec9c-251dfef7ea21"
      },
      "execution_count": null,
      "outputs": [
        {
          "output_type": "execute_result",
          "data": {
            "text/plain": [
              "['A string', 23, 100.232, 'o', True]"
            ]
          },
          "metadata": {},
          "execution_count": 15
        }
      ]
    },
    {
      "cell_type": "code",
      "source": [
        "# Append to the end of the list\n",
        "my_list.append('Append me!')"
      ],
      "metadata": {
        "id": "mn3JA4FkPWz4"
      },
      "execution_count": null,
      "outputs": []
    },
    {
      "cell_type": "markdown",
      "source": [
        "2. extend()\n",
        "\n",
        "  Use the extend() method to merge a list to an existing list"
      ],
      "metadata": {
        "id": "H2bID51qPeaQ"
      }
    },
    {
      "cell_type": "code",
      "source": [
        "my_list"
      ],
      "metadata": {
        "colab": {
          "base_uri": "https://localhost:8080/"
        },
        "id": "ws5t-RhKPpKL",
        "outputId": "3fc7769a-a91f-4712-f1b8-eca23b755dfe"
      },
      "execution_count": null,
      "outputs": [
        {
          "output_type": "execute_result",
          "data": {
            "text/plain": [
              "['A string', 23, 100.232, 'o', True, 'Append me!']"
            ]
          },
          "metadata": {},
          "execution_count": 17
        }
      ]
    },
    {
      "cell_type": "code",
      "source": [
        "my_list.extend(['Wubba','Lubba','Dub Dub'])"
      ],
      "metadata": {
        "id": "kboPcss7PkvA"
      },
      "execution_count": null,
      "outputs": []
    },
    {
      "cell_type": "code",
      "source": [
        "my_list"
      ],
      "metadata": {
        "colab": {
          "base_uri": "https://localhost:8080/"
        },
        "id": "sreiJdcJPqRi",
        "outputId": "2921421a-954d-4cb7-8a16-873bbfc4e417"
      },
      "execution_count": null,
      "outputs": [
        {
          "output_type": "execute_result",
          "data": {
            "text/plain": [
              "['A string', 23, 100.232, 'o', True, 'Append me!', 'Wubba', 'Lubba', 'Dub Dub']"
            ]
          },
          "metadata": {},
          "execution_count": 19
        }
      ]
    },
    {
      "cell_type": "markdown",
      "source": [
        "3. pop()"
      ],
      "metadata": {
        "id": "tPcP9WlFPv93"
      }
    },
    {
      "cell_type": "code",
      "source": [
        "my_list"
      ],
      "metadata": {
        "colab": {
          "base_uri": "https://localhost:8080/"
        },
        "id": "vvZcWsB6P6Kv",
        "outputId": "044fe571-30c9-478a-e17e-6a1cebcffe7d"
      },
      "execution_count": null,
      "outputs": [
        {
          "output_type": "execute_result",
          "data": {
            "text/plain": [
              "['A string', 23, 100.232, 'o', True, 'Append me!', 'Wubba', 'Lubba', 'Dub Dub']"
            ]
          },
          "metadata": {},
          "execution_count": 20
        }
      ]
    },
    {
      "cell_type": "code",
      "source": [
        "#Last index is default pop element\n",
        "my_list.pop()"
      ],
      "metadata": {
        "colab": {
          "base_uri": "https://localhost:8080/",
          "height": 35
        },
        "id": "e2NkXFyWP6Qd",
        "outputId": "b0a566f7-4036-4084-f1f1-541382bee48c"
      },
      "execution_count": null,
      "outputs": [
        {
          "output_type": "execute_result",
          "data": {
            "text/plain": [
              "'Dub Dub'"
            ],
            "application/vnd.google.colaboratory.intrinsic+json": {
              "type": "string"
            }
          },
          "metadata": {},
          "execution_count": 21
        }
      ]
    },
    {
      "cell_type": "code",
      "source": [
        "my_list"
      ],
      "metadata": {
        "colab": {
          "base_uri": "https://localhost:8080/"
        },
        "id": "OzYHsn99P9d8",
        "outputId": "5164517a-ed09-4a52-8f3c-43c02d763c20"
      },
      "execution_count": null,
      "outputs": [
        {
          "output_type": "execute_result",
          "data": {
            "text/plain": [
              "['A string', 23, 100.232, 'o', True, 'Append me!', 'Wubba', 'Lubba']"
            ]
          },
          "metadata": {},
          "execution_count": 22
        }
      ]
    },
    {
      "cell_type": "markdown",
      "source": [
        "4. remove()"
      ],
      "metadata": {
        "id": "Gfwc2iouQJFu"
      }
    },
    {
      "cell_type": "code",
      "source": [
        "my_list.remove(\"A string\")"
      ],
      "metadata": {
        "id": "gZnGtvr2QKC6"
      },
      "execution_count": null,
      "outputs": []
    },
    {
      "cell_type": "code",
      "source": [
        "my_list"
      ],
      "metadata": {
        "colab": {
          "base_uri": "https://localhost:8080/"
        },
        "id": "AquMH8n4QWLP",
        "outputId": "b59fb914-b37d-4671-c6dc-3be59eb84a9f"
      },
      "execution_count": null,
      "outputs": [
        {
          "output_type": "execute_result",
          "data": {
            "text/plain": [
              "[23, 100.232, 'o', True, 'Append me!', 'Wubba', 'Lubba']"
            ]
          },
          "metadata": {},
          "execution_count": 25
        }
      ]
    },
    {
      "cell_type": "markdown",
      "source": [
        "5. reverse()"
      ],
      "metadata": {
        "id": "plofcdxbQbgI"
      }
    },
    {
      "cell_type": "code",
      "source": [
        "my_list"
      ],
      "metadata": {
        "colab": {
          "base_uri": "https://localhost:8080/"
        },
        "id": "0qYJLeXwQce0",
        "outputId": "fc72f958-48bf-449e-f2e3-4f90bc2ba8a5"
      },
      "execution_count": null,
      "outputs": [
        {
          "output_type": "execute_result",
          "data": {
            "text/plain": [
              "[23, 100.232, 'o', True, 'Append me!', 'Wubba', 'Lubba']"
            ]
          },
          "metadata": {},
          "execution_count": 26
        }
      ]
    },
    {
      "cell_type": "code",
      "source": [
        "my_list.reverse()"
      ],
      "metadata": {
        "id": "lKXaajCQQeth"
      },
      "execution_count": null,
      "outputs": []
    },
    {
      "cell_type": "code",
      "source": [
        "my_list"
      ],
      "metadata": {
        "id": "YAYJFEIpQkxo",
        "outputId": "45aaea8a-9b78-4e89-a7a7-eabf2e0ca65b",
        "colab": {
          "base_uri": "https://localhost:8080/"
        }
      },
      "execution_count": null,
      "outputs": [
        {
          "output_type": "execute_result",
          "data": {
            "text/plain": [
              "['Lubba', 'Wubba', 'Append me!', True, 'o', 100.232, 23]"
            ]
          },
          "metadata": {},
          "execution_count": 28
        }
      ]
    },
    {
      "cell_type": "markdown",
      "source": [
        "# **Tuples**"
      ],
      "metadata": {
        "id": "BAYgJQNzHxgo"
      }
    },
    {
      "cell_type": "code",
      "source": [
        "# Create a tuple\n",
        "my_tuple = (1,'a',3)"
      ],
      "metadata": {
        "id": "rriAgwFcH_Oy"
      },
      "execution_count": null,
      "outputs": []
    },
    {
      "cell_type": "code",
      "source": [
        "print(my_tuple)"
      ],
      "metadata": {
        "colab": {
          "base_uri": "https://localhost:8080/"
        },
        "id": "H5W943LQICgx",
        "outputId": "75fa3f4d-9331-4f70-ceea-e6483cf63d94"
      },
      "execution_count": null,
      "outputs": [
        {
          "output_type": "stream",
          "name": "stdout",
          "text": [
            "(1, 'a', 3)\n"
          ]
        }
      ]
    },
    {
      "cell_type": "markdown",
      "source": [
        "Tuple Indexing"
      ],
      "metadata": {
        "id": "aN7xCOByIK9s"
      }
    },
    {
      "cell_type": "code",
      "source": [
        "my_tuple[0]"
      ],
      "metadata": {
        "colab": {
          "base_uri": "https://localhost:8080/"
        },
        "id": "KMOlJ5j2IL2N",
        "outputId": "96be30b7-0118-4ef7-9f4a-5c88b51a5b01"
      },
      "execution_count": null,
      "outputs": [
        {
          "output_type": "execute_result",
          "data": {
            "text/plain": [
              "1"
            ]
          },
          "metadata": {},
          "execution_count": 3
        }
      ]
    },
    {
      "cell_type": "code",
      "source": [
        "my_tuple[-1]"
      ],
      "metadata": {
        "colab": {
          "base_uri": "https://localhost:8080/"
        },
        "id": "9JPqeJIIITzL",
        "outputId": "50ca33a5-a3b6-42fe-fceb-6f1ab5061bd5"
      },
      "execution_count": null,
      "outputs": [
        {
          "output_type": "execute_result",
          "data": {
            "text/plain": [
              "3"
            ]
          },
          "metadata": {},
          "execution_count": 4
        }
      ]
    },
    {
      "cell_type": "markdown",
      "source": [
        "Tuple Slicing"
      ],
      "metadata": {
        "id": "69AfLxiOIYlE"
      }
    },
    {
      "cell_type": "code",
      "source": [
        "my_tuple[:]"
      ],
      "metadata": {
        "colab": {
          "base_uri": "https://localhost:8080/"
        },
        "id": "OWEdPtHCIZWN",
        "outputId": "6113ad61-ca05-490d-a777-10d416266f81"
      },
      "execution_count": null,
      "outputs": [
        {
          "output_type": "execute_result",
          "data": {
            "text/plain": [
              "(1, 'a', 3)"
            ]
          },
          "metadata": {},
          "execution_count": 5
        }
      ]
    },
    {
      "cell_type": "code",
      "source": [
        "my_tuple[1:]"
      ],
      "metadata": {
        "colab": {
          "base_uri": "https://localhost:8080/"
        },
        "id": "xggtdgyLIjRM",
        "outputId": "fcc0d249-051c-4d70-99c9-571084a487e5"
      },
      "execution_count": null,
      "outputs": [
        {
          "output_type": "execute_result",
          "data": {
            "text/plain": [
              "('a', 3)"
            ]
          },
          "metadata": {},
          "execution_count": 6
        }
      ]
    },
    {
      "cell_type": "markdown",
      "source": [
        "Tuple Methods"
      ],
      "metadata": {
        "id": "oa3whzaJIsJ3"
      }
    },
    {
      "cell_type": "markdown",
      "source": [
        "1) Index"
      ],
      "metadata": {
        "id": "BCYQKKMAI1Dz"
      }
    },
    {
      "cell_type": "code",
      "source": [
        "my_tuple =(1,2,3,4,5,6,1,1,2)\n",
        "my_tuple.index(2)"
      ],
      "metadata": {
        "colab": {
          "base_uri": "https://localhost:8080/"
        },
        "id": "fGhEL3nVIsvK",
        "outputId": "49fab787-534c-4d7c-fd8b-8cc884c394aa"
      },
      "execution_count": null,
      "outputs": [
        {
          "output_type": "execute_result",
          "data": {
            "text/plain": [
              "1"
            ]
          },
          "metadata": {},
          "execution_count": 7
        }
      ]
    },
    {
      "cell_type": "markdown",
      "source": [
        "2) Count"
      ],
      "metadata": {
        "id": "yLeb9jBpI4LX"
      }
    },
    {
      "cell_type": "code",
      "source": [
        "my_tuple.count(2)"
      ],
      "metadata": {
        "colab": {
          "base_uri": "https://localhost:8080/"
        },
        "id": "VfKl-PomI8Yw",
        "outputId": "7b1cc66c-140f-4579-eb1d-e92f1403d9b7"
      },
      "execution_count": null,
      "outputs": [
        {
          "output_type": "execute_result",
          "data": {
            "text/plain": [
              "2"
            ]
          },
          "metadata": {},
          "execution_count": 8
        }
      ]
    },
    {
      "cell_type": "markdown",
      "source": [
        "Immutability"
      ],
      "metadata": {
        "id": "8tZNRnxaJEyj"
      }
    },
    {
      "cell_type": "code",
      "source": [
        "my_tuple[0] = 'change'"
      ],
      "metadata": {
        "colab": {
          "base_uri": "https://localhost:8080/",
          "height": 176
        },
        "id": "5otqmWNHJFbp",
        "outputId": "fc47f770-7f80-4a44-bb7a-8e9e831f673a"
      },
      "execution_count": null,
      "outputs": [
        {
          "output_type": "error",
          "ename": "TypeError",
          "evalue": "ignored",
          "traceback": [
            "\u001b[0;31m---------------------------------------------------------------------------\u001b[0m",
            "\u001b[0;31mTypeError\u001b[0m                                 Traceback (most recent call last)",
            "\u001b[0;32m<ipython-input-9-1113c19e61ee>\u001b[0m in \u001b[0;36m<cell line: 1>\u001b[0;34m()\u001b[0m\n\u001b[0;32m----> 1\u001b[0;31m \u001b[0mmy_tuple\u001b[0m\u001b[0;34m[\u001b[0m\u001b[0;36m0\u001b[0m\u001b[0;34m]\u001b[0m \u001b[0;34m=\u001b[0m \u001b[0;34m'change'\u001b[0m\u001b[0;34m\u001b[0m\u001b[0;34m\u001b[0m\u001b[0m\n\u001b[0m",
            "\u001b[0;31mTypeError\u001b[0m: 'tuple' object does not support item assignment"
          ]
        }
      ]
    },
    {
      "cell_type": "markdown",
      "source": [
        "3) zip()"
      ],
      "metadata": {
        "id": "uJRMH0ANJa9z"
      }
    },
    {
      "cell_type": "code",
      "source": [
        "city_list = ['Delhi','Patna','Cuttack','Guwahati']\n",
        "river_list = ['Yamuna','Ganga','Mahanadi','Brahmaputra']"
      ],
      "metadata": {
        "id": "7pznqkVdJIsa"
      },
      "execution_count": null,
      "outputs": []
    },
    {
      "cell_type": "code",
      "source": [
        "zip(city_list, river_list)"
      ],
      "metadata": {
        "colab": {
          "base_uri": "https://localhost:8080/"
        },
        "id": "r_WNqno2JhWk",
        "outputId": "4ab83b90-0ceb-4928-bbb8-ca64eef19d1e"
      },
      "execution_count": null,
      "outputs": [
        {
          "output_type": "execute_result",
          "data": {
            "text/plain": [
              "<zip at 0x7c36e4d71dc0>"
            ]
          },
          "metadata": {},
          "execution_count": 11
        }
      ]
    },
    {
      "cell_type": "code",
      "source": [
        "print(zip(city_list, river_list))"
      ],
      "metadata": {
        "colab": {
          "base_uri": "https://localhost:8080/"
        },
        "id": "XLcZcUzZJjdT",
        "outputId": "20974ea7-f7f0-4327-e69b-3171c2ec841f"
      },
      "execution_count": null,
      "outputs": [
        {
          "output_type": "stream",
          "name": "stdout",
          "text": [
            "<zip object at 0x7c36e4d30500>\n"
          ]
        }
      ]
    },
    {
      "cell_type": "code",
      "source": [
        "city_and_their_rivers = list(zip(city_list,river_list))"
      ],
      "metadata": {
        "id": "v5WUDFdEJfjj"
      },
      "execution_count": null,
      "outputs": []
    },
    {
      "cell_type": "code",
      "source": [
        "city_and_their_rivers"
      ],
      "metadata": {
        "colab": {
          "base_uri": "https://localhost:8080/"
        },
        "id": "GvQGpoHBJs37",
        "outputId": "1e4b520d-e93a-4181-8ec6-07ff24d258ff"
      },
      "execution_count": null,
      "outputs": [
        {
          "output_type": "execute_result",
          "data": {
            "text/plain": [
              "[('Delhi', 'Yamuna'),\n",
              " ('Patna', 'Ganga'),\n",
              " ('Cuttack', 'Mahanadi'),\n",
              " ('Guwahati', 'Brahmaputra')]"
            ]
          },
          "metadata": {},
          "execution_count": 15
        }
      ]
    },
    {
      "cell_type": "markdown",
      "source": [
        "# **Sets**"
      ],
      "metadata": {
        "id": "Ti_QkF8lJ69M"
      }
    },
    {
      "cell_type": "code",
      "source": [
        "my_list = [1 ,2, 23, 3 ,56]\n",
        "my_set = set(my_list) # unordered Property\n",
        "my_set # Hash Table"
      ],
      "metadata": {
        "id": "6v8XemLwJ8VM",
        "colab": {
          "base_uri": "https://localhost:8080/"
        },
        "outputId": "a438a9f1-c1ce-41c3-cf93-8235b89fb8ba"
      },
      "execution_count": null,
      "outputs": [
        {
          "output_type": "execute_result",
          "data": {
            "text/plain": [
              "{1, 2, 3, 23, 56}"
            ]
          },
          "metadata": {},
          "execution_count": 1
        }
      ]
    },
    {
      "cell_type": "code",
      "source": [
        "# We add to sets with the add() method\n",
        "my_set = set() # empty Set\n",
        "my_set.add('a')"
      ],
      "metadata": {
        "id": "nAt9dDI9arQR"
      },
      "execution_count": null,
      "outputs": []
    },
    {
      "cell_type": "code",
      "source": [
        "my_set = {5,7,9,3}"
      ],
      "metadata": {
        "id": "zE1FtExMa96V"
      },
      "execution_count": null,
      "outputs": []
    },
    {
      "cell_type": "code",
      "source": [
        "# add multiple elements\n",
        "add_list = [2, 3, 4]\n",
        "my_set.update(add_list)\n",
        "print(my_set)"
      ],
      "metadata": {
        "colab": {
          "base_uri": "https://localhost:8080/"
        },
        "id": "2OtzgVbZbABC",
        "outputId": "4955836e-8c97-4708-b367-a38988ee6d52"
      },
      "execution_count": null,
      "outputs": [
        {
          "output_type": "stream",
          "name": "stdout",
          "text": [
            "{2, 3, 4, 5, 7, 9}\n"
          ]
        }
      ]
    },
    {
      "cell_type": "markdown",
      "source": [
        "Remove()"
      ],
      "metadata": {
        "id": "-bx1qCWAbJgy"
      }
    },
    {
      "cell_type": "code",
      "source": [
        "non_empty_set = {1, 5, 6, 73, 2}"
      ],
      "metadata": {
        "id": "1YjY0Ja8bKYA"
      },
      "execution_count": null,
      "outputs": []
    },
    {
      "cell_type": "code",
      "source": [
        "non_empty_set.remove(5)\n"
      ],
      "metadata": {
        "id": "GinXvjFUbOiO"
      },
      "execution_count": null,
      "outputs": []
    },
    {
      "cell_type": "code",
      "source": [
        "non_empty_set"
      ],
      "metadata": {
        "colab": {
          "base_uri": "https://localhost:8080/"
        },
        "id": "S4CJf60wbVfz",
        "outputId": "f6d51cfc-a60a-44b2-c391-3904adae92b3"
      },
      "execution_count": null,
      "outputs": [
        {
          "output_type": "execute_result",
          "data": {
            "text/plain": [
              "{1, 2, 6, 73}"
            ]
          },
          "metadata": {},
          "execution_count": 11
        }
      ]
    },
    {
      "cell_type": "markdown",
      "source": [
        "union()"
      ],
      "metadata": {
        "id": "s3VOxtxWbY3j"
      }
    },
    {
      "cell_type": "code",
      "source": [
        "# Initialize sets A and B\n",
        "A = {1, 2, 3, 4, 5}\n",
        "\n",
        "B = {4, 5, 6, 7, 8}"
      ],
      "metadata": {
        "id": "4mLia_YBbbS9"
      },
      "execution_count": null,
      "outputs": []
    },
    {
      "cell_type": "code",
      "source": [
        "A | B"
      ],
      "metadata": {
        "colab": {
          "base_uri": "https://localhost:8080/"
        },
        "id": "icjYokqsbhR6",
        "outputId": "c3771d43-e7b8-47af-9d7c-7b6197add7e9"
      },
      "execution_count": null,
      "outputs": [
        {
          "output_type": "execute_result",
          "data": {
            "text/plain": [
              "{1, 2, 3, 4, 5, 6, 7, 8}"
            ]
          },
          "metadata": {},
          "execution_count": 13
        }
      ]
    },
    {
      "cell_type": "code",
      "source": [
        "A.union(B)"
      ],
      "metadata": {
        "colab": {
          "base_uri": "https://localhost:8080/"
        },
        "id": "-tTEUqK7bitS",
        "outputId": "06ee2e6e-1d24-4d44-dbb8-45634a6269f5"
      },
      "execution_count": null,
      "outputs": [
        {
          "output_type": "execute_result",
          "data": {
            "text/plain": [
              "{1, 2, 3, 4, 5, 6, 7, 8}"
            ]
          },
          "metadata": {},
          "execution_count": 14
        }
      ]
    },
    {
      "cell_type": "markdown",
      "source": [
        "intersection()"
      ],
      "metadata": {
        "id": "JO8ZrGoHbm4i"
      }
    },
    {
      "cell_type": "code",
      "source": [
        "A = {1, 2, 3, 4, 5}\n",
        "B = {4, 5, 6, 7, 8}"
      ],
      "metadata": {
        "id": "jaEPmrvQbmMV"
      },
      "execution_count": null,
      "outputs": []
    },
    {
      "cell_type": "code",
      "source": [
        "A & B"
      ],
      "metadata": {
        "colab": {
          "base_uri": "https://localhost:8080/"
        },
        "id": "UIVpnRAAbtVf",
        "outputId": "ccbc06f6-dc4f-407e-d026-ea0286eacf78"
      },
      "execution_count": null,
      "outputs": [
        {
          "output_type": "execute_result",
          "data": {
            "text/plain": [
              "{4, 5}"
            ]
          },
          "metadata": {},
          "execution_count": 17
        }
      ]
    },
    {
      "cell_type": "code",
      "source": [
        "A.intersection(B)"
      ],
      "metadata": {
        "colab": {
          "base_uri": "https://localhost:8080/"
        },
        "id": "q122P1qRbrU5",
        "outputId": "067abb51-6db3-4077-b6fb-55c478c0e8ca"
      },
      "execution_count": null,
      "outputs": [
        {
          "output_type": "execute_result",
          "data": {
            "text/plain": [
              "{4, 5}"
            ]
          },
          "metadata": {},
          "execution_count": 18
        }
      ]
    },
    {
      "cell_type": "markdown",
      "source": [
        "Difference()"
      ],
      "metadata": {
        "id": "EKEj4WDnb0pT"
      }
    },
    {
      "cell_type": "code",
      "source": [
        "A = {1, 2, 3, 4, 5}\n",
        "\n",
        "B = {4, 5, 6, 7, 8}"
      ],
      "metadata": {
        "id": "cnT60D3mb28Q"
      },
      "execution_count": null,
      "outputs": []
    },
    {
      "cell_type": "code",
      "source": [
        "A - B"
      ],
      "metadata": {
        "colab": {
          "base_uri": "https://localhost:8080/"
        },
        "id": "PyQtLto9b4el",
        "outputId": "abf482b7-8ad7-4a3f-8671-af240512e862"
      },
      "execution_count": null,
      "outputs": [
        {
          "output_type": "execute_result",
          "data": {
            "text/plain": [
              "{1, 2, 3}"
            ]
          },
          "metadata": {},
          "execution_count": 20
        }
      ]
    },
    {
      "cell_type": "code",
      "source": [
        "A.difference(B)"
      ],
      "metadata": {
        "colab": {
          "base_uri": "https://localhost:8080/"
        },
        "id": "R_U28-Glb6Sw",
        "outputId": "78d48245-1157-41f3-9e3a-6ba2518c4121"
      },
      "execution_count": null,
      "outputs": [
        {
          "output_type": "execute_result",
          "data": {
            "text/plain": [
              "{1, 2, 3}"
            ]
          },
          "metadata": {},
          "execution_count": 21
        }
      ]
    },
    {
      "cell_type": "code",
      "source": [
        "B - A"
      ],
      "metadata": {
        "colab": {
          "base_uri": "https://localhost:8080/"
        },
        "id": "svw0NvaXb8fQ",
        "outputId": "f1ed4066-cb25-410c-a7ff-488084799828"
      },
      "execution_count": null,
      "outputs": [
        {
          "output_type": "execute_result",
          "data": {
            "text/plain": [
              "{6, 7, 8}"
            ]
          },
          "metadata": {},
          "execution_count": 22
        }
      ]
    },
    {
      "cell_type": "code",
      "source": [
        "B.difference(A)"
      ],
      "metadata": {
        "colab": {
          "base_uri": "https://localhost:8080/"
        },
        "id": "B3DRKmY3cAg-",
        "outputId": "2188e2b9-0baa-4ff6-c65f-1b049bccba7a"
      },
      "execution_count": null,
      "outputs": [
        {
          "output_type": "execute_result",
          "data": {
            "text/plain": [
              "{6, 7, 8}"
            ]
          },
          "metadata": {},
          "execution_count": 23
        }
      ]
    },
    {
      "cell_type": "markdown",
      "source": [
        "symmetric_difference()"
      ],
      "metadata": {
        "id": "8jebEp-8cIHs"
      }
    },
    {
      "cell_type": "code",
      "source": [
        "A = {1, 2, 3, 4, 5}\n",
        "B = {4, 5, 6, 7, 8}"
      ],
      "metadata": {
        "id": "XaJ5b5gXcLF8"
      },
      "execution_count": null,
      "outputs": []
    },
    {
      "cell_type": "code",
      "source": [
        "A^B"
      ],
      "metadata": {
        "colab": {
          "base_uri": "https://localhost:8080/"
        },
        "id": "IaeJAaYXcMVh",
        "outputId": "b8e47383-ae74-40b7-fcac-2ef4a2c7f8b2"
      },
      "execution_count": null,
      "outputs": [
        {
          "output_type": "execute_result",
          "data": {
            "text/plain": [
              "{1, 2, 3, 6, 7, 8}"
            ]
          },
          "metadata": {},
          "execution_count": 25
        }
      ]
    },
    {
      "cell_type": "code",
      "source": [
        "A.symmetric_difference(B)"
      ],
      "metadata": {
        "colab": {
          "base_uri": "https://localhost:8080/"
        },
        "id": "__lRXIYYcQZd",
        "outputId": "16a24e51-bcc2-4b66-8ce3-0acc842f8840"
      },
      "execution_count": null,
      "outputs": [
        {
          "output_type": "execute_result",
          "data": {
            "text/plain": [
              "{1, 2, 3, 6, 7, 8}"
            ]
          },
          "metadata": {},
          "execution_count": 26
        }
      ]
    },
    {
      "cell_type": "markdown",
      "source": [
        "# **Dictionaries**"
      ],
      "metadata": {
        "id": "SA-fwHN-caPs"
      }
    },
    {
      "cell_type": "markdown",
      "source": [
        "# Dictionaries\n",
        "\n",
        "* We've been learning about *sequences* in Python but now we're going to switch gears and learn about *mappings* in Python.\n",
        "\n",
        "\n",
        "* If you're familiar with other languages you can think of these Dictionaries as hash tables.\n",
        "\n",
        "\n",
        "* So what are mappings? Mappings are a collection of objects that are stored by a *key*, unlike a sequence that stored objects by their relative position. This is an important distinction, since mappings won't retain order since they have objects defined by a key.\n",
        "\n",
        "\n",
        "* A Python dictionary consists of a key and then an associated value. That value can be almost any Python object. So a dictionary object always has elements as key-value pairs\n",
        "\n",
        "\n",
        "## Constructing a Dictionary\n",
        "\n",
        "\n",
        "* A dictionary object is constructed using curly braces <code>{key1:value1,key2:value2,key3:value3}</code>"
      ],
      "metadata": {
        "id": "1tafulBk-n9Z"
      }
    },
    {
      "cell_type": "code",
      "source": [
        "marvel_dict = {'Name':'Thor','Place':'Asgard','Weapon' : 'Hammer', 1:2, 3 : 'power', 'alibies' : ['Ironman','Captain America'], 'abc' : {1:2, 4:5}}"
      ],
      "metadata": {
        "id": "Llrixr2Ackpn"
      },
      "execution_count": 2,
      "outputs": []
    },
    {
      "cell_type": "code",
      "source": [
        "# Call values by their key\n",
        "marvel_dict['Place']"
      ],
      "metadata": {
        "colab": {
          "base_uri": "https://localhost:8080/",
          "height": 35
        },
        "id": "3dV-rWfD-vwq",
        "outputId": "6b244f3e-9fb6-4c65-ffb2-0d169fb06449"
      },
      "execution_count": null,
      "outputs": [
        {
          "output_type": "execute_result",
          "data": {
            "text/plain": [
              "'Asgard'"
            ],
            "application/vnd.google.colaboratory.intrinsic+json": {
              "type": "string"
            }
          },
          "metadata": {},
          "execution_count": 2
        }
      ]
    },
    {
      "cell_type": "code",
      "source": [
        "type(marvel_dict)"
      ],
      "metadata": {
        "colab": {
          "base_uri": "https://localhost:8080/"
        },
        "id": "xBUwA982-wEQ",
        "outputId": "eb8ccf03-88fc-4e9a-ca54-0baf0bb80491"
      },
      "execution_count": null,
      "outputs": [
        {
          "output_type": "execute_result",
          "data": {
            "text/plain": [
              "dict"
            ]
          },
          "metadata": {},
          "execution_count": 3
        }
      ]
    },
    {
      "cell_type": "code",
      "source": [
        "marvel_dict['Name']"
      ],
      "metadata": {
        "colab": {
          "base_uri": "https://localhost:8080/",
          "height": 35
        },
        "id": "9LXTZiLs-2mq",
        "outputId": "2eb4d87c-7f84-4671-c994-d09bb2281192"
      },
      "execution_count": null,
      "outputs": [
        {
          "output_type": "execute_result",
          "data": {
            "text/plain": [
              "'Thor'"
            ],
            "application/vnd.google.colaboratory.intrinsic+json": {
              "type": "string"
            }
          },
          "metadata": {},
          "execution_count": 4
        }
      ]
    },
    {
      "cell_type": "markdown",
      "source": [
        "# **Dictionary Methods**"
      ],
      "metadata": {
        "id": "WbH-BRsu-7lK"
      }
    },
    {
      "cell_type": "markdown",
      "source": [
        "keys()"
      ],
      "metadata": {
        "id": "jRX8mhW3-_Fa"
      }
    },
    {
      "cell_type": "code",
      "source": [
        "marvel_dict.keys()"
      ],
      "metadata": {
        "colab": {
          "base_uri": "https://localhost:8080/"
        },
        "id": "AZih91ZN-8Rm",
        "outputId": "2927ac38-eea4-4a5d-c8a4-80f8574653a3"
      },
      "execution_count": null,
      "outputs": [
        {
          "output_type": "execute_result",
          "data": {
            "text/plain": [
              "dict_keys(['Name', 'Place', 'Weapon', 1, 3, 'alibies', 'abc'])"
            ]
          },
          "metadata": {},
          "execution_count": 5
        }
      ]
    },
    {
      "cell_type": "markdown",
      "source": [
        "values()"
      ],
      "metadata": {
        "id": "Lr-zz2G8_IZ1"
      }
    },
    {
      "cell_type": "code",
      "source": [
        "list(marvel_dict.values())"
      ],
      "metadata": {
        "colab": {
          "base_uri": "https://localhost:8080/"
        },
        "id": "APPejdXj_K6f",
        "outputId": "45f4d8a1-e08c-4dba-96cd-176e3d339ece"
      },
      "execution_count": null,
      "outputs": [
        {
          "output_type": "execute_result",
          "data": {
            "text/plain": [
              "['Thor',\n",
              " 'Asgard',\n",
              " 'Hammer',\n",
              " 2,\n",
              " 'power',\n",
              " ['Ironman', 'Captain America'],\n",
              " {1: 2, 4: 5}]"
            ]
          },
          "metadata": {},
          "execution_count": 6
        }
      ]
    },
    {
      "cell_type": "markdown",
      "source": [
        "items()"
      ],
      "metadata": {
        "id": "7Lx3Xqmf_SO-"
      }
    },
    {
      "cell_type": "code",
      "source": [
        "# Get the keys and their corresponding values\n",
        "list(marvel_dict.items()) # Dict in the list form"
      ],
      "metadata": {
        "colab": {
          "base_uri": "https://localhost:8080/"
        },
        "id": "LX7Z2hT7_S8F",
        "outputId": "11b2a517-729c-4651-d257-1aad19523dda"
      },
      "execution_count": null,
      "outputs": [
        {
          "output_type": "execute_result",
          "data": {
            "text/plain": [
              "[('Name', 'Thor'),\n",
              " ('Place', 'Asgard'),\n",
              " ('Weapon', 'Hammer'),\n",
              " (1, 2),\n",
              " (3, 'power'),\n",
              " ('alibies', ['Ironman', 'Captain America']),\n",
              " ('abc', {1: 2, 4: 5})]"
            ]
          },
          "metadata": {},
          "execution_count": 7
        }
      ]
    },
    {
      "cell_type": "markdown",
      "source": [
        "update()"
      ],
      "metadata": {
        "id": "RaXZPC4gpiFf"
      }
    },
    {
      "cell_type": "code",
      "source": [
        "marvel_dict.update({'Place':'Earth'})\n",
        "marvel_dict"
      ],
      "metadata": {
        "colab": {
          "base_uri": "https://localhost:8080/"
        },
        "id": "c1yWN8JopoNR",
        "outputId": "aa132e2e-47e7-4324-95b0-1501efb0c081"
      },
      "execution_count": 4,
      "outputs": [
        {
          "output_type": "execute_result",
          "data": {
            "text/plain": [
              "{'Name': 'Thor',\n",
              " 'Place': 'Earth',\n",
              " 'Weapon': 'Hammer',\n",
              " 1: 2,\n",
              " 3: 'power',\n",
              " 'alibies': ['Ironman', 'Captain America'],\n",
              " 'abc': {1: 2, 4: 5}}"
            ]
          },
          "metadata": {},
          "execution_count": 4
        }
      ]
    }
  ]
}