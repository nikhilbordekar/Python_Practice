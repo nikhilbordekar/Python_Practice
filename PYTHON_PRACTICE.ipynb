{
  "nbformat": 4,
  "nbformat_minor": 0,
  "metadata": {
    "colab": {
      "provenance": [],
      "authorship_tag": "ABX9TyPOHDm5MgN8SsW6JK3AuHwl",
      "include_colab_link": true
    },
    "kernelspec": {
      "name": "python3",
      "display_name": "Python 3"
    },
    "language_info": {
      "name": "python"
    }
  },
  "cells": [
    {
      "cell_type": "markdown",
      "metadata": {
        "id": "view-in-github",
        "colab_type": "text"
      },
      "source": [
        "<a href=\"https://colab.research.google.com/github/nikhilbordekar/Python_Practice/blob/main/PYTHON_PRACTICE.ipynb\" target=\"_parent\"><img src=\"https://colab.research.google.com/assets/colab-badge.svg\" alt=\"Open In Colab\"/></a>"
      ]
    },
    {
      "cell_type": "markdown",
      "source": [
        "# **Integers and Floats**\n",
        "\n",
        "\n",
        "\n",
        "\n"
      ],
      "metadata": {
        "id": "86I8eHjcme5_"
      }
    },
    {
      "cell_type": "markdown",
      "source": [
        "Basic Arithmetic"
      ],
      "metadata": {
        "id": "byKA7KQ6mq7l"
      }
    },
    {
      "cell_type": "code",
      "source": [
        "# Addition\n",
        "2+1"
      ],
      "metadata": {
        "colab": {
          "base_uri": "https://localhost:8080/"
        },
        "id": "4HP4cF5Omt5N",
        "outputId": "242266f7-7bcb-468f-b80b-e9325d10be96"
      },
      "execution_count": null,
      "outputs": [
        {
          "output_type": "execute_result",
          "data": {
            "text/plain": [
              "3"
            ]
          },
          "metadata": {},
          "execution_count": 1
        }
      ]
    },
    {
      "cell_type": "code",
      "source": [
        "# Subtraction\n",
        "2-5"
      ],
      "metadata": {
        "colab": {
          "base_uri": "https://localhost:8080/"
        },
        "id": "RQBedFl5mwV9",
        "outputId": "9944872a-1df7-47b4-a038-05f5ef60db0b"
      },
      "execution_count": null,
      "outputs": [
        {
          "output_type": "execute_result",
          "data": {
            "text/plain": [
              "-3"
            ]
          },
          "metadata": {},
          "execution_count": 2
        }
      ]
    },
    {
      "cell_type": "code",
      "source": [
        "# Multiplication\n",
        "2*2"
      ],
      "metadata": {
        "colab": {
          "base_uri": "https://localhost:8080/"
        },
        "id": "s2XJ_h6em0St",
        "outputId": "847f28c8-10c5-4602-e10b-33b7c29dc54a"
      },
      "execution_count": null,
      "outputs": [
        {
          "output_type": "execute_result",
          "data": {
            "text/plain": [
              "4"
            ]
          },
          "metadata": {},
          "execution_count": 3
        }
      ]
    },
    {
      "cell_type": "code",
      "source": [
        "# Division\n",
        "3/2"
      ],
      "metadata": {
        "colab": {
          "base_uri": "https://localhost:8080/"
        },
        "id": "jZEddTv-m3K1",
        "outputId": "9e302f84-ebe3-4659-ba92-42a424060be5"
      },
      "execution_count": null,
      "outputs": [
        {
          "output_type": "execute_result",
          "data": {
            "text/plain": [
              "1.5"
            ]
          },
          "metadata": {},
          "execution_count": 4
        }
      ]
    },
    {
      "cell_type": "code",
      "source": [
        "# Floor Division\n",
        "7//2"
      ],
      "metadata": {
        "colab": {
          "base_uri": "https://localhost:8080/"
        },
        "id": "5eKNmuY-m5Dd",
        "outputId": "33d038b7-a34d-4d62-c7e6-ecac65cbf557"
      },
      "execution_count": null,
      "outputs": [
        {
          "output_type": "execute_result",
          "data": {
            "text/plain": [
              "3"
            ]
          },
          "metadata": {},
          "execution_count": 5
        }
      ]
    },
    {
      "cell_type": "code",
      "source": [
        "# Exponentiation\n",
        "2**5"
      ],
      "metadata": {
        "colab": {
          "base_uri": "https://localhost:8080/"
        },
        "id": "dDv3zl38m8OP",
        "outputId": "b03b89df-76c8-46bc-8854-e07efea2ea49"
      },
      "execution_count": null,
      "outputs": [
        {
          "output_type": "execute_result",
          "data": {
            "text/plain": [
              "32"
            ]
          },
          "metadata": {},
          "execution_count": 6
        }
      ]
    },
    {
      "cell_type": "code",
      "source": [
        "# Modulus\n",
        "5%6"
      ],
      "metadata": {
        "colab": {
          "base_uri": "https://localhost:8080/"
        },
        "id": "6icdQS8Nm-R-",
        "outputId": "9a3e9773-1c9f-45b9-c9a1-9f069b1139b7"
      },
      "execution_count": null,
      "outputs": [
        {
          "output_type": "execute_result",
          "data": {
            "text/plain": [
              "5"
            ]
          },
          "metadata": {},
          "execution_count": 7
        }
      ]
    },
    {
      "cell_type": "markdown",
      "source": [
        "# **String**"
      ],
      "metadata": {
        "id": "4fMXMj7hnQKV"
      }
    },
    {
      "cell_type": "code",
      "source": [
        "# Single word\n",
        "my_first_string= 'MATHEMATICS'\n",
        "my_first_string"
      ],
      "metadata": {
        "colab": {
          "base_uri": "https://localhost:8080/"
        },
        "id": "dlLCuKP0nRWU",
        "outputId": "830b954b-79d3-4a21-8b59-7b3bb1924441"
      },
      "execution_count": null,
      "outputs": [
        {
          "output_type": "execute_result",
          "data": {
            "text/plain": [
              "'MATHEMATICS'"
            ],
            "application/vnd.google.colaboratory.intrinsic+json": {
              "type": "string"
            }
          },
          "metadata": {},
          "execution_count": 8
        }
      ]
    },
    {
      "cell_type": "code",
      "source": [
        "# Entire phrase\n",
        "phrase = 'Statistics sits at the heart of machine learning'\n",
        "print(phrase)"
      ],
      "metadata": {
        "colab": {
          "base_uri": "https://localhost:8080/"
        },
        "id": "iWi3aUvrnRdm",
        "outputId": "90c84346-56b5-4f9d-fb87-01c8fae31eb4"
      },
      "execution_count": null,
      "outputs": [
        {
          "output_type": "stream",
          "name": "stdout",
          "text": [
            "Statistics sits at the heart of machine learning\n"
          ]
        }
      ]
    },
    {
      "cell_type": "markdown",
      "source": [
        "String Indexing"
      ],
      "metadata": {
        "id": "iERyNFpznfyM"
      }
    },
    {
      "cell_type": "code",
      "source": [
        "# Assign string as a string\n",
        "string  = 'Principal Component Analysis!'\n",
        "# Show first element (in this case a letter)\n",
        "print(string[5])"
      ],
      "metadata": {
        "colab": {
          "base_uri": "https://localhost:8080/"
        },
        "id": "-_mRRcUtngRq",
        "outputId": "8a53bd00-20e0-4967-8fa9-c3e99522e23f"
      },
      "execution_count": null,
      "outputs": [
        {
          "output_type": "stream",
          "name": "stdout",
          "text": [
            "i\n"
          ]
        }
      ]
    },
    {
      "cell_type": "code",
      "source": [
        "print(string[-2])"
      ],
      "metadata": {
        "colab": {
          "base_uri": "https://localhost:8080/"
        },
        "id": "-Zg978wJnqd6",
        "outputId": "2a5a838c-a49b-4d06-df1b-7bc80808e2af"
      },
      "execution_count": null,
      "outputs": [
        {
          "output_type": "stream",
          "name": "stdout",
          "text": [
            "s\n"
          ]
        }
      ]
    },
    {
      "cell_type": "markdown",
      "source": [
        "String Slicing"
      ],
      "metadata": {
        "id": "RcPF4fVmnry7"
      }
    },
    {
      "cell_type": "code",
      "source": [
        "# Grab everything past the first term all the way to the length of s which is len(s)\n",
        "print(string)\n",
        "print(string[:13])"
      ],
      "metadata": {
        "colab": {
          "base_uri": "https://localhost:8080/"
        },
        "id": "41qYAKBFnuYW",
        "outputId": "26d8230b-4340-4c4f-9796-04ba86c01089"
      },
      "execution_count": null,
      "outputs": [
        {
          "output_type": "stream",
          "name": "stdout",
          "text": [
            "Principal Component Analysis!\n",
            "Principal Com\n"
          ]
        }
      ]
    },
    {
      "cell_type": "code",
      "source": [
        "# Grab everything starting from index 10 till index 18\n",
        "print(string[10:])"
      ],
      "metadata": {
        "colab": {
          "base_uri": "https://localhost:8080/"
        },
        "id": "m_AoBfifnynF",
        "outputId": "b062afb3-9616-48d0-e298-c0195b0aaf59"
      },
      "execution_count": null,
      "outputs": [
        {
          "output_type": "stream",
          "name": "stdout",
          "text": [
            "Component Analysis!\n"
          ]
        }
      ]
    },
    {
      "cell_type": "code",
      "source": [
        "# Grab everything, but go in steps size of 1\n",
        "print(string[::1])"
      ],
      "metadata": {
        "colab": {
          "base_uri": "https://localhost:8080/"
        },
        "id": "JidWNRQUn1u2",
        "outputId": "bca32768-1384-4e02-8f88-58dc376f794b"
      },
      "execution_count": null,
      "outputs": [
        {
          "output_type": "stream",
          "name": "stdout",
          "text": [
            "Principal Component Analysis!\n"
          ]
        }
      ]
    },
    {
      "cell_type": "markdown",
      "source": [
        "String functions and methods"
      ],
      "metadata": {
        "id": "pGFFIe3Kn9T1"
      }
    },
    {
      "cell_type": "code",
      "source": [
        "algorithm = 'Neural Networks'\n",
        "\n",
        "print(algorithm)"
      ],
      "metadata": {
        "colab": {
          "base_uri": "https://localhost:8080/"
        },
        "id": "vgDhu59in-P1",
        "outputId": "a138f7a2-ceb6-4d34-d44c-ab12cc04109e"
      },
      "execution_count": null,
      "outputs": [
        {
          "output_type": "stream",
          "name": "stdout",
          "text": [
            "Neural Networks\n"
          ]
        }
      ]
    },
    {
      "cell_type": "markdown",
      "source": [
        "len()"
      ],
      "metadata": {
        "id": "WvmmmYaNoB5l"
      }
    },
    {
      "cell_type": "code",
      "source": [
        "# Print the length of the string\n",
        "len(algorithm)"
      ],
      "metadata": {
        "colab": {
          "base_uri": "https://localhost:8080/"
        },
        "id": "-GoURdzBoEhl",
        "outputId": "ffebc1f0-ad60-463a-dbfe-49508e968704"
      },
      "execution_count": null,
      "outputs": [
        {
          "output_type": "execute_result",
          "data": {
            "text/plain": [
              "15"
            ]
          },
          "metadata": {},
          "execution_count": 16
        }
      ]
    },
    {
      "cell_type": "markdown",
      "source": [
        "lower()/upper()"
      ],
      "metadata": {
        "id": "6MIDLejloJb1"
      }
    },
    {
      "cell_type": "code",
      "source": [
        "algorithm.lower()"
      ],
      "metadata": {
        "colab": {
          "base_uri": "https://localhost:8080/"
        },
        "id": "WrzRGQYWoNdt",
        "outputId": "d262aedd-4007-44b0-a7e2-b5b3563f6a5b"
      },
      "execution_count": null,
      "outputs": [
        {
          "output_type": "execute_result",
          "data": {
            "text/plain": [
              "'neural networks'"
            ],
            "application/vnd.google.colaboratory.intrinsic+json": {
              "type": "string"
            }
          },
          "metadata": {},
          "execution_count": 17
        }
      ]
    },
    {
      "cell_type": "code",
      "source": [
        "algorithm.upper()"
      ],
      "metadata": {
        "colab": {
          "base_uri": "https://localhost:8080/"
        },
        "id": "ZXV67JlhoUYt",
        "outputId": "bf606c1c-dbc7-4f00-87b7-0c958741df44"
      },
      "execution_count": null,
      "outputs": [
        {
          "output_type": "execute_result",
          "data": {
            "text/plain": [
              "'NEURAL NETWORKS'"
            ],
            "application/vnd.google.colaboratory.intrinsic+json": {
              "type": "string"
            }
          },
          "metadata": {},
          "execution_count": 18
        }
      ]
    },
    {
      "cell_type": "markdown",
      "source": [
        "count()"
      ],
      "metadata": {
        "id": "rcD4or1doapn"
      }
    },
    {
      "cell_type": "code",
      "source": [
        "algorithm"
      ],
      "metadata": {
        "colab": {
          "base_uri": "https://localhost:8080/"
        },
        "id": "bbWXGkFQompG",
        "outputId": "4ac85329-314e-4f4b-9a1c-e3704572a435"
      },
      "execution_count": null,
      "outputs": [
        {
          "output_type": "execute_result",
          "data": {
            "text/plain": [
              "'Neural Networks'"
            ],
            "application/vnd.google.colaboratory.intrinsic+json": {
              "type": "string"
            }
          },
          "metadata": {},
          "execution_count": 19
        }
      ]
    },
    {
      "cell_type": "code",
      "source": [
        "algorithm.count('Ne')"
      ],
      "metadata": {
        "colab": {
          "base_uri": "https://localhost:8080/"
        },
        "id": "8GbyeNcIoaCt",
        "outputId": "57f68e52-76dc-4fe9-d05f-b05497a57986"
      },
      "execution_count": null,
      "outputs": [
        {
          "output_type": "execute_result",
          "data": {
            "text/plain": [
              "2"
            ]
          },
          "metadata": {},
          "execution_count": 20
        }
      ]
    },
    {
      "cell_type": "markdown",
      "source": [
        "find()"
      ],
      "metadata": {
        "id": "LmxnjqeMosc1"
      }
    },
    {
      "cell_type": "code",
      "source": [
        "algorithm.find('e')"
      ],
      "metadata": {
        "colab": {
          "base_uri": "https://localhost:8080/"
        },
        "id": "5fRGr8zBotC1",
        "outputId": "3262972c-7ee7-4da3-bcb6-5b26c2113fe5"
      },
      "execution_count": null,
      "outputs": [
        {
          "output_type": "execute_result",
          "data": {
            "text/plain": [
              "1"
            ]
          },
          "metadata": {},
          "execution_count": 21
        }
      ]
    },
    {
      "cell_type": "markdown",
      "source": [
        "replace()"
      ],
      "metadata": {
        "id": "qQMaanHzo1nt"
      }
    },
    {
      "cell_type": "code",
      "source": [
        "algorithm.replace(\" \", \"-\")\n"
      ],
      "metadata": {
        "colab": {
          "base_uri": "https://localhost:8080/"
        },
        "id": "naIfmrOco2LW",
        "outputId": "a10a3438-82e6-4254-e4a4-0d036d3409b8"
      },
      "execution_count": null,
      "outputs": [
        {
          "output_type": "execute_result",
          "data": {
            "text/plain": [
              "'Neural-Networks'"
            ],
            "application/vnd.google.colaboratory.intrinsic+json": {
              "type": "string"
            }
          },
          "metadata": {},
          "execution_count": 22
        }
      ]
    },
    {
      "cell_type": "markdown",
      "source": [
        "# **List**"
      ],
      "metadata": {
        "id": "PoDnIPYvdue8"
      }
    },
    {
      "cell_type": "code",
      "source": [
        "#List can take int, float, str etc\n",
        "my_list = ['A string',23,100.232,'o',True]\n",
        "my_list"
      ],
      "metadata": {
        "colab": {
          "base_uri": "https://localhost:8080/"
        },
        "id": "LHyjfP0-dx2q",
        "outputId": "55401505-d595-4d73-ca1f-2ca928982f84"
      },
      "execution_count": null,
      "outputs": [
        {
          "output_type": "execute_result",
          "data": {
            "text/plain": [
              "['A string', 23, 100.232, 'o', True]"
            ]
          },
          "metadata": {},
          "execution_count": 23
        }
      ]
    },
    {
      "cell_type": "markdown",
      "source": [
        "List Indexing"
      ],
      "metadata": {
        "id": "VeuJvkAmNfn5"
      }
    },
    {
      "cell_type": "code",
      "source": [
        "loss_functions = ['Mean Absolute Error','Mean Squared Error','Huber Loss','Log Loss','Hinge Loss']\n",
        "print(loss_functions)"
      ],
      "metadata": {
        "colab": {
          "base_uri": "https://localhost:8080/"
        },
        "id": "ZBJ0fljMNc1r",
        "outputId": "5a042769-52c9-4b2d-b15d-f06de8d102bf"
      },
      "execution_count": null,
      "outputs": [
        {
          "output_type": "stream",
          "name": "stdout",
          "text": [
            "['Mean Absolute Error', 'Mean Squared Error', 'Huber Loss', 'Log Loss', 'Hinge Loss']\n"
          ]
        }
      ]
    },
    {
      "cell_type": "code",
      "source": [
        "print(loss_functions[0])"
      ],
      "metadata": {
        "colab": {
          "base_uri": "https://localhost:8080/"
        },
        "id": "hCXod2MwNjAt",
        "outputId": "7370cc42-904c-4f20-d4ae-6df3a44e752c"
      },
      "execution_count": null,
      "outputs": [
        {
          "output_type": "stream",
          "name": "stdout",
          "text": [
            "Mean Absolute Error\n"
          ]
        }
      ]
    },
    {
      "cell_type": "code",
      "source": [
        "print(loss_functions[-1])"
      ],
      "metadata": {
        "colab": {
          "base_uri": "https://localhost:8080/"
        },
        "id": "IF2tT9BKNmmA",
        "outputId": "960ba034-cd84-402c-b77d-e8edc7a64052"
      },
      "execution_count": null,
      "outputs": [
        {
          "output_type": "stream",
          "name": "stdout",
          "text": [
            "Hinge Loss\n"
          ]
        }
      ]
    },
    {
      "cell_type": "markdown",
      "source": [
        "List Slicing"
      ],
      "metadata": {
        "id": "EmJ9DtG_Npzo"
      }
    },
    {
      "cell_type": "code",
      "source": [
        "loss_functions[1:4]"
      ],
      "metadata": {
        "colab": {
          "base_uri": "https://localhost:8080/"
        },
        "id": "tInPtX-7NqZY",
        "outputId": "86aa6bab-cf9c-4ed3-c18c-c88496abdef3"
      },
      "execution_count": null,
      "outputs": [
        {
          "output_type": "execute_result",
          "data": {
            "text/plain": [
              "['Mean Squared Error', 'Huber Loss', 'Log Loss']"
            ]
          },
          "metadata": {},
          "execution_count": 27
        }
      ]
    },
    {
      "cell_type": "code",
      "source": [
        "loss_functions[2:]"
      ],
      "metadata": {
        "colab": {
          "base_uri": "https://localhost:8080/"
        },
        "id": "Cc6ddmewNvDP",
        "outputId": "49aa4c8c-0fe8-45bc-e4cf-3282a4462008"
      },
      "execution_count": null,
      "outputs": [
        {
          "output_type": "execute_result",
          "data": {
            "text/plain": [
              "['Huber Loss', 'Log Loss', 'Hinge Loss']"
            ]
          },
          "metadata": {},
          "execution_count": 28
        }
      ]
    },
    {
      "cell_type": "code",
      "source": [
        "# Grab everything\n",
        "print(loss_functions[:])"
      ],
      "metadata": {
        "colab": {
          "base_uri": "https://localhost:8080/"
        },
        "id": "hKnN6JCINykI",
        "outputId": "2abb2906-f12e-46ff-d2c4-b624b0585e30"
      },
      "execution_count": null,
      "outputs": [
        {
          "output_type": "stream",
          "name": "stdout",
          "text": [
            "['Mean Absolute Error', 'Mean Squared Error', 'Huber Loss', 'Log Loss', 'Hinge Loss']\n"
          ]
        }
      ]
    },
    {
      "cell_type": "markdown",
      "source": [
        "List Operations"
      ],
      "metadata": {
        "id": "qkJz4upzN3ci"
      }
    },
    {
      "cell_type": "code",
      "source": [
        "#concatenate\n",
        "loss_functions + ['Kullback-Leibler']"
      ],
      "metadata": {
        "colab": {
          "base_uri": "https://localhost:8080/"
        },
        "id": "6AtmlLkHN4IZ",
        "outputId": "1d7c0dfb-a53c-45ad-8d0d-76d7dd023a47"
      },
      "execution_count": null,
      "outputs": [
        {
          "output_type": "execute_result",
          "data": {
            "text/plain": [
              "['Mean Absolute Error',\n",
              " 'Mean Squared Error',\n",
              " 'Huber Loss',\n",
              " 'Log Loss',\n",
              " 'Hinge Loss',\n",
              " 'Kullback-Leibler']"
            ]
          },
          "metadata": {},
          "execution_count": 30
        }
      ]
    },
    {
      "cell_type": "code",
      "source": [
        "#Note: This doesn't actually change the original list!\n",
        "print(loss_functions)"
      ],
      "metadata": {
        "colab": {
          "base_uri": "https://localhost:8080/"
        },
        "id": "o3hvwVm8OBgQ",
        "outputId": "aab5d5b1-dbe8-45ef-cfe6-6d8e96027600"
      },
      "execution_count": null,
      "outputs": [
        {
          "output_type": "stream",
          "name": "stdout",
          "text": [
            "['Mean Absolute Error', 'Mean Squared Error', 'Huber Loss', 'Log Loss', 'Hinge Loss']\n"
          ]
        }
      ]
    },
    {
      "cell_type": "code",
      "source": [
        "# Reassign\n",
        "loss_functions = loss_functions + ['Kullback-Leibler']"
      ],
      "metadata": {
        "id": "Uso8CGYROIV7"
      },
      "execution_count": null,
      "outputs": []
    },
    {
      "cell_type": "markdown",
      "source": [
        "List Functions"
      ],
      "metadata": {
        "id": "hPdN6W8JOiMH"
      }
    },
    {
      "cell_type": "markdown",
      "source": [
        "1. sum(list)"
      ],
      "metadata": {
        "id": "78-3lg1vOs2g"
      }
    },
    {
      "cell_type": "code",
      "source": [
        "new_list = [6, 9, 1, 3, 5.5]"
      ],
      "metadata": {
        "id": "0AECAQW9Ow7Z"
      },
      "execution_count": null,
      "outputs": []
    },
    {
      "cell_type": "code",
      "source": [
        "sum(new_list)"
      ],
      "metadata": {
        "colab": {
          "base_uri": "https://localhost:8080/"
        },
        "id": "U-MNE7ayOisf",
        "outputId": "a414d672-e7c9-46fe-abee-7ba79730a4f5"
      },
      "execution_count": null,
      "outputs": [
        {
          "output_type": "execute_result",
          "data": {
            "text/plain": [
              "24.5"
            ]
          },
          "metadata": {},
          "execution_count": 34
        }
      ]
    },
    {
      "cell_type": "markdown",
      "source": [
        "2. sorted()"
      ],
      "metadata": {
        "id": "QlV7ktP-O5NB"
      }
    },
    {
      "cell_type": "code",
      "source": [
        "sorted(new_list)"
      ],
      "metadata": {
        "colab": {
          "base_uri": "https://localhost:8080/"
        },
        "id": "szKZ9qC6O6rC",
        "outputId": "80b27eb5-09ca-4c5c-8eff-e4258fbb19a6"
      },
      "execution_count": null,
      "outputs": [
        {
          "output_type": "execute_result",
          "data": {
            "text/plain": [
              "[1, 3, 5.5, 6, 9]"
            ]
          },
          "metadata": {},
          "execution_count": 35
        }
      ]
    },
    {
      "cell_type": "code",
      "source": [
        "#descending order\n",
        "sorted(new_list,reverse=True)"
      ],
      "metadata": {
        "colab": {
          "base_uri": "https://localhost:8080/"
        },
        "id": "_nCUtWkSPBsY",
        "outputId": "a804b0ad-b77a-42b8-ce18-c2a40f0406d5"
      },
      "execution_count": null,
      "outputs": [
        {
          "output_type": "execute_result",
          "data": {
            "text/plain": [
              "[9, 6, 5.5, 3, 1]"
            ]
          },
          "metadata": {},
          "execution_count": 36
        }
      ]
    },
    {
      "cell_type": "markdown",
      "source": [
        "List Methods"
      ],
      "metadata": {
        "id": "RW9LfbEZPNIh"
      }
    },
    {
      "cell_type": "markdown",
      "source": [
        "1. append()"
      ],
      "metadata": {
        "id": "NfBHP_56PRxQ"
      }
    },
    {
      "cell_type": "code",
      "source": [
        "my_list"
      ],
      "metadata": {
        "colab": {
          "base_uri": "https://localhost:8080/"
        },
        "id": "jRDqmPsWPNoY",
        "outputId": "0531f37d-d5a8-4c23-ce7c-a71a6b4751f4"
      },
      "execution_count": null,
      "outputs": [
        {
          "output_type": "execute_result",
          "data": {
            "text/plain": [
              "['A string', 23, 100.232, 'o', True]"
            ]
          },
          "metadata": {},
          "execution_count": 37
        }
      ]
    },
    {
      "cell_type": "code",
      "source": [
        "# Append to the end of the list\n",
        "my_list.append('Append me!')"
      ],
      "metadata": {
        "id": "mn3JA4FkPWz4"
      },
      "execution_count": null,
      "outputs": []
    },
    {
      "cell_type": "markdown",
      "source": [
        "2. extend()\n",
        "\n",
        "  Use the extend() method to merge a list to an existing list"
      ],
      "metadata": {
        "id": "H2bID51qPeaQ"
      }
    },
    {
      "cell_type": "code",
      "source": [
        "my_list"
      ],
      "metadata": {
        "colab": {
          "base_uri": "https://localhost:8080/"
        },
        "id": "ws5t-RhKPpKL",
        "outputId": "66c6e867-da13-423c-fc8c-44adff788d56"
      },
      "execution_count": null,
      "outputs": [
        {
          "output_type": "execute_result",
          "data": {
            "text/plain": [
              "['A string', 23, 100.232, 'o', True, 'Append me!']"
            ]
          },
          "metadata": {},
          "execution_count": 39
        }
      ]
    },
    {
      "cell_type": "code",
      "source": [
        "my_list.extend(['Wubba','Lubba','Dub Dub'])"
      ],
      "metadata": {
        "id": "kboPcss7PkvA"
      },
      "execution_count": null,
      "outputs": []
    },
    {
      "cell_type": "code",
      "source": [
        "my_list"
      ],
      "metadata": {
        "colab": {
          "base_uri": "https://localhost:8080/"
        },
        "id": "sreiJdcJPqRi",
        "outputId": "eafc97cb-9368-4e1f-a0a2-a6334e5531d4"
      },
      "execution_count": null,
      "outputs": [
        {
          "output_type": "execute_result",
          "data": {
            "text/plain": [
              "['A string', 23, 100.232, 'o', True, 'Append me!', 'Wubba', 'Lubba', 'Dub Dub']"
            ]
          },
          "metadata": {},
          "execution_count": 41
        }
      ]
    },
    {
      "cell_type": "markdown",
      "source": [
        "3. pop()"
      ],
      "metadata": {
        "id": "tPcP9WlFPv93"
      }
    },
    {
      "cell_type": "code",
      "source": [
        "my_list"
      ],
      "metadata": {
        "colab": {
          "base_uri": "https://localhost:8080/"
        },
        "id": "vvZcWsB6P6Kv",
        "outputId": "39b415ae-bb6e-48f1-a550-9bae2af405ff"
      },
      "execution_count": null,
      "outputs": [
        {
          "output_type": "execute_result",
          "data": {
            "text/plain": [
              "['A string', 23, 100.232, 'o', True, 'Append me!', 'Wubba', 'Lubba', 'Dub Dub']"
            ]
          },
          "metadata": {},
          "execution_count": 42
        }
      ]
    },
    {
      "cell_type": "code",
      "source": [
        "#Last index is default pop element\n",
        "my_list.pop()"
      ],
      "metadata": {
        "colab": {
          "base_uri": "https://localhost:8080/"
        },
        "id": "e2NkXFyWP6Qd",
        "outputId": "5c33d5fd-e802-489a-8a8b-0396ad033628"
      },
      "execution_count": null,
      "outputs": [
        {
          "output_type": "execute_result",
          "data": {
            "text/plain": [
              "'Dub Dub'"
            ],
            "application/vnd.google.colaboratory.intrinsic+json": {
              "type": "string"
            }
          },
          "metadata": {},
          "execution_count": 43
        }
      ]
    },
    {
      "cell_type": "code",
      "source": [
        "my_list"
      ],
      "metadata": {
        "colab": {
          "base_uri": "https://localhost:8080/"
        },
        "id": "OzYHsn99P9d8",
        "outputId": "cdd1adf1-17bd-4a77-e226-cd772c4b99e7"
      },
      "execution_count": null,
      "outputs": [
        {
          "output_type": "execute_result",
          "data": {
            "text/plain": [
              "['A string', 23, 100.232, 'o', True, 'Append me!', 'Wubba', 'Lubba']"
            ]
          },
          "metadata": {},
          "execution_count": 44
        }
      ]
    },
    {
      "cell_type": "markdown",
      "source": [
        "4. remove()"
      ],
      "metadata": {
        "id": "Gfwc2iouQJFu"
      }
    },
    {
      "cell_type": "code",
      "source": [
        "my_list.remove(\"A string\")"
      ],
      "metadata": {
        "id": "gZnGtvr2QKC6"
      },
      "execution_count": null,
      "outputs": []
    },
    {
      "cell_type": "code",
      "source": [
        "my_list"
      ],
      "metadata": {
        "colab": {
          "base_uri": "https://localhost:8080/"
        },
        "id": "AquMH8n4QWLP",
        "outputId": "fa3f4fa1-511b-487b-90a6-e91e9fbdce43"
      },
      "execution_count": null,
      "outputs": [
        {
          "output_type": "execute_result",
          "data": {
            "text/plain": [
              "[23, 100.232, 'o', True, 'Append me!', 'Wubba', 'Lubba']"
            ]
          },
          "metadata": {},
          "execution_count": 46
        }
      ]
    },
    {
      "cell_type": "markdown",
      "source": [
        "5. reverse()"
      ],
      "metadata": {
        "id": "plofcdxbQbgI"
      }
    },
    {
      "cell_type": "code",
      "source": [
        "my_list"
      ],
      "metadata": {
        "colab": {
          "base_uri": "https://localhost:8080/"
        },
        "id": "0qYJLeXwQce0",
        "outputId": "2b80a5e5-2f5f-4ed8-e5ae-dc21e383dddd"
      },
      "execution_count": null,
      "outputs": [
        {
          "output_type": "execute_result",
          "data": {
            "text/plain": [
              "[23, 100.232, 'o', True, 'Append me!', 'Wubba', 'Lubba']"
            ]
          },
          "metadata": {},
          "execution_count": 47
        }
      ]
    },
    {
      "cell_type": "code",
      "source": [
        "my_list.reverse()"
      ],
      "metadata": {
        "id": "lKXaajCQQeth"
      },
      "execution_count": null,
      "outputs": []
    },
    {
      "cell_type": "code",
      "source": [
        "my_list"
      ],
      "metadata": {
        "id": "YAYJFEIpQkxo",
        "outputId": "88000e7d-eb40-4b89-8a49-adee3d6a464e",
        "colab": {
          "base_uri": "https://localhost:8080/"
        }
      },
      "execution_count": null,
      "outputs": [
        {
          "output_type": "execute_result",
          "data": {
            "text/plain": [
              "['Lubba', 'Wubba', 'Append me!', True, 'o', 100.232, 23]"
            ]
          },
          "metadata": {},
          "execution_count": 49
        }
      ]
    },
    {
      "cell_type": "markdown",
      "source": [
        "# **Tuples**"
      ],
      "metadata": {
        "id": "BAYgJQNzHxgo"
      }
    },
    {
      "cell_type": "code",
      "source": [
        "# Create a tuple\n",
        "my_tuple = (1,'a',3)"
      ],
      "metadata": {
        "id": "rriAgwFcH_Oy"
      },
      "execution_count": null,
      "outputs": []
    },
    {
      "cell_type": "code",
      "source": [
        "print(my_tuple)"
      ],
      "metadata": {
        "colab": {
          "base_uri": "https://localhost:8080/"
        },
        "id": "H5W943LQICgx",
        "outputId": "767da622-d536-44e3-c2b8-c206e664b2ac"
      },
      "execution_count": null,
      "outputs": [
        {
          "output_type": "stream",
          "name": "stdout",
          "text": [
            "(1, 'a', 3)\n"
          ]
        }
      ]
    },
    {
      "cell_type": "markdown",
      "source": [
        "Tuple Indexing"
      ],
      "metadata": {
        "id": "aN7xCOByIK9s"
      }
    },
    {
      "cell_type": "code",
      "source": [
        "my_tuple[0]"
      ],
      "metadata": {
        "colab": {
          "base_uri": "https://localhost:8080/"
        },
        "id": "KMOlJ5j2IL2N",
        "outputId": "a789996f-17f9-4dcf-8f03-aa37820c6503"
      },
      "execution_count": null,
      "outputs": [
        {
          "output_type": "execute_result",
          "data": {
            "text/plain": [
              "1"
            ]
          },
          "metadata": {},
          "execution_count": 52
        }
      ]
    },
    {
      "cell_type": "code",
      "source": [
        "my_tuple[-1]"
      ],
      "metadata": {
        "colab": {
          "base_uri": "https://localhost:8080/"
        },
        "id": "9JPqeJIIITzL",
        "outputId": "4fd9246d-f29e-4abc-ea69-9f5319d53ab8"
      },
      "execution_count": null,
      "outputs": [
        {
          "output_type": "execute_result",
          "data": {
            "text/plain": [
              "3"
            ]
          },
          "metadata": {},
          "execution_count": 53
        }
      ]
    },
    {
      "cell_type": "markdown",
      "source": [
        "Tuple Slicing"
      ],
      "metadata": {
        "id": "69AfLxiOIYlE"
      }
    },
    {
      "cell_type": "code",
      "source": [
        "my_tuple[:]"
      ],
      "metadata": {
        "colab": {
          "base_uri": "https://localhost:8080/"
        },
        "id": "OWEdPtHCIZWN",
        "outputId": "53fea124-907b-40ab-abba-ce28efe6f92b"
      },
      "execution_count": null,
      "outputs": [
        {
          "output_type": "execute_result",
          "data": {
            "text/plain": [
              "(1, 'a', 3)"
            ]
          },
          "metadata": {},
          "execution_count": 54
        }
      ]
    },
    {
      "cell_type": "code",
      "source": [
        "my_tuple[1:]"
      ],
      "metadata": {
        "colab": {
          "base_uri": "https://localhost:8080/"
        },
        "id": "xggtdgyLIjRM",
        "outputId": "8972d15c-4700-431f-ccaf-28b214754614"
      },
      "execution_count": null,
      "outputs": [
        {
          "output_type": "execute_result",
          "data": {
            "text/plain": [
              "('a', 3)"
            ]
          },
          "metadata": {},
          "execution_count": 55
        }
      ]
    },
    {
      "cell_type": "markdown",
      "source": [
        "Tuple Methods"
      ],
      "metadata": {
        "id": "oa3whzaJIsJ3"
      }
    },
    {
      "cell_type": "markdown",
      "source": [
        "1) Index"
      ],
      "metadata": {
        "id": "BCYQKKMAI1Dz"
      }
    },
    {
      "cell_type": "code",
      "source": [
        "my_tuple =(1,2,3,4,5,6,1,1,2)\n",
        "my_tuple.index(2)"
      ],
      "metadata": {
        "colab": {
          "base_uri": "https://localhost:8080/"
        },
        "id": "fGhEL3nVIsvK",
        "outputId": "9e51cc2f-0f7e-456b-ed09-9ec25c06d1fa"
      },
      "execution_count": null,
      "outputs": [
        {
          "output_type": "execute_result",
          "data": {
            "text/plain": [
              "1"
            ]
          },
          "metadata": {},
          "execution_count": 56
        }
      ]
    },
    {
      "cell_type": "markdown",
      "source": [
        "2) Count"
      ],
      "metadata": {
        "id": "yLeb9jBpI4LX"
      }
    },
    {
      "cell_type": "code",
      "source": [
        "my_tuple.count(2)"
      ],
      "metadata": {
        "colab": {
          "base_uri": "https://localhost:8080/"
        },
        "id": "VfKl-PomI8Yw",
        "outputId": "0bd6c9de-8272-484b-a5b3-01f253f3a640"
      },
      "execution_count": null,
      "outputs": [
        {
          "output_type": "execute_result",
          "data": {
            "text/plain": [
              "2"
            ]
          },
          "metadata": {},
          "execution_count": 57
        }
      ]
    },
    {
      "cell_type": "markdown",
      "source": [
        "Immutability"
      ],
      "metadata": {
        "id": "8tZNRnxaJEyj"
      }
    },
    {
      "cell_type": "code",
      "source": [
        "my_tuple[0] = 'change'"
      ],
      "metadata": {
        "colab": {
          "base_uri": "https://localhost:8080/",
          "height": 176
        },
        "id": "5otqmWNHJFbp",
        "outputId": "1a1db8d7-8efa-4f67-d377-020fe5b3840f"
      },
      "execution_count": null,
      "outputs": [
        {
          "output_type": "error",
          "ename": "TypeError",
          "evalue": "ignored",
          "traceback": [
            "\u001b[0;31m---------------------------------------------------------------------------\u001b[0m",
            "\u001b[0;31mTypeError\u001b[0m                                 Traceback (most recent call last)",
            "\u001b[0;32m<ipython-input-59-1113c19e61ee>\u001b[0m in \u001b[0;36m<cell line: 1>\u001b[0;34m()\u001b[0m\n\u001b[0;32m----> 1\u001b[0;31m \u001b[0mmy_tuple\u001b[0m\u001b[0;34m[\u001b[0m\u001b[0;36m0\u001b[0m\u001b[0;34m]\u001b[0m \u001b[0;34m=\u001b[0m \u001b[0;34m'change'\u001b[0m\u001b[0;34m\u001b[0m\u001b[0;34m\u001b[0m\u001b[0m\n\u001b[0m",
            "\u001b[0;31mTypeError\u001b[0m: 'tuple' object does not support item assignment"
          ]
        }
      ]
    },
    {
      "cell_type": "markdown",
      "source": [
        "3) zip()"
      ],
      "metadata": {
        "id": "uJRMH0ANJa9z"
      }
    },
    {
      "cell_type": "code",
      "source": [
        "city_list = ['Delhi','Patna','Cuttack','Guwahati']\n",
        "river_list = ['Yamuna','Ganga','Mahanadi','Brahmaputra']"
      ],
      "metadata": {
        "id": "7pznqkVdJIsa"
      },
      "execution_count": null,
      "outputs": []
    },
    {
      "cell_type": "code",
      "source": [
        "zip(city_list, river_list)"
      ],
      "metadata": {
        "colab": {
          "base_uri": "https://localhost:8080/"
        },
        "id": "r_WNqno2JhWk",
        "outputId": "5614a233-bb88-4be2-b949-3976a7f2f4cc"
      },
      "execution_count": null,
      "outputs": [
        {
          "output_type": "execute_result",
          "data": {
            "text/plain": [
              "<zip at 0x78ae5f615080>"
            ]
          },
          "metadata": {},
          "execution_count": 61
        }
      ]
    },
    {
      "cell_type": "code",
      "source": [
        "print(zip(city_list, river_list))"
      ],
      "metadata": {
        "colab": {
          "base_uri": "https://localhost:8080/"
        },
        "id": "XLcZcUzZJjdT",
        "outputId": "e266f213-47a8-42a5-9eeb-d5c0622fa1df"
      },
      "execution_count": null,
      "outputs": [
        {
          "output_type": "stream",
          "name": "stdout",
          "text": [
            "<zip object at 0x78ae5c36af40>\n"
          ]
        }
      ]
    },
    {
      "cell_type": "code",
      "source": [
        "city_and_their_rivers = list(zip(city_list,river_list))"
      ],
      "metadata": {
        "id": "v5WUDFdEJfjj"
      },
      "execution_count": null,
      "outputs": []
    },
    {
      "cell_type": "code",
      "source": [
        "city_and_their_rivers"
      ],
      "metadata": {
        "colab": {
          "base_uri": "https://localhost:8080/"
        },
        "id": "GvQGpoHBJs37",
        "outputId": "c904f245-0590-4c13-b5da-034b20243ba1"
      },
      "execution_count": null,
      "outputs": [
        {
          "output_type": "execute_result",
          "data": {
            "text/plain": [
              "[('Delhi', 'Yamuna'),\n",
              " ('Patna', 'Ganga'),\n",
              " ('Cuttack', 'Mahanadi'),\n",
              " ('Guwahati', 'Brahmaputra')]"
            ]
          },
          "metadata": {},
          "execution_count": 64
        }
      ]
    },
    {
      "cell_type": "markdown",
      "source": [
        "# **Sets**"
      ],
      "metadata": {
        "id": "Ti_QkF8lJ69M"
      }
    },
    {
      "cell_type": "code",
      "source": [
        "my_list = [1 ,2, 23, 3 ,56]\n",
        "my_set = set(my_list) # unordered Property\n",
        "my_set # Hash Table"
      ],
      "metadata": {
        "id": "6v8XemLwJ8VM",
        "colab": {
          "base_uri": "https://localhost:8080/"
        },
        "outputId": "a542b9e7-b626-47cb-ebfb-bb6f192f6243"
      },
      "execution_count": null,
      "outputs": [
        {
          "output_type": "execute_result",
          "data": {
            "text/plain": [
              "{1, 2, 3, 23, 56}"
            ]
          },
          "metadata": {},
          "execution_count": 65
        }
      ]
    },
    {
      "cell_type": "code",
      "source": [
        "# We add to sets with the add() method\n",
        "my_set = set() # empty Set\n",
        "my_set.add('a')"
      ],
      "metadata": {
        "id": "nAt9dDI9arQR"
      },
      "execution_count": null,
      "outputs": []
    },
    {
      "cell_type": "code",
      "source": [
        "my_set = {5,7,9,3}"
      ],
      "metadata": {
        "id": "zE1FtExMa96V"
      },
      "execution_count": null,
      "outputs": []
    },
    {
      "cell_type": "code",
      "source": [
        "# add multiple elements\n",
        "add_list = [2, 3, 4]\n",
        "my_set.update(add_list)\n",
        "print(my_set)"
      ],
      "metadata": {
        "colab": {
          "base_uri": "https://localhost:8080/"
        },
        "id": "2OtzgVbZbABC",
        "outputId": "04d6e010-7e57-4289-c582-1d08d961c568"
      },
      "execution_count": null,
      "outputs": [
        {
          "output_type": "stream",
          "name": "stdout",
          "text": [
            "{2, 3, 4, 5, 7, 9}\n"
          ]
        }
      ]
    },
    {
      "cell_type": "markdown",
      "source": [
        "Remove()"
      ],
      "metadata": {
        "id": "-bx1qCWAbJgy"
      }
    },
    {
      "cell_type": "code",
      "source": [
        "non_empty_set = {1, 5, 6, 73, 2}"
      ],
      "metadata": {
        "id": "1YjY0Ja8bKYA"
      },
      "execution_count": null,
      "outputs": []
    },
    {
      "cell_type": "code",
      "source": [
        "non_empty_set.remove(5)\n"
      ],
      "metadata": {
        "id": "GinXvjFUbOiO"
      },
      "execution_count": null,
      "outputs": []
    },
    {
      "cell_type": "code",
      "source": [
        "non_empty_set"
      ],
      "metadata": {
        "colab": {
          "base_uri": "https://localhost:8080/"
        },
        "id": "S4CJf60wbVfz",
        "outputId": "010bb5f8-1f27-4221-b3e9-9708d9a34c4d"
      },
      "execution_count": null,
      "outputs": [
        {
          "output_type": "execute_result",
          "data": {
            "text/plain": [
              "{1, 2, 6, 73}"
            ]
          },
          "metadata": {},
          "execution_count": 71
        }
      ]
    },
    {
      "cell_type": "markdown",
      "source": [
        "union()"
      ],
      "metadata": {
        "id": "s3VOxtxWbY3j"
      }
    },
    {
      "cell_type": "code",
      "source": [
        "# Initialize sets A and B\n",
        "A = {1, 2, 3, 4, 5}\n",
        "\n",
        "B = {4, 5, 6, 7, 8}"
      ],
      "metadata": {
        "id": "4mLia_YBbbS9"
      },
      "execution_count": null,
      "outputs": []
    },
    {
      "cell_type": "code",
      "source": [
        "A | B"
      ],
      "metadata": {
        "colab": {
          "base_uri": "https://localhost:8080/"
        },
        "id": "icjYokqsbhR6",
        "outputId": "4525bfcd-edaf-475b-dce5-e7b771758fa4"
      },
      "execution_count": null,
      "outputs": [
        {
          "output_type": "execute_result",
          "data": {
            "text/plain": [
              "{1, 2, 3, 4, 5, 6, 7, 8}"
            ]
          },
          "metadata": {},
          "execution_count": 73
        }
      ]
    },
    {
      "cell_type": "code",
      "source": [
        "A.union(B)"
      ],
      "metadata": {
        "colab": {
          "base_uri": "https://localhost:8080/"
        },
        "id": "-tTEUqK7bitS",
        "outputId": "2334fdfb-5baa-4f2d-b257-fcb92ca83515"
      },
      "execution_count": null,
      "outputs": [
        {
          "output_type": "execute_result",
          "data": {
            "text/plain": [
              "{1, 2, 3, 4, 5, 6, 7, 8}"
            ]
          },
          "metadata": {},
          "execution_count": 74
        }
      ]
    },
    {
      "cell_type": "markdown",
      "source": [
        "intersection()"
      ],
      "metadata": {
        "id": "JO8ZrGoHbm4i"
      }
    },
    {
      "cell_type": "code",
      "source": [
        "A = {1, 2, 3, 4, 5}\n",
        "B = {4, 5, 6, 7, 8}"
      ],
      "metadata": {
        "id": "jaEPmrvQbmMV"
      },
      "execution_count": null,
      "outputs": []
    },
    {
      "cell_type": "code",
      "source": [
        "A & B"
      ],
      "metadata": {
        "colab": {
          "base_uri": "https://localhost:8080/"
        },
        "id": "UIVpnRAAbtVf",
        "outputId": "5b9932ef-162d-4215-b4ec-c3815334c120"
      },
      "execution_count": null,
      "outputs": [
        {
          "output_type": "execute_result",
          "data": {
            "text/plain": [
              "{4, 5}"
            ]
          },
          "metadata": {},
          "execution_count": 76
        }
      ]
    },
    {
      "cell_type": "code",
      "source": [
        "A.intersection(B)"
      ],
      "metadata": {
        "colab": {
          "base_uri": "https://localhost:8080/"
        },
        "id": "q122P1qRbrU5",
        "outputId": "9d0dbb3f-de0c-4d33-926f-668a2ab72aa0"
      },
      "execution_count": null,
      "outputs": [
        {
          "output_type": "execute_result",
          "data": {
            "text/plain": [
              "{4, 5}"
            ]
          },
          "metadata": {},
          "execution_count": 77
        }
      ]
    },
    {
      "cell_type": "markdown",
      "source": [
        "Difference()"
      ],
      "metadata": {
        "id": "EKEj4WDnb0pT"
      }
    },
    {
      "cell_type": "code",
      "source": [
        "A = {1, 2, 3, 4, 5}\n",
        "\n",
        "B = {4, 5, 6, 7, 8}"
      ],
      "metadata": {
        "id": "cnT60D3mb28Q"
      },
      "execution_count": null,
      "outputs": []
    },
    {
      "cell_type": "code",
      "source": [
        "A - B"
      ],
      "metadata": {
        "colab": {
          "base_uri": "https://localhost:8080/"
        },
        "id": "PyQtLto9b4el",
        "outputId": "e94d0c53-9994-48d7-de53-76237fe4b29d"
      },
      "execution_count": null,
      "outputs": [
        {
          "output_type": "execute_result",
          "data": {
            "text/plain": [
              "{1, 2, 3}"
            ]
          },
          "metadata": {},
          "execution_count": 79
        }
      ]
    },
    {
      "cell_type": "code",
      "source": [
        "A.difference(B)"
      ],
      "metadata": {
        "colab": {
          "base_uri": "https://localhost:8080/"
        },
        "id": "R_U28-Glb6Sw",
        "outputId": "6b721df6-122f-4300-e764-f4d108dfecf7"
      },
      "execution_count": null,
      "outputs": [
        {
          "output_type": "execute_result",
          "data": {
            "text/plain": [
              "{1, 2, 3}"
            ]
          },
          "metadata": {},
          "execution_count": 80
        }
      ]
    },
    {
      "cell_type": "code",
      "source": [
        "B - A"
      ],
      "metadata": {
        "colab": {
          "base_uri": "https://localhost:8080/"
        },
        "id": "svw0NvaXb8fQ",
        "outputId": "081ecd6d-4937-40e1-d488-8ef0465fb093"
      },
      "execution_count": null,
      "outputs": [
        {
          "output_type": "execute_result",
          "data": {
            "text/plain": [
              "{6, 7, 8}"
            ]
          },
          "metadata": {},
          "execution_count": 81
        }
      ]
    },
    {
      "cell_type": "code",
      "source": [
        "B.difference(A)"
      ],
      "metadata": {
        "colab": {
          "base_uri": "https://localhost:8080/"
        },
        "id": "B3DRKmY3cAg-",
        "outputId": "e114108e-a362-4577-c26e-99e3d8c90c9a"
      },
      "execution_count": null,
      "outputs": [
        {
          "output_type": "execute_result",
          "data": {
            "text/plain": [
              "{6, 7, 8}"
            ]
          },
          "metadata": {},
          "execution_count": 82
        }
      ]
    },
    {
      "cell_type": "markdown",
      "source": [
        "symmetric_difference()"
      ],
      "metadata": {
        "id": "8jebEp-8cIHs"
      }
    },
    {
      "cell_type": "code",
      "source": [
        "A = {1, 2, 3, 4, 5}\n",
        "B = {4, 5, 6, 7, 8}"
      ],
      "metadata": {
        "id": "XaJ5b5gXcLF8"
      },
      "execution_count": null,
      "outputs": []
    },
    {
      "cell_type": "code",
      "source": [
        "A^B"
      ],
      "metadata": {
        "colab": {
          "base_uri": "https://localhost:8080/"
        },
        "id": "IaeJAaYXcMVh",
        "outputId": "53eb7386-46b1-478f-fcf7-eb70de8c98e1"
      },
      "execution_count": null,
      "outputs": [
        {
          "output_type": "execute_result",
          "data": {
            "text/plain": [
              "{1, 2, 3, 6, 7, 8}"
            ]
          },
          "metadata": {},
          "execution_count": 84
        }
      ]
    },
    {
      "cell_type": "code",
      "source": [
        "A.symmetric_difference(B)"
      ],
      "metadata": {
        "colab": {
          "base_uri": "https://localhost:8080/"
        },
        "id": "__lRXIYYcQZd",
        "outputId": "35d37aa0-d4ac-4f82-fafb-6186e3ea0bf0"
      },
      "execution_count": null,
      "outputs": [
        {
          "output_type": "execute_result",
          "data": {
            "text/plain": [
              "{1, 2, 3, 6, 7, 8}"
            ]
          },
          "metadata": {},
          "execution_count": 85
        }
      ]
    },
    {
      "cell_type": "markdown",
      "source": [
        "# **Dictionaries**"
      ],
      "metadata": {
        "id": "SA-fwHN-caPs"
      }
    },
    {
      "cell_type": "markdown",
      "source": [
        "# Dictionaries\n",
        "\n",
        "* We've been learning about *sequences* in Python but now we're going to switch gears and learn about *mappings* in Python.\n",
        "\n",
        "\n",
        "* If you're familiar with other languages you can think of these Dictionaries as hash tables.\n",
        "\n",
        "\n",
        "* So what are mappings? Mappings are a collection of objects that are stored by a *key*, unlike a sequence that stored objects by their relative position. This is an important distinction, since mappings won't retain order since they have objects defined by a key.\n",
        "\n",
        "\n",
        "* A Python dictionary consists of a key and then an associated value. That value can be almost any Python object. So a dictionary object always has elements as key-value pairs\n",
        "\n",
        "\n",
        "## Constructing a Dictionary\n",
        "\n",
        "\n",
        "* A dictionary object is constructed using curly braces <code>{key1:value1,key2:value2,key3:value3}</code>"
      ],
      "metadata": {
        "id": "1tafulBk-n9Z"
      }
    },
    {
      "cell_type": "code",
      "source": [
        "marvel_dict = {'Name':'Thor','Place':'Asgard','Weapon' : 'Hammer', 1:2, 3 : 'power', 'alibies' : ['Ironman','Captain America'], 'abc' : {1:2, 4:5}}"
      ],
      "metadata": {
        "id": "Llrixr2Ackpn"
      },
      "execution_count": null,
      "outputs": []
    },
    {
      "cell_type": "code",
      "source": [
        "# Call values by their key\n",
        "marvel_dict['Place']"
      ],
      "metadata": {
        "colab": {
          "base_uri": "https://localhost:8080/",
          "height": 35
        },
        "id": "3dV-rWfD-vwq",
        "outputId": "130714fe-f368-48b0-a9df-afb61db6d626"
      },
      "execution_count": null,
      "outputs": [
        {
          "output_type": "execute_result",
          "data": {
            "text/plain": [
              "'Asgard'"
            ],
            "application/vnd.google.colaboratory.intrinsic+json": {
              "type": "string"
            }
          },
          "metadata": {},
          "execution_count": 87
        }
      ]
    },
    {
      "cell_type": "code",
      "source": [
        "type(marvel_dict)"
      ],
      "metadata": {
        "colab": {
          "base_uri": "https://localhost:8080/"
        },
        "id": "xBUwA982-wEQ",
        "outputId": "d2e13ed9-5d41-48a8-8783-f83ce9aa653e"
      },
      "execution_count": null,
      "outputs": [
        {
          "output_type": "execute_result",
          "data": {
            "text/plain": [
              "dict"
            ]
          },
          "metadata": {},
          "execution_count": 88
        }
      ]
    },
    {
      "cell_type": "code",
      "source": [
        "marvel_dict['Name']"
      ],
      "metadata": {
        "colab": {
          "base_uri": "https://localhost:8080/",
          "height": 35
        },
        "id": "9LXTZiLs-2mq",
        "outputId": "c74f3de8-2766-401a-d73a-15827962a7c4"
      },
      "execution_count": null,
      "outputs": [
        {
          "output_type": "execute_result",
          "data": {
            "text/plain": [
              "'Thor'"
            ],
            "application/vnd.google.colaboratory.intrinsic+json": {
              "type": "string"
            }
          },
          "metadata": {},
          "execution_count": 89
        }
      ]
    },
    {
      "cell_type": "markdown",
      "source": [
        "# **Dictionary Methods**"
      ],
      "metadata": {
        "id": "WbH-BRsu-7lK"
      }
    },
    {
      "cell_type": "markdown",
      "source": [
        "keys()"
      ],
      "metadata": {
        "id": "jRX8mhW3-_Fa"
      }
    },
    {
      "cell_type": "code",
      "source": [
        "marvel_dict.keys()"
      ],
      "metadata": {
        "colab": {
          "base_uri": "https://localhost:8080/"
        },
        "id": "AZih91ZN-8Rm",
        "outputId": "9500d6bf-fcd6-4290-c7e4-240d2530befd"
      },
      "execution_count": null,
      "outputs": [
        {
          "output_type": "execute_result",
          "data": {
            "text/plain": [
              "dict_keys(['Name', 'Place', 'Weapon', 1, 3, 'alibies', 'abc'])"
            ]
          },
          "metadata": {},
          "execution_count": 90
        }
      ]
    },
    {
      "cell_type": "markdown",
      "source": [
        "values()"
      ],
      "metadata": {
        "id": "Lr-zz2G8_IZ1"
      }
    },
    {
      "cell_type": "code",
      "source": [
        "list(marvel_dict.values())"
      ],
      "metadata": {
        "colab": {
          "base_uri": "https://localhost:8080/"
        },
        "id": "APPejdXj_K6f",
        "outputId": "f1b95290-efa1-495a-8197-c94b44211f39"
      },
      "execution_count": null,
      "outputs": [
        {
          "output_type": "execute_result",
          "data": {
            "text/plain": [
              "['Thor',\n",
              " 'Asgard',\n",
              " 'Hammer',\n",
              " 2,\n",
              " 'power',\n",
              " ['Ironman', 'Captain America'],\n",
              " {1: 2, 4: 5}]"
            ]
          },
          "metadata": {},
          "execution_count": 91
        }
      ]
    },
    {
      "cell_type": "markdown",
      "source": [
        "items()"
      ],
      "metadata": {
        "id": "7Lx3Xqmf_SO-"
      }
    },
    {
      "cell_type": "code",
      "source": [
        "# Get the keys and their corresponding values\n",
        "list(marvel_dict.items()) # Dict in the list form"
      ],
      "metadata": {
        "colab": {
          "base_uri": "https://localhost:8080/"
        },
        "id": "LX7Z2hT7_S8F",
        "outputId": "c93f47f6-102c-4638-e953-b1c063159ce5"
      },
      "execution_count": null,
      "outputs": [
        {
          "output_type": "execute_result",
          "data": {
            "text/plain": [
              "[('Name', 'Thor'),\n",
              " ('Place', 'Asgard'),\n",
              " ('Weapon', 'Hammer'),\n",
              " (1, 2),\n",
              " (3, 'power'),\n",
              " ('alibies', ['Ironman', 'Captain America']),\n",
              " ('abc', {1: 2, 4: 5})]"
            ]
          },
          "metadata": {},
          "execution_count": 92
        }
      ]
    },
    {
      "cell_type": "markdown",
      "source": [
        "update()"
      ],
      "metadata": {
        "id": "RaXZPC4gpiFf"
      }
    },
    {
      "cell_type": "code",
      "source": [
        "marvel_dict.update({'Place':'Earth'})\n",
        "marvel_dict"
      ],
      "metadata": {
        "colab": {
          "base_uri": "https://localhost:8080/"
        },
        "id": "c1yWN8JopoNR",
        "outputId": "438d6bb0-7966-4ee0-c7c4-09656a280d57"
      },
      "execution_count": null,
      "outputs": [
        {
          "output_type": "execute_result",
          "data": {
            "text/plain": [
              "{'Name': 'Thor',\n",
              " 'Place': 'Earth',\n",
              " 'Weapon': 'Hammer',\n",
              " 1: 2,\n",
              " 3: 'power',\n",
              " 'alibies': ['Ironman', 'Captain America'],\n",
              " 'abc': {1: 2, 4: 5}}"
            ]
          },
          "metadata": {},
          "execution_count": 93
        }
      ]
    },
    {
      "cell_type": "markdown",
      "source": [
        "# Python Comments"
      ],
      "metadata": {
        "id": "_VV0wAaN0Z2h"
      }
    },
    {
      "cell_type": "markdown",
      "source": [
        "\n",
        "\n",
        "*   Comments are very important while writing a program. They describe what is going on inside a program, so that a person looking at the source code does not have a hard time figuring it out.\n",
        "\n",
        "*   You might forget the key details of the program you just wrote in a month's time. So taking the time to explain these concepts in the form of comments is always fruitful.\n",
        "\n",
        "\n",
        "*   In Python, we use the hash (#) symbol to start writing a comment.\n",
        "It extends up to the newline character. Comments are for programmers to better understand a program. Python Interpreter ignores comments.\n",
        "\n",
        "\n",
        "\n"
      ],
      "metadata": {
        "id": "zKnIqsaQ0bdo"
      }
    },
    {
      "cell_type": "code",
      "source": [
        "# This is a comment\n",
        "# print('Hello')\n",
        "print('Hello')"
      ],
      "metadata": {
        "colab": {
          "base_uri": "https://localhost:8080/"
        },
        "id": "JVSSzA0b0-H2",
        "outputId": "61824ca4-63de-41b1-a6c8-a9ca319cdebf"
      },
      "execution_count": null,
      "outputs": [
        {
          "output_type": "stream",
          "name": "stdout",
          "text": [
            "Hello\n"
          ]
        }
      ]
    },
    {
      "cell_type": "markdown",
      "source": [
        "\n",
        "\n",
        "*   We can have comments that extend up to multiple lines. One way is to use the hash(#) symbol at the beginning of each line. For example:\n",
        "\n"
      ],
      "metadata": {
        "id": "oO46Txbi00fp"
      }
    },
    {
      "cell_type": "code",
      "source": [
        "# This is a long comment\n",
        "# and it extends\n",
        "# to multiple lines"
      ],
      "metadata": {
        "id": "-8-eP1ht1IQL"
      },
      "execution_count": null,
      "outputs": []
    },
    {
      "cell_type": "markdown",
      "source": [
        "\n",
        "\n",
        "*   Another way of doing this is to use triple quotes, either ''' or \"\"\".\n",
        "\n",
        "*   These triple quotes are generally used for multi-line strings. But they can be used as a multi-line comment as well. Unless they are not docstrings, they do not generate any extra code.\n",
        "\n"
      ],
      "metadata": {
        "id": "tNk-AlPe1Kwh"
      }
    },
    {
      "cell_type": "code",
      "source": [
        "'''This is also a\n",
        "perfect example of\n",
        "ahjcdjh\n",
        "sdjbdkjas\n",
        "mnbscjsab\n",
        "bkjabfa\n",
        "multi-line comments'''\n",
        "\n",
        "a = 3\n",
        "print(a)"
      ],
      "metadata": {
        "colab": {
          "base_uri": "https://localhost:8080/"
        },
        "id": "1NaJsdgD1UE5",
        "outputId": "f0cd4d52-aaee-41d7-9692-49d00a15c566"
      },
      "execution_count": null,
      "outputs": [
        {
          "output_type": "stream",
          "name": "stdout",
          "text": [
            "3\n"
          ]
        }
      ]
    },
    {
      "cell_type": "markdown",
      "source": [
        "# Indentation in Python\n",
        "\n",
        "\n"
      ],
      "metadata": {
        "id": "4LxdL1L_1gIO"
      }
    },
    {
      "cell_type": "markdown",
      "source": [
        "It is important to keep a good understanding of how indentation works in Python to maintain the structure and order of your code. We will touch on this topic again when we start building out functions!"
      ],
      "metadata": {
        "id": "Vvg8EsHQ1rYF"
      }
    },
    {
      "cell_type": "markdown",
      "source": [
        "# **Loops**"
      ],
      "metadata": {
        "id": "NfUGqyXfAuZf"
      }
    },
    {
      "cell_type": "markdown",
      "source": [
        "### For - Loop"
      ],
      "metadata": {
        "id": "z6LrwIdKAzOA"
      }
    },
    {
      "cell_type": "code",
      "source": [
        "for i in range(1,10):\n",
        "  print(i, end=\" \")\n",
        "\n",
        "print()\n",
        "# Negative looping\n",
        "for i in range(10,0,-1):\n",
        "  print(i, end=\" \")"
      ],
      "metadata": {
        "colab": {
          "base_uri": "https://localhost:8080/"
        },
        "id": "_WMTIV4jA2D1",
        "outputId": "9a9e5cfc-44ce-42f7-9fa5-674fc02b5996"
      },
      "execution_count": null,
      "outputs": [
        {
          "output_type": "stream",
          "name": "stdout",
          "text": [
            "1 2 3 4 5 6 7 8 9 \n",
            "10 9 8 7 6 5 4 3 2 1 "
          ]
        }
      ]
    },
    {
      "cell_type": "code",
      "source": [
        "for i in range(1,10):\n",
        "  print(i, end=\"\")\n"
      ],
      "metadata": {
        "colab": {
          "base_uri": "https://localhost:8080/"
        },
        "id": "HQGs_CMUDZCr",
        "outputId": "865145a5-8b1c-410f-b651-082e0dcc1319"
      },
      "execution_count": null,
      "outputs": [
        {
          "output_type": "stream",
          "name": "stdout",
          "text": [
            "123456789"
          ]
        }
      ]
    },
    {
      "cell_type": "code",
      "source": [
        "for i in range(1,10):\n",
        "  print(i)"
      ],
      "metadata": {
        "colab": {
          "base_uri": "https://localhost:8080/"
        },
        "id": "6PlSGFX6DeKR",
        "outputId": "5f9b3044-400b-476c-8db1-738dc28b91a3"
      },
      "execution_count": null,
      "outputs": [
        {
          "output_type": "stream",
          "name": "stdout",
          "text": [
            "1\n",
            "2\n",
            "3\n",
            "4\n",
            "5\n",
            "6\n",
            "7\n",
            "8\n",
            "9\n"
          ]
        }
      ]
    },
    {
      "cell_type": "markdown",
      "source": [
        "### Enumerate"
      ],
      "metadata": {
        "id": "EIv0EPUHDoDU"
      }
    },
    {
      "cell_type": "code",
      "source": [
        "list = ['a','b','c','d']\n",
        "\n",
        "for i, char in enumerate(list):\n",
        "  print(i, char)"
      ],
      "metadata": {
        "colab": {
          "base_uri": "https://localhost:8080/"
        },
        "id": "QpR0TE6BDsqf",
        "outputId": "45bed41a-949a-4d62-a310-643f44bb2b76"
      },
      "execution_count": null,
      "outputs": [
        {
          "output_type": "stream",
          "name": "stdout",
          "text": [
            "0 a\n",
            "1 b\n",
            "2 c\n",
            "3 d\n"
          ]
        }
      ]
    },
    {
      "cell_type": "markdown",
      "source": [
        "### While - Loop"
      ],
      "metadata": {
        "id": "ns-7ohpkDwQZ"
      }
    },
    {
      "cell_type": "code",
      "source": [
        "i=10\n",
        "while(i>0):\n",
        "  print(i)\n",
        "  i-=1"
      ],
      "metadata": {
        "colab": {
          "base_uri": "https://localhost:8080/"
        },
        "id": "5BRdJIELDzIj",
        "outputId": "8e6940a5-3e0c-4833-bfc3-89dafcbbb811"
      },
      "execution_count": null,
      "outputs": [
        {
          "output_type": "stream",
          "name": "stdout",
          "text": [
            "10\n",
            "9\n",
            "8\n",
            "7\n",
            "6\n",
            "5\n",
            "4\n",
            "3\n",
            "2\n",
            "1\n"
          ]
        }
      ]
    },
    {
      "cell_type": "markdown",
      "source": [
        "- The `break` statement is used to exit a loop prematurely.\n",
        "- The `pass` statement is a no-operation statement. It does nothing and allows the loop to continue.\n",
        "-The `continue` statement is used to skip the current iteration of the loop and continue with the next iteration."
      ],
      "metadata": {
        "id": "LCKhWQvED34-"
      }
    },
    {
      "cell_type": "code",
      "source": [
        "#Break\n",
        "i = 0\n",
        "while i < 5:\n",
        "    print(i)\n",
        "    if i == 3:\n",
        "        break\n",
        "    i += 1"
      ],
      "metadata": {
        "colab": {
          "base_uri": "https://localhost:8080/"
        },
        "id": "nPRndbS4D6PM",
        "outputId": "8e6fbdd0-b471-4099-8fe3-ab1eb7fa91db"
      },
      "execution_count": null,
      "outputs": [
        {
          "output_type": "stream",
          "name": "stdout",
          "text": [
            "0\n",
            "1\n",
            "2\n",
            "3\n"
          ]
        }
      ]
    },
    {
      "cell_type": "code",
      "source": [
        "#Pass\n",
        "i = 0\n",
        "while i < 5:\n",
        "    if i == 2:\n",
        "        pass\n",
        "    else:\n",
        "        print(i)\n",
        "    i += 1\n"
      ],
      "metadata": {
        "colab": {
          "base_uri": "https://localhost:8080/"
        },
        "id": "dOthw4LND89c",
        "outputId": "e88d084b-e377-4e30-b24a-00aa156e6529"
      },
      "execution_count": null,
      "outputs": [
        {
          "output_type": "stream",
          "name": "stdout",
          "text": [
            "0\n",
            "1\n",
            "3\n",
            "4\n"
          ]
        }
      ]
    },
    {
      "cell_type": "code",
      "source": [
        "#Continue\n",
        "i = 0\n",
        "while i < 5:\n",
        "    i += 1\n",
        "    if i == 2:\n",
        "        continue\n",
        "    print(i)\n"
      ],
      "metadata": {
        "colab": {
          "base_uri": "https://localhost:8080/"
        },
        "id": "kGreheZoD9wC",
        "outputId": "c751a510-cb2d-476c-b8db-baab3cccf3dc"
      },
      "execution_count": null,
      "outputs": [
        {
          "output_type": "stream",
          "name": "stdout",
          "text": [
            "1\n",
            "3\n",
            "4\n",
            "5\n"
          ]
        }
      ]
    },
    {
      "cell_type": "markdown",
      "source": [
        "## Functions and Methods"
      ],
      "metadata": {
        "id": "51uV4QftELKG"
      }
    },
    {
      "cell_type": "markdown",
      "source": [
        "Certainly! Let's start by defining functions and methods and then discuss their differences and scope.\n",
        "\n",
        "**Function:**\n",
        "- A function is a block of reusable code that performs a specific task or a set of tasks.\n",
        "- Functions are defined using the `def` keyword in Python, followed by the function name, parameters (if any), a colon, and the function body.\n",
        "- Functions are called by their name, followed by parentheses `()`, which may contain arguments.\n",
        "- Functions can be defined at the module level or within other functions.\n",
        "\n",
        "Example of defining and calling a function:\n",
        "\n",
        "```python\n",
        "def greet(name):\n",
        "    print(f\"Hello, {name}!\")\n",
        "\n",
        "greet(\"Alice\")  # Calling the function\n",
        "```\n",
        "\n",
        "**Method:**\n",
        "- A method is a function that is associated with an object or a class.\n",
        "- Methods are called on objects and can access and modify the object's data.\n",
        "- Methods are defined within classes and are used to define the behavior of objects of that class.\n",
        "- Methods are accessed using the dot notation `object.method()`.\n",
        "\n",
        "Example of defining and calling a method:\n",
        "\n",
        "```python\n",
        "class Dog:\n",
        "    def bark(self):\n",
        "        print(\"Woof!\")\n",
        "\n",
        "my_dog = Dog()\n",
        "my_dog.bark()  # Calling the method on an object\n",
        "```\n",
        "\n",
        "**Difference between Function and Method:**\n",
        "1. **Association with Objects:**\n",
        "   - A function is not associated with any particular object or class.\n",
        "   - A method is always associated with an object or a class. It operates on the data contained within that object or class.\n",
        "\n",
        "2. **Syntax:**\n",
        "   - Functions are defined using the `def` keyword.\n",
        "   - Methods are defined within classes and use the `def` keyword as well but are associated with that class.\n",
        "\n",
        "3. **Calling:**\n",
        "   - Functions are called by their name.\n",
        "   - Methods are called on objects or classes and use the dot notation (`object.method()` or `class.method()`).\n",
        "\n",
        "**Scope:**\n",
        "- The scope of a function or method defines where it can be accessed or called within a program.\n",
        "- In Python, there are two main types of scope: global scope and local scope.\n",
        "- Functions and methods have their own local scope, which means variables defined inside them are only accessible within that function or method.\n",
        "- Variables defined outside of any function or method have global scope and can be accessed from anywhere in the program.\n",
        "\n",
        "Example of scope:\n",
        "\n",
        "```python\n",
        "x = 10  # Global variable\n",
        "\n",
        "def my_function():\n",
        "    y = 5  # Local variable\n",
        "    print(x)  # Accessing the global variable\n",
        "    print(y)  # Accessing the local variable\n",
        "\n",
        "my_function()\n",
        "print(x)  # Accessing the global variable outside the function\n",
        "# print(y)  # This would result in an error because y is a local variable\n",
        "```\n",
        "\n",
        "In summary, functions are independent blocks of code that can be defined and called globally, while methods are functions associated with objects or classes and operate on their data. Both functions and methods have their own local scope, and variables within them have limited visibility. Global variables, on the other hand, are accessible from anywhere in the program."
      ],
      "metadata": {
        "id": "0nR3HesuEO0i"
      }
    },
    {
      "cell_type": "markdown",
      "source": [
        "## **re (Regular Expressions) Library**\n"
      ],
      "metadata": {
        "id": "3yh2t1a-TWYz"
      }
    },
    {
      "cell_type": "markdown",
      "source": [
        "**Key Function**\n",
        "\n",
        "```python\n",
        "import re\n",
        "```\n",
        "\n",
        "\n",
        "1) re.match()Checks if a pattern appears at the start of a string.\n",
        "\n",
        "```python\n",
        "match = re.match(r\"hello\", \"hello world\")\n",
        "print(bool(match))  # True\n",
        "```\n",
        "\n",
        "2) re.search()Finds the first occurrence of a pattern in a string.\n",
        "\n",
        "```python\n",
        "search = re.search(r\"world\", \"hello world\")\n",
        "print(bool(search))  # True\n",
        "```\n",
        "\n",
        "3) re.findall()Finds all matches of a pattern in a string.\n",
        "\n",
        "```python\n",
        "print(re.findall(r\"\\d+\", \"10 apples and 20 oranges\"))  # ['10', '20']\n",
        "```\n",
        "\n",
        "4) re.sub()Replaces occurrences of a pattern with a given string.\n",
        "\n",
        "```python\n",
        "print(re.sub(r\"apples\", \"bananas\", \"I like apples.\"))  # \"I like bananas.\"\n",
        "```\n",
        "\n",
        "5) re.split()Splits a string based on a pattern.\n",
        "\n",
        "```python\n",
        "print(re.split(r\"[,; ]\", \"apple,banana;cherry grape\"))  # ['apple', 'banana', 'cherry', 'grape']\n",
        "```\n",
        "\n",
        "![image.png](data:image/png;base64,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)"
      ],
      "metadata": {
        "id": "A_1M08UUUpw0"
      }
    },
    {
      "cell_type": "markdown",
      "source": [
        "## **Pandas**"
      ],
      "metadata": {
        "id": "lLQeB_Y4EUYy"
      }
    },
    {
      "cell_type": "markdown",
      "source": [
        "**Series and DataFrames** are fundamental data structures provided by the **Pandas** library in Python for data manipulation and analysis. They are built on top of NumPy arrays and are particularly useful for handling structured data.\n",
        "\n",
        "### Series:\n",
        "\n",
        "- A **Series** is a one-dimensional labeled array capable of holding data of various types (numeric, string, etc.).\n",
        "- It is similar to a column in a spreadsheet or a single column in a database table.\n",
        "- A Series has two main components: the data (values) and the index (labels for the data).\n",
        "- You can create a Series using the `pd.Series()` constructor.\n",
        "\n",
        "Creating a Series from a list:\n",
        "```python\n",
        "import pandas as pd\n",
        "\n",
        "data = [1, 2, 3, 4, 5]\n",
        "series = pd.Series(data)\n",
        "```\n",
        "\n",
        "Creating a Series from a dictionary:\n",
        "```python\n",
        "data = {'a': 1, 'b': 2, 'c': 3}\n",
        "series = pd.Series(data)\n",
        "```\n",
        "\n",
        "### DataFrame:\n",
        "\n",
        "- A **DataFrame** is a two-dimensional labeled data structure with columns of potentially different types.\n",
        "- It is similar to a spreadsheet or SQL table, where data is organized in rows and columns.\n",
        "- A DataFrame has both row labels (index) and column labels.\n",
        "- You can create a DataFrame using the `pd.DataFrame()` constructor.\n",
        "\n",
        "Creating a DataFrame from a list of lists:\n",
        "```python\n",
        "import pandas as pd\n",
        "\n",
        "data = [[1, 'Alice'], [2, 'Bob'], [3, 'Charlie']]\n",
        "df = pd.DataFrame(data, columns=['ID', 'Name'])\n",
        "```\n",
        "\n",
        "Creating a DataFrame from a dictionary of lists:\n",
        "```python\n",
        "data = {'ID': [1, 2, 3], 'Name': ['Alice', 'Bob', 'Charlie']}\n",
        "df = pd.DataFrame(data)\n",
        "```\n",
        "\n",
        "Creating a DataFrame from a list of dictionaries:\n",
        "```python\n",
        "data = [{'ID': 1, 'Name': 'Alice'}, {'ID': 2, 'Name': 'Bob'}, {'ID': 3, 'Name': 'Charlie'}]\n",
        "df = pd.DataFrame(data)\n",
        "```"
      ],
      "metadata": {
        "id": "kRdAb8YAEXIa"
      }
    },
    {
      "cell_type": "markdown",
      "source": [
        "## Function and Method"
      ],
      "metadata": {
        "id": "jQqG_q6zEcOa"
      }
    },
    {
      "cell_type": "markdown",
      "source": [
        "### Functions and Methods\n",
        "\n",
        "Let's cover some fundamental DataFrame operations:\n",
        "\n",
        "**1. Creating DataFrames:**\n",
        "\n",
        "```python\n",
        "import pandas as pd\n",
        "\n",
        "# Creating a DataFrame from a dictionary\n",
        "data = {'Name': ['Alice', 'Bob', 'Charlie'],\n",
        "        'Age': [25, 30, 22]}\n",
        "df = pd.DataFrame(data)\n",
        "print(df)\n",
        "```\n",
        "\n",
        "**2. Accessing Data:**\n",
        "\n",
        "```python\n",
        "# Accessing a single column\n",
        "names = df['Name']\n",
        "\n",
        "# Accessing multiple columns\n",
        "subset = df[['Name', 'Age']]\n",
        "\n",
        "# Accessing rows using iloc (integer location)\n",
        "row = df.iloc[1]  # Access the second row (index 1)\n",
        "```\n",
        "\n",
        "**3. Filtering Data:**\n",
        "\n",
        "```python\n",
        "# Filtering rows based on a condition\n",
        "young_people = df[df['Age'] < 30]\n",
        "```\n",
        "\n",
        "**4. Adding and Removing Columns:**\n",
        "\n",
        "```python\n",
        "# Adding a new column\n",
        "df['City'] = ['New York', 'San Francisco', 'Los Angeles']\n",
        "\n",
        "# Removing a column\n",
        "df.drop('City', axis=1, inplace=True)\n",
        "```\n",
        "\n",
        "**5. Aggregation and Summary Statistics:**\n",
        "\n",
        "```python\n",
        "# Calculating mean age\n",
        "mean_age = df['Age'].mean()\n",
        "\n",
        "# Grouping and aggregating data\n",
        "grouped = df.groupby('City')['Age'].mean()\n",
        "```\n",
        "\n",
        "**6. Sorting Data:**\n",
        "\n",
        "```python\n",
        "# Sorting by a specific column\n",
        "sorted_df = df.sort_values(by='Age', ascending=False)\n",
        "```\n",
        "\n",
        "**7. Merging DataFrames (Joining):**\n",
        "\n",
        "```python\n",
        "# Merging two DataFrames\n",
        "data1 = {'ID': [1, 2, 3], 'Score1': [85, 92, 78]}\n",
        "data2 = {'ID': [2, 3, 4], 'Score2': [88, 75, 90]}\n",
        "df1 = pd.DataFrame(data1)\n",
        "df2 = pd.DataFrame(data2)\n",
        "merged_df = pd.merge(df1, df2, on='ID', how='inner')\n",
        "```\n",
        "\n",
        "**8. Handling Missing Data:**\n",
        "\n",
        "```python\n",
        "# Checking for missing values\n",
        "missing_values = df.isnull()\n",
        "\n",
        "# Dropping rows with missing values\n",
        "df.dropna(inplace=True)\n",
        "\n",
        "# Filling missing values\n",
        "df.fillna(0, inplace=True)\n",
        "```\n",
        "\n",
        "**9. Pivot Tables:**\n",
        "\n",
        "```python\n",
        "# Creating a pivot table\n",
        "pivot_table = df.pivot_table(index='City', values='Age', aggfunc='mean')\n",
        "```\n",
        "\n",
        "**10. Saving and Loading Data:**\n",
        "\n",
        "```python\n",
        "# Saving DataFrame to a CSV file\n",
        "df.to_csv('data.csv', index=False)\n",
        "\n",
        "# Loading data from a CSV file\n",
        "loaded_df = pd.read_csv('data.csv')\n",
        "```"
      ],
      "metadata": {
        "id": "RvMbPjC1Einy"
      }
    },
    {
      "cell_type": "markdown",
      "source": [
        "Here are explanations of several important DataFrame methods and functions in Pandas:\n",
        "\n",
        "1. **`head(n)` and `tail(n)`:**\n",
        "   - `head(n)` returns the first `n` rows of the DataFrame.\n",
        "   - `tail(n)` returns the last `n` rows of the DataFrame.\n",
        "   \n",
        "2. **`index` and `columns`:**\n",
        "   - `index` returns the index (row labels) of the DataFrame.\n",
        "   - `columns` returns the column labels of the DataFrame.\n",
        "\n",
        "3. **`info()`:**\n",
        "   - `info()` provides a concise summary of the DataFrame, including the data types, non-null values, and memory usage.\n",
        "\n",
        "4. **`rename(columns=)` and `rename(index=)`:**\n",
        "   - `rename(columns=)` renames columns in the DataFrame.\n",
        "   - `rename(index=)` renames index (row labels) in the DataFrame.\n",
        "\n",
        "5. **`describe()`:**\n",
        "   - `describe()` generates summary statistics of the DataFrame's numeric columns, including count, mean, standard deviation, min, max, and quartiles.\n",
        "\n",
        "6. **`iloc[row_index, col_index]` and `loc[row_label, col_label]`:**\n",
        "   - `iloc` and `loc` allow for selecting rows and columns by integer position (`iloc`) or by labels (`loc`).\n",
        "\n",
        "7. **`strptime()` and `strftime()`:**\n",
        "   - `strptime()` converts a string to a datetime object based on a specified format.\n",
        "   - `strftime()` formats a datetime object as a string based on a specified format.\n",
        "\n",
        "8. **`unique()`:**\n",
        "   - `unique()` returns an array of unique values in a column, excluding duplicates.\n",
        "\n",
        "9. **`nunique()`:**\n",
        "   - `nunique()` returns the number of unique values in a column.\n",
        "\n",
        "10. **`value_counts()`:**\n",
        "    - `value_counts()` counts the occurrences of unique values in a column and returns a Series with counts.\n",
        "\n",
        "11. **`isnull()` and `fillna()`:**\n",
        "    - `isnull()` returns a DataFrame of the same shape with `True` where values are missing (NaN) and `False` otherwise.\n",
        "    - `fillna()` fills missing (NaN) values with specified values or methods."
      ],
      "metadata": {
        "id": "lUTHOMsfEoI5"
      }
    },
    {
      "cell_type": "markdown",
      "source": [
        "**CONCAT**\n",
        "\n",
        "The `concat()` function is used to **combine two or more DataFrames** along a particular axis (rows or columns).\n",
        "\n",
        "\n",
        "```python\n",
        "pd.concat([df1, df2], axis=0)   # Stack rows (default)\n",
        "pd.concat([df1, df2], axis=1)   # Stack columns\n",
        "```\n",
        "![image.png](data:image/png;base64,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)\n",
        "\n",
        "![image.png](data:image/png;base64,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)"
      ],
      "metadata": {
        "id": "-5fqju6PE6DD"
      }
    },
    {
      "cell_type": "markdown",
      "source": [
        "## **Numpy**"
      ],
      "metadata": {
        "id": "PEboJavREpJI"
      }
    },
    {
      "cell_type": "markdown",
      "source": [
        "**NumPy** is a powerful Python library for numerical and scientific computing. It provides support for large, multi-dimensional arrays and matrices, as well as a variety of high-level mathematical functions to operate on these arrays. NumPy is a fundamental library for data analysis, machine learning, and scientific research in Python.\n",
        "\n",
        "### Importing NumPy:\n",
        "\n",
        "You can import NumPy in your Python code using the following statement:\n",
        "\n",
        "```python\n",
        "import numpy as np\n",
        "```\n",
        "\n",
        "### Array Inspection Methods:\n",
        "\n",
        "NumPy provides several methods to inspect arrays:\n",
        "\n",
        "1. **`shape` and `ndim`:**\n",
        "   - `shape` returns a tuple representing the dimensions of the array.\n",
        "   - `ndim` returns the number of dimensions of the array.\n",
        "\n",
        "```python\n",
        "import numpy as np\n",
        "\n",
        "arr = np.array([[1, 2, 3], [4, 5, 6]])\n",
        "print(arr.shape)  # Output: (2, 3)\n",
        "print(arr.ndim)   # Output: 2\n",
        "```\n",
        "\n",
        "2. **`dtype`:**\n",
        "   - `dtype` returns the data type of elements in the array.\n",
        "\n",
        "```python\n",
        "arr = np.array([1, 2, 3], dtype=float)\n",
        "print(arr.dtype)  # Output: float64\n",
        "```\n",
        "\n",
        "3. **`size` and `itemsize`:**\n",
        "   - `size` returns the total number of elements in the array.\n",
        "   - `itemsize` returns the size (in bytes) of each element in the array.\n",
        "\n",
        "```python\n",
        "arr = np.array([[1, 2, 3], [4, 5, 6]])\n",
        "print(arr.size)      # Output: 6\n",
        "print(arr.itemsize)  # Output: 8 (assuming 64-bit system)\n",
        "```\n",
        "\n",
        "### Creating ndarrays:\n",
        "\n",
        "NumPy provides several ways to create ndarrays:\n",
        "\n",
        "1. **`np.array()`:**\n",
        "   - Create an ndarray from a list or iterable.\n",
        "\n",
        "```python\n",
        "arr = np.array([1, 2, 3])\n",
        "```\n",
        "\n",
        "2. **`np.zeros()`:**\n",
        "   - Create an ndarray filled with zeros.\n",
        "\n",
        "```python\n",
        "zeros = np.zeros((2, 3))\n",
        "```\n",
        "\n",
        "3. **`np.ones()`:**\n",
        "   - Create an ndarray filled with ones.\n",
        "\n",
        "```python\n",
        "ones = np.ones((2, 3))\n",
        "```\n",
        "\n",
        "4. **`np.arange()`:**\n",
        "   - Create an ndarray with regularly spaced values.\n",
        "\n",
        "```python\n",
        "seq = np.arange(0, 10, 2)  # [0, 2, 4, 6, 8]\n",
        "```\n",
        "\n",
        "### Indexing and Slicing:\n",
        "\n",
        "NumPy arrays support various ways of indexing and slicing:\n",
        "\n",
        "```python\n",
        "arr = np.array([[1, 2, 3], [4, 5, 6]])\n",
        "\n",
        "# Access a specific element\n",
        "element = arr[0, 1]  # 2\n",
        "\n",
        "# Slicing\n",
        "row = arr[1, :]  # [4, 5, 6]\n",
        "column = arr[:, 2]  # [3, 6]\n",
        "```\n",
        "\n",
        "### Array Manipulation Methods:\n",
        "\n",
        "NumPy provides functions to manipulate arrays:\n",
        "\n",
        "1. **`reshape()`:**\n",
        "   - Change the shape of an array.\n",
        "\n",
        "```python\n",
        "arr = np.array([1, 2, 3, 4, 5, 6])\n",
        "reshaped = arr.reshape(2, 3)\n",
        "```\n",
        "\n",
        "2. **`flatten()` and `ravel()`:**\n",
        "   - `flatten()` returns a new 1D array.\n",
        "   - `ravel()` returns a flattened 1D view of the original array.\n",
        "\n",
        "```python\n",
        "flattened = arr.flatten()\n",
        "raveled = arr.ravel()\n",
        "```\n",
        "\n",
        "3. **`transpose()`:**\n",
        "   - Transpose rows and columns of an array.\n",
        "\n",
        "```python\n",
        "transposed = arr.transpose()\n",
        "```\n",
        "\n",
        "4. **`concatenate()`:**\n",
        "   - Join arrays along an existing axis.\n",
        "\n",
        "```python\n",
        "arr1 = np.array([1, 2, 3])\n",
        "arr2 = np.array([4, 5, 6])\n",
        "concatenated = np.concatenate((arr1, arr2))\n",
        "```\n",
        "\n",
        "These are just a few of the many methods and functions available in NumPy for working with arrays. NumPy is a vast library with extensive documentation, making it a powerful tool for scientific computing and data analysis in Python."
      ],
      "metadata": {
        "id": "aePX0JC6Ew9L"
      }
    },
    {
      "cell_type": "markdown",
      "source": [
        "# **OUTLIERS**"
      ],
      "metadata": {
        "id": "Y4l0FisNM-fP"
      }
    },
    {
      "cell_type": "code",
      "source": [
        "import numpy as np\n",
        "import pandas as pd\n",
        "import matplotlib.pyplot as plt\n",
        "%matplotlib inline"
      ],
      "metadata": {
        "id": "Se9XhLa0M9Jw"
      },
      "execution_count": null,
      "outputs": []
    },
    {
      "cell_type": "code",
      "source": [
        "dataset1 = [10,23,14,15,8,99, 508,666,33,23, 34, 12, 1, 24, 11, 20, 25, 27, 30, 36 ]"
      ],
      "metadata": {
        "id": "oloWbOmTQYEM"
      },
      "execution_count": null,
      "outputs": []
    },
    {
      "cell_type": "code",
      "source": [
        "plt.hist(dataset1)"
      ],
      "metadata": {
        "colab": {
          "base_uri": "https://localhost:8080/",
          "height": 499
        },
        "id": "M9tYXBhNOsks",
        "outputId": "96b9e28b-78c6-4e5c-93f6-359a01224dbf"
      },
      "execution_count": null,
      "outputs": [
        {
          "output_type": "execute_result",
          "data": {
            "text/plain": [
              "(array([17.,  1.,  0.,  0.,  0.,  0.,  0.,  1.,  0.,  1.]),\n",
              " array([  1. ,  67.5, 134. , 200.5, 267. , 333.5, 400. , 466.5, 533. ,\n",
              "        599.5, 666. ]),\n",
              " <BarContainer object of 10 artists>)"
            ]
          },
          "metadata": {},
          "execution_count": 109
        },
        {
          "output_type": "display_data",
          "data": {
            "text/plain": [
              "<Figure size 640x480 with 1 Axes>"
            ],
            "image/png": "[encoded data removed]"
          },
          "metadata": {}
        }
      ]
    },
    {
      "cell_type": "markdown",
      "source": [
        "**Method 1: Z-Score**"
      ],
      "metadata": {
        "id": "4oeI1IBRRFbB"
      }
    },
    {
      "cell_type": "code",
      "source": [
        "#Method 1: Z-Score\n",
        "\n",
        "#If point lies outside the 3rd SD then it will be treated as Outlies\n",
        "\n",
        "outliers=[]\n",
        "def detect_outlier(data):\n",
        "  treshold=3 #3rd standard deviation\n",
        "  mean=np.mean(data)\n",
        "  std=np.std(data)\n",
        "\n",
        "  for i in data:\n",
        "    z_score=(i-mean)/std\n",
        "    if np.abs(z_score)>treshold:\n",
        "      outliers.append(i)\n",
        "\n",
        "  return outliers\n"
      ],
      "metadata": {
        "id": "alNfMbTmOwv2"
      },
      "execution_count": null,
      "outputs": []
    },
    {
      "cell_type": "code",
      "source": [
        "detect_outlier(dataset1)"
      ],
      "metadata": {
        "colab": {
          "base_uri": "https://localhost:8080/"
        },
        "id": "bqR6s_LUQKQL",
        "outputId": "3ae15da6-fd21-450b-ba6b-d1de1816090e"
      },
      "execution_count": null,
      "outputs": [
        {
          "output_type": "execute_result",
          "data": {
            "text/plain": [
              "[666]"
            ]
          },
          "metadata": {},
          "execution_count": 111
        }
      ]
    },
    {
      "cell_type": "markdown",
      "source": [
        "**Method 2: IQR**"
      ],
      "metadata": {
        "id": "MzVVWKItRJsd"
      }
    },
    {
      "cell_type": "code",
      "source": [
        "#Method 2: IQR\n",
        "\n",
        "#1.Sort\n",
        "#2. Find 25 and 75 percentile\n",
        "#3. IQR=Q3-Q1\n",
        "#4. Lower fence = Q1-1.5(IQR)\n",
        "#5. Upper fence = Q3+1.5(IQR)"
      ],
      "metadata": {
        "id": "f1SiLLMhQmMj"
      },
      "execution_count": null,
      "outputs": []
    },
    {
      "cell_type": "code",
      "source": [
        "dataset1=sorted(dataset1)"
      ],
      "metadata": {
        "id": "JuFH17IUR2wn"
      },
      "execution_count": null,
      "outputs": []
    },
    {
      "cell_type": "code",
      "source": [
        "q1, q3 = np.percentile(dataset1, [25, 75])\n",
        "print(q1,q3)"
      ],
      "metadata": {
        "colab": {
          "base_uri": "https://localhost:8080/"
        },
        "id": "3AtjP1C5R-wC",
        "outputId": "700910b6-6a35-4a35-c058-247e73f28723"
      },
      "execution_count": null,
      "outputs": [
        {
          "output_type": "stream",
          "name": "stdout",
          "text": [
            "13.5 33.25\n"
          ]
        }
      ]
    },
    {
      "cell_type": "code",
      "source": [
        "iqr= q3-q1"
      ],
      "metadata": {
        "id": "8YrJzYz833NO"
      },
      "execution_count": null,
      "outputs": []
    },
    {
      "cell_type": "code",
      "source": [
        "lower_fense = q1-(1.5*iqr)\n",
        "upper_fense = q3+(1.5*iqr)\n",
        "\n",
        "print(lower_fense, upper_fense)"
      ],
      "metadata": {
        "colab": {
          "base_uri": "https://localhost:8080/"
        },
        "id": "PD_wowFe3wPI",
        "outputId": "c10b77c9-d814-49da-af88-e736ca261c7d"
      },
      "execution_count": null,
      "outputs": [
        {
          "output_type": "stream",
          "name": "stdout",
          "text": [
            "-16.125 62.875\n"
          ]
        }
      ]
    },
    {
      "cell_type": "code",
      "source": [
        "outlierss=[]\n",
        "for i in dataset1:\n",
        "  if i > -16.125 and i < 62.875:\n",
        "    pass\n",
        "  else:\n",
        "    outlierss.append(i)\n",
        "\n",
        "print(outlierss)"
      ],
      "metadata": {
        "colab": {
          "base_uri": "https://localhost:8080/"
        },
        "id": "pGlSSYgk4iMT",
        "outputId": "db865fb2-3764-406d-8c67-711ce8fb795c"
      },
      "execution_count": null,
      "outputs": [
        {
          "output_type": "stream",
          "name": "stdout",
          "text": [
            "[99, 508, 666]\n"
          ]
        }
      ]
    },
    {
      "cell_type": "markdown",
      "source": [
        "**Method 3: Boxplot**"
      ],
      "metadata": {
        "id": "u1W-ctai4YUu"
      }
    },
    {
      "cell_type": "code",
      "source": [
        "import seaborn as sns\n",
        "sns.boxplot(dataset1)"
      ],
      "metadata": {
        "colab": {
          "base_uri": "https://localhost:8080/",
          "height": 447
        },
        "id": "1ypePXgp4aQi",
        "outputId": "5dd70271-4ca2-4f32-8f58-bec7e03aba7c"
      },
      "execution_count": null,
      "outputs": [
        {
          "output_type": "execute_result",
          "data": {
            "text/plain": [
              "<Axes: >"
            ]
          },
          "metadata": {},
          "execution_count": 119
        },
        {
          "output_type": "display_data",
          "data": {
            "text/plain": [
              "<Figure size 640x480 with 1 Axes>"
            ],
            "image/png": "[encoded data removed]"
          },
          "metadata": {}
        }
      ]
    }
  ]
}