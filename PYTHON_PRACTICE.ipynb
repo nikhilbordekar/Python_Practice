{
  "nbformat": 4,
  "nbformat_minor": 0,
  "metadata": {
    "colab": {
      "provenance": []
    },
    "kernelspec": {
      "name": "python3",
      "display_name": "Python 3"
    },
    "language_info": {
      "name": "python"
    }
  },
  "cells": [
    {
      "cell_type": "markdown",
      "source": [
        "**Integers and Floats**\n",
        "\n",
        "\n",
        "\n",
        "\n"
      ],
      "metadata": {
        "id": "86I8eHjcme5_"
      }
    },
    {
      "cell_type": "markdown",
      "source": [
        "Basic Arithmetic"
      ],
      "metadata": {
        "id": "byKA7KQ6mq7l"
      }
    },
    {
      "cell_type": "code",
      "source": [
        "# Addition\n",
        "2+1"
      ],
      "metadata": {
        "colab": {
          "base_uri": "https://localhost:8080/"
        },
        "id": "4HP4cF5Omt5N",
        "outputId": "cd42c258-d032-4c74-f6a0-68a073daeef0"
      },
      "execution_count": 1,
      "outputs": [
        {
          "output_type": "execute_result",
          "data": {
            "text/plain": [
              "3"
            ]
          },
          "metadata": {},
          "execution_count": 1
        }
      ]
    },
    {
      "cell_type": "code",
      "source": [
        "# Subtraction\n",
        "2-5"
      ],
      "metadata": {
        "colab": {
          "base_uri": "https://localhost:8080/"
        },
        "id": "RQBedFl5mwV9",
        "outputId": "8413f056-dc92-42eb-afd4-18219bf2085f"
      },
      "execution_count": 2,
      "outputs": [
        {
          "output_type": "execute_result",
          "data": {
            "text/plain": [
              "-3"
            ]
          },
          "metadata": {},
          "execution_count": 2
        }
      ]
    },
    {
      "cell_type": "code",
      "source": [
        "# Multiplication\n",
        "2*2"
      ],
      "metadata": {
        "colab": {
          "base_uri": "https://localhost:8080/"
        },
        "id": "s2XJ_h6em0St",
        "outputId": "60030543-b657-44a7-a5e3-31c391cecbf8"
      },
      "execution_count": 6,
      "outputs": [
        {
          "output_type": "execute_result",
          "data": {
            "text/plain": [
              "4"
            ]
          },
          "metadata": {},
          "execution_count": 6
        }
      ]
    },
    {
      "cell_type": "code",
      "source": [
        "# Division\n",
        "3/2"
      ],
      "metadata": {
        "colab": {
          "base_uri": "https://localhost:8080/"
        },
        "id": "jZEddTv-m3K1",
        "outputId": "16dff790-d8ab-4ba3-a69b-f0cd8640f8ea"
      },
      "execution_count": 4,
      "outputs": [
        {
          "output_type": "execute_result",
          "data": {
            "text/plain": [
              "1.5"
            ]
          },
          "metadata": {},
          "execution_count": 4
        }
      ]
    },
    {
      "cell_type": "code",
      "source": [
        "# Floor Division\n",
        "7//2"
      ],
      "metadata": {
        "colab": {
          "base_uri": "https://localhost:8080/"
        },
        "id": "5eKNmuY-m5Dd",
        "outputId": "a9508d91-6ce9-428b-f123-6164235f31c9"
      },
      "execution_count": 5,
      "outputs": [
        {
          "output_type": "execute_result",
          "data": {
            "text/plain": [
              "3"
            ]
          },
          "metadata": {},
          "execution_count": 5
        }
      ]
    },
    {
      "cell_type": "code",
      "source": [
        "# Exponentiation\n",
        "2**5"
      ],
      "metadata": {
        "colab": {
          "base_uri": "https://localhost:8080/"
        },
        "id": "dDv3zl38m8OP",
        "outputId": "8c8e65b6-07f1-4a95-e1a3-d7f9f59c88f4"
      },
      "execution_count": 7,
      "outputs": [
        {
          "output_type": "execute_result",
          "data": {
            "text/plain": [
              "32"
            ]
          },
          "metadata": {},
          "execution_count": 7
        }
      ]
    },
    {
      "cell_type": "code",
      "source": [
        "# Modulus\n",
        "5%6"
      ],
      "metadata": {
        "colab": {
          "base_uri": "https://localhost:8080/"
        },
        "id": "6icdQS8Nm-R-",
        "outputId": "b4a4214e-849c-409e-93e2-2de7d082b19b"
      },
      "execution_count": 8,
      "outputs": [
        {
          "output_type": "execute_result",
          "data": {
            "text/plain": [
              "5"
            ]
          },
          "metadata": {},
          "execution_count": 8
        }
      ]
    },
    {
      "cell_type": "markdown",
      "source": [
        "**Creating a String**"
      ],
      "metadata": {
        "id": "4fMXMj7hnQKV"
      }
    },
    {
      "cell_type": "code",
      "source": [
        "# Single word\n",
        "my_first_string= 'MATHEMATICS'\n",
        "my_first_string"
      ],
      "metadata": {
        "colab": {
          "base_uri": "https://localhost:8080/",
          "height": 35
        },
        "id": "dlLCuKP0nRWU",
        "outputId": "94315543-3f77-4a7f-db64-1ef597424538"
      },
      "execution_count": 9,
      "outputs": [
        {
          "output_type": "execute_result",
          "data": {
            "text/plain": [
              "'MATHEMATICS'"
            ],
            "application/vnd.google.colaboratory.intrinsic+json": {
              "type": "string"
            }
          },
          "metadata": {},
          "execution_count": 9
        }
      ]
    },
    {
      "cell_type": "code",
      "source": [
        "# Entire phrase\n",
        "phrase = 'Statistics sits at the heart of machine learning'\n",
        "print(phrase)"
      ],
      "metadata": {
        "colab": {
          "base_uri": "https://localhost:8080/"
        },
        "id": "iWi3aUvrnRdm",
        "outputId": "82e494af-a0f2-4d81-dd28-3ed1317575a4"
      },
      "execution_count": 10,
      "outputs": [
        {
          "output_type": "stream",
          "name": "stdout",
          "text": [
            "Statistics sits at the heart of machine learning\n"
          ]
        }
      ]
    },
    {
      "cell_type": "markdown",
      "source": [
        "String Indexing"
      ],
      "metadata": {
        "id": "iERyNFpznfyM"
      }
    },
    {
      "cell_type": "code",
      "source": [
        "# Assign string as a string\n",
        "string  = 'Principal Component Analysis!'\n",
        "# Show first element (in this case a letter)\n",
        "print(string[5])"
      ],
      "metadata": {
        "colab": {
          "base_uri": "https://localhost:8080/"
        },
        "id": "-_mRRcUtngRq",
        "outputId": "65fd2ec3-3f31-4171-fa16-4b9fbeb17d6c"
      },
      "execution_count": 11,
      "outputs": [
        {
          "output_type": "stream",
          "name": "stdout",
          "text": [
            "i\n"
          ]
        }
      ]
    },
    {
      "cell_type": "code",
      "source": [
        "print(string[-2])"
      ],
      "metadata": {
        "colab": {
          "base_uri": "https://localhost:8080/"
        },
        "id": "-Zg978wJnqd6",
        "outputId": "bc952411-3e27-4712-d845-07059d2d52f4"
      },
      "execution_count": 12,
      "outputs": [
        {
          "output_type": "stream",
          "name": "stdout",
          "text": [
            "s\n"
          ]
        }
      ]
    },
    {
      "cell_type": "markdown",
      "source": [
        "String Slicing"
      ],
      "metadata": {
        "id": "RcPF4fVmnry7"
      }
    },
    {
      "cell_type": "code",
      "source": [
        "# Grab everything past the first term all the way to the length of s which is len(s)\n",
        "print(string)\n",
        "print(string[:13])"
      ],
      "metadata": {
        "colab": {
          "base_uri": "https://localhost:8080/"
        },
        "id": "41qYAKBFnuYW",
        "outputId": "5d2bf828-c71f-43c4-8d89-5ed716e05a91"
      },
      "execution_count": 13,
      "outputs": [
        {
          "output_type": "stream",
          "name": "stdout",
          "text": [
            "Principal Component Analysis!\n",
            "Principal Com\n"
          ]
        }
      ]
    },
    {
      "cell_type": "code",
      "source": [
        "# Grab everything starting from index 10 till index 18\n",
        "print(string[10:])"
      ],
      "metadata": {
        "colab": {
          "base_uri": "https://localhost:8080/"
        },
        "id": "m_AoBfifnynF",
        "outputId": "c099cf20-3291-4c11-f6d8-0bc6e52cf6bc"
      },
      "execution_count": 14,
      "outputs": [
        {
          "output_type": "stream",
          "name": "stdout",
          "text": [
            "Component Analysis!\n"
          ]
        }
      ]
    },
    {
      "cell_type": "code",
      "source": [
        "# Grab everything, but go in steps size of 1\n",
        "print(string[::1])"
      ],
      "metadata": {
        "colab": {
          "base_uri": "https://localhost:8080/"
        },
        "id": "JidWNRQUn1u2",
        "outputId": "e816eb69-d76f-44c6-df3a-f1b1ddc08f3e"
      },
      "execution_count": 15,
      "outputs": [
        {
          "output_type": "stream",
          "name": "stdout",
          "text": [
            "Principal Component Analysis!\n"
          ]
        }
      ]
    },
    {
      "cell_type": "markdown",
      "source": [
        "String functions and methods"
      ],
      "metadata": {
        "id": "pGFFIe3Kn9T1"
      }
    },
    {
      "cell_type": "code",
      "source": [
        "algorithm = 'Neural Networks'\n",
        "\n",
        "print(algorithm)"
      ],
      "metadata": {
        "colab": {
          "base_uri": "https://localhost:8080/"
        },
        "id": "vgDhu59in-P1",
        "outputId": "fce9a33f-a90f-4578-fb22-562080d113ce"
      },
      "execution_count": 16,
      "outputs": [
        {
          "output_type": "stream",
          "name": "stdout",
          "text": [
            "Neural Networks\n"
          ]
        }
      ]
    },
    {
      "cell_type": "markdown",
      "source": [
        "len()"
      ],
      "metadata": {
        "id": "WvmmmYaNoB5l"
      }
    },
    {
      "cell_type": "code",
      "source": [
        "# Print the length of the string\n",
        "len(algorithm)"
      ],
      "metadata": {
        "colab": {
          "base_uri": "https://localhost:8080/"
        },
        "id": "-GoURdzBoEhl",
        "outputId": "16bbbcc9-2fb6-4135-a6e0-d3453174a879"
      },
      "execution_count": 17,
      "outputs": [
        {
          "output_type": "execute_result",
          "data": {
            "text/plain": [
              "15"
            ]
          },
          "metadata": {},
          "execution_count": 17
        }
      ]
    },
    {
      "cell_type": "markdown",
      "source": [
        "lower()/upper()"
      ],
      "metadata": {
        "id": "6MIDLejloJb1"
      }
    },
    {
      "cell_type": "code",
      "source": [
        "algorithm.lower()"
      ],
      "metadata": {
        "colab": {
          "base_uri": "https://localhost:8080/",
          "height": 35
        },
        "id": "WrzRGQYWoNdt",
        "outputId": "192abcb4-e9d0-4239-a561-306546ab4750"
      },
      "execution_count": 18,
      "outputs": [
        {
          "output_type": "execute_result",
          "data": {
            "text/plain": [
              "'neural networks'"
            ],
            "application/vnd.google.colaboratory.intrinsic+json": {
              "type": "string"
            }
          },
          "metadata": {},
          "execution_count": 18
        }
      ]
    },
    {
      "cell_type": "code",
      "source": [
        "algorithm.upper()"
      ],
      "metadata": {
        "colab": {
          "base_uri": "https://localhost:8080/",
          "height": 35
        },
        "id": "ZXV67JlhoUYt",
        "outputId": "44a0280b-3124-46cf-99e4-37c4f8d8428b"
      },
      "execution_count": 19,
      "outputs": [
        {
          "output_type": "execute_result",
          "data": {
            "text/plain": [
              "'NEURAL NETWORKS'"
            ],
            "application/vnd.google.colaboratory.intrinsic+json": {
              "type": "string"
            }
          },
          "metadata": {},
          "execution_count": 19
        }
      ]
    },
    {
      "cell_type": "markdown",
      "source": [
        "count()"
      ],
      "metadata": {
        "id": "rcD4or1doapn"
      }
    },
    {
      "cell_type": "code",
      "source": [
        "algorithm"
      ],
      "metadata": {
        "colab": {
          "base_uri": "https://localhost:8080/",
          "height": 35
        },
        "id": "bbWXGkFQompG",
        "outputId": "2abe3545-f065-4d23-8367-bd9cc2bb65f3"
      },
      "execution_count": 23,
      "outputs": [
        {
          "output_type": "execute_result",
          "data": {
            "text/plain": [
              "'Neural Networks'"
            ],
            "application/vnd.google.colaboratory.intrinsic+json": {
              "type": "string"
            }
          },
          "metadata": {},
          "execution_count": 23
        }
      ]
    },
    {
      "cell_type": "code",
      "source": [
        "algorithm.count('Ne')"
      ],
      "metadata": {
        "colab": {
          "base_uri": "https://localhost:8080/"
        },
        "id": "8GbyeNcIoaCt",
        "outputId": "0f8ebfc4-7f3e-41ca-89f4-9f7cc4e19388"
      },
      "execution_count": 22,
      "outputs": [
        {
          "output_type": "execute_result",
          "data": {
            "text/plain": [
              "2"
            ]
          },
          "metadata": {},
          "execution_count": 22
        }
      ]
    },
    {
      "cell_type": "markdown",
      "source": [
        "find()"
      ],
      "metadata": {
        "id": "LmxnjqeMosc1"
      }
    },
    {
      "cell_type": "code",
      "source": [
        "algorithm.find('e')"
      ],
      "metadata": {
        "colab": {
          "base_uri": "https://localhost:8080/"
        },
        "id": "5fRGr8zBotC1",
        "outputId": "2f8171f7-5730-4eef-86f8-362ab67a98ed"
      },
      "execution_count": 24,
      "outputs": [
        {
          "output_type": "execute_result",
          "data": {
            "text/plain": [
              "1"
            ]
          },
          "metadata": {},
          "execution_count": 24
        }
      ]
    },
    {
      "cell_type": "markdown",
      "source": [
        "replace()"
      ],
      "metadata": {
        "id": "qQMaanHzo1nt"
      }
    },
    {
      "cell_type": "code",
      "source": [
        "algorithm.replace(\" \", \"-\")\n"
      ],
      "metadata": {
        "colab": {
          "base_uri": "https://localhost:8080/",
          "height": 35
        },
        "id": "naIfmrOco2LW",
        "outputId": "f549a844-1a40-4e1b-fd06-d0e8b38e6935"
      },
      "execution_count": 26,
      "outputs": [
        {
          "output_type": "execute_result",
          "data": {
            "text/plain": [
              "'Neural-Networks'"
            ],
            "application/vnd.google.colaboratory.intrinsic+json": {
              "type": "string"
            }
          },
          "metadata": {},
          "execution_count": 26
        }
      ]
    }
  ]
}