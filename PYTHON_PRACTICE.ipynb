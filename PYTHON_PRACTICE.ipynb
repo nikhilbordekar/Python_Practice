{
  "nbformat": 4,
  "nbformat_minor": 0,
  "metadata": {
    "colab": {
      "provenance": [],
      "authorship_tag": "ABX9TyM6Y7Xy+8yv3wGygAOPAF63",
      "include_colab_link": true
    },
    "kernelspec": {
      "name": "python3",
      "display_name": "Python 3"
    },
    "language_info": {
      "name": "python"
    }
  },
  "cells": [
    {
      "cell_type": "markdown",
      "metadata": {
        "id": "view-in-github",
        "colab_type": "text"
      },
      "source": [
        "<a href=\"https://colab.research.google.com/github/nikhilbordekar/Python_Practice/blob/main/PYTHON_PRACTICE.ipynb\" target=\"_parent\"><img src=\"https://colab.research.google.com/assets/colab-badge.svg\" alt=\"Open In Colab\"/></a>"
      ]
    },
    {
      "cell_type": "markdown",
      "source": [
        "# **Integers and Floats**\n",
        "\n",
        "\n",
        "\n",
        "\n"
      ],
      "metadata": {
        "id": "86I8eHjcme5_"
      }
    },
    {
      "cell_type": "markdown",
      "source": [
        "Basic Arithmetic"
      ],
      "metadata": {
        "id": "byKA7KQ6mq7l"
      }
    },
    {
      "cell_type": "code",
      "source": [
        "# Addition\n",
        "2+1"
      ],
      "metadata": {
        "colab": {
          "base_uri": "https://localhost:8080/"
        },
        "id": "4HP4cF5Omt5N",
        "outputId": "242266f7-7bcb-468f-b80b-e9325d10be96"
      },
      "execution_count": 1,
      "outputs": [
        {
          "output_type": "execute_result",
          "data": {
            "text/plain": [
              "3"
            ]
          },
          "metadata": {},
          "execution_count": 1
        }
      ]
    },
    {
      "cell_type": "code",
      "source": [
        "# Subtraction\n",
        "2-5"
      ],
      "metadata": {
        "colab": {
          "base_uri": "https://localhost:8080/"
        },
        "id": "RQBedFl5mwV9",
        "outputId": "9944872a-1df7-47b4-a038-05f5ef60db0b"
      },
      "execution_count": 2,
      "outputs": [
        {
          "output_type": "execute_result",
          "data": {
            "text/plain": [
              "-3"
            ]
          },
          "metadata": {},
          "execution_count": 2
        }
      ]
    },
    {
      "cell_type": "code",
      "source": [
        "# Multiplication\n",
        "2*2"
      ],
      "metadata": {
        "colab": {
          "base_uri": "https://localhost:8080/"
        },
        "id": "s2XJ_h6em0St",
        "outputId": "847f28c8-10c5-4602-e10b-33b7c29dc54a"
      },
      "execution_count": 3,
      "outputs": [
        {
          "output_type": "execute_result",
          "data": {
            "text/plain": [
              "4"
            ]
          },
          "metadata": {},
          "execution_count": 3
        }
      ]
    },
    {
      "cell_type": "code",
      "source": [
        "# Division\n",
        "3/2"
      ],
      "metadata": {
        "colab": {
          "base_uri": "https://localhost:8080/"
        },
        "id": "jZEddTv-m3K1",
        "outputId": "9e302f84-ebe3-4659-ba92-42a424060be5"
      },
      "execution_count": 4,
      "outputs": [
        {
          "output_type": "execute_result",
          "data": {
            "text/plain": [
              "1.5"
            ]
          },
          "metadata": {},
          "execution_count": 4
        }
      ]
    },
    {
      "cell_type": "code",
      "source": [
        "# Floor Division\n",
        "7//2"
      ],
      "metadata": {
        "colab": {
          "base_uri": "https://localhost:8080/"
        },
        "id": "5eKNmuY-m5Dd",
        "outputId": "33d038b7-a34d-4d62-c7e6-ecac65cbf557"
      },
      "execution_count": 5,
      "outputs": [
        {
          "output_type": "execute_result",
          "data": {
            "text/plain": [
              "3"
            ]
          },
          "metadata": {},
          "execution_count": 5
        }
      ]
    },
    {
      "cell_type": "code",
      "source": [
        "# Exponentiation\n",
        "2**5"
      ],
      "metadata": {
        "colab": {
          "base_uri": "https://localhost:8080/"
        },
        "id": "dDv3zl38m8OP",
        "outputId": "b03b89df-76c8-46bc-8854-e07efea2ea49"
      },
      "execution_count": 6,
      "outputs": [
        {
          "output_type": "execute_result",
          "data": {
            "text/plain": [
              "32"
            ]
          },
          "metadata": {},
          "execution_count": 6
        }
      ]
    },
    {
      "cell_type": "code",
      "source": [
        "# Modulus\n",
        "5%6"
      ],
      "metadata": {
        "colab": {
          "base_uri": "https://localhost:8080/"
        },
        "id": "6icdQS8Nm-R-",
        "outputId": "9a3e9773-1c9f-45b9-c9a1-9f069b1139b7"
      },
      "execution_count": 7,
      "outputs": [
        {
          "output_type": "execute_result",
          "data": {
            "text/plain": [
              "5"
            ]
          },
          "metadata": {},
          "execution_count": 7
        }
      ]
    },
    {
      "cell_type": "markdown",
      "source": [
        "# **String**"
      ],
      "metadata": {
        "id": "4fMXMj7hnQKV"
      }
    },
    {
      "cell_type": "code",
      "source": [
        "# Single word\n",
        "my_first_string= 'MATHEMATICS'\n",
        "my_first_string"
      ],
      "metadata": {
        "colab": {
          "base_uri": "https://localhost:8080/",
          "height": 0
        },
        "id": "dlLCuKP0nRWU",
        "outputId": "830b954b-79d3-4a21-8b59-7b3bb1924441"
      },
      "execution_count": 8,
      "outputs": [
        {
          "output_type": "execute_result",
          "data": {
            "text/plain": [
              "'MATHEMATICS'"
            ],
            "application/vnd.google.colaboratory.intrinsic+json": {
              "type": "string"
            }
          },
          "metadata": {},
          "execution_count": 8
        }
      ]
    },
    {
      "cell_type": "code",
      "source": [
        "# Entire phrase\n",
        "phrase = 'Statistics sits at the heart of machine learning'\n",
        "print(phrase)"
      ],
      "metadata": {
        "colab": {
          "base_uri": "https://localhost:8080/"
        },
        "id": "iWi3aUvrnRdm",
        "outputId": "90c84346-56b5-4f9d-fb87-01c8fae31eb4"
      },
      "execution_count": 9,
      "outputs": [
        {
          "output_type": "stream",
          "name": "stdout",
          "text": [
            "Statistics sits at the heart of machine learning\n"
          ]
        }
      ]
    },
    {
      "cell_type": "markdown",
      "source": [
        "String Indexing"
      ],
      "metadata": {
        "id": "iERyNFpznfyM"
      }
    },
    {
      "cell_type": "code",
      "source": [
        "# Assign string as a string\n",
        "string  = 'Principal Component Analysis!'\n",
        "# Show first element (in this case a letter)\n",
        "print(string[5])"
      ],
      "metadata": {
        "colab": {
          "base_uri": "https://localhost:8080/"
        },
        "id": "-_mRRcUtngRq",
        "outputId": "8a53bd00-20e0-4967-8fa9-c3e99522e23f"
      },
      "execution_count": 10,
      "outputs": [
        {
          "output_type": "stream",
          "name": "stdout",
          "text": [
            "i\n"
          ]
        }
      ]
    },
    {
      "cell_type": "code",
      "source": [
        "print(string[-2])"
      ],
      "metadata": {
        "colab": {
          "base_uri": "https://localhost:8080/"
        },
        "id": "-Zg978wJnqd6",
        "outputId": "2a5a838c-a49b-4d06-df1b-7bc80808e2af"
      },
      "execution_count": 11,
      "outputs": [
        {
          "output_type": "stream",
          "name": "stdout",
          "text": [
            "s\n"
          ]
        }
      ]
    },
    {
      "cell_type": "markdown",
      "source": [
        "String Slicing"
      ],
      "metadata": {
        "id": "RcPF4fVmnry7"
      }
    },
    {
      "cell_type": "code",
      "source": [
        "# Grab everything past the first term all the way to the length of s which is len(s)\n",
        "print(string)\n",
        "print(string[:13])"
      ],
      "metadata": {
        "colab": {
          "base_uri": "https://localhost:8080/"
        },
        "id": "41qYAKBFnuYW",
        "outputId": "26d8230b-4340-4c4f-9796-04ba86c01089"
      },
      "execution_count": 12,
      "outputs": [
        {
          "output_type": "stream",
          "name": "stdout",
          "text": [
            "Principal Component Analysis!\n",
            "Principal Com\n"
          ]
        }
      ]
    },
    {
      "cell_type": "code",
      "source": [
        "# Grab everything starting from index 10 till index 18\n",
        "print(string[10:])"
      ],
      "metadata": {
        "colab": {
          "base_uri": "https://localhost:8080/"
        },
        "id": "m_AoBfifnynF",
        "outputId": "b062afb3-9616-48d0-e298-c0195b0aaf59"
      },
      "execution_count": 13,
      "outputs": [
        {
          "output_type": "stream",
          "name": "stdout",
          "text": [
            "Component Analysis!\n"
          ]
        }
      ]
    },
    {
      "cell_type": "code",
      "source": [
        "# Grab everything, but go in steps size of 1\n",
        "print(string[::1])"
      ],
      "metadata": {
        "colab": {
          "base_uri": "https://localhost:8080/"
        },
        "id": "JidWNRQUn1u2",
        "outputId": "bca32768-1384-4e02-8f88-58dc376f794b"
      },
      "execution_count": 14,
      "outputs": [
        {
          "output_type": "stream",
          "name": "stdout",
          "text": [
            "Principal Component Analysis!\n"
          ]
        }
      ]
    },
    {
      "cell_type": "markdown",
      "source": [
        "String functions and methods"
      ],
      "metadata": {
        "id": "pGFFIe3Kn9T1"
      }
    },
    {
      "cell_type": "code",
      "source": [
        "algorithm = 'Neural Networks'\n",
        "\n",
        "print(algorithm)"
      ],
      "metadata": {
        "colab": {
          "base_uri": "https://localhost:8080/"
        },
        "id": "vgDhu59in-P1",
        "outputId": "a138f7a2-ceb6-4d34-d44c-ab12cc04109e"
      },
      "execution_count": 15,
      "outputs": [
        {
          "output_type": "stream",
          "name": "stdout",
          "text": [
            "Neural Networks\n"
          ]
        }
      ]
    },
    {
      "cell_type": "markdown",
      "source": [
        "len()"
      ],
      "metadata": {
        "id": "WvmmmYaNoB5l"
      }
    },
    {
      "cell_type": "code",
      "source": [
        "# Print the length of the string\n",
        "len(algorithm)"
      ],
      "metadata": {
        "colab": {
          "base_uri": "https://localhost:8080/"
        },
        "id": "-GoURdzBoEhl",
        "outputId": "ffebc1f0-ad60-463a-dbfe-49508e968704"
      },
      "execution_count": 16,
      "outputs": [
        {
          "output_type": "execute_result",
          "data": {
            "text/plain": [
              "15"
            ]
          },
          "metadata": {},
          "execution_count": 16
        }
      ]
    },
    {
      "cell_type": "markdown",
      "source": [
        "lower()/upper()"
      ],
      "metadata": {
        "id": "6MIDLejloJb1"
      }
    },
    {
      "cell_type": "code",
      "source": [
        "algorithm.lower()"
      ],
      "metadata": {
        "colab": {
          "base_uri": "https://localhost:8080/",
          "height": 0
        },
        "id": "WrzRGQYWoNdt",
        "outputId": "d262aedd-4007-44b0-a7e2-b5b3563f6a5b"
      },
      "execution_count": 17,
      "outputs": [
        {
          "output_type": "execute_result",
          "data": {
            "text/plain": [
              "'neural networks'"
            ],
            "application/vnd.google.colaboratory.intrinsic+json": {
              "type": "string"
            }
          },
          "metadata": {},
          "execution_count": 17
        }
      ]
    },
    {
      "cell_type": "code",
      "source": [
        "algorithm.upper()"
      ],
      "metadata": {
        "colab": {
          "base_uri": "https://localhost:8080/",
          "height": 0
        },
        "id": "ZXV67JlhoUYt",
        "outputId": "bf606c1c-dbc7-4f00-87b7-0c958741df44"
      },
      "execution_count": 18,
      "outputs": [
        {
          "output_type": "execute_result",
          "data": {
            "text/plain": [
              "'NEURAL NETWORKS'"
            ],
            "application/vnd.google.colaboratory.intrinsic+json": {
              "type": "string"
            }
          },
          "metadata": {},
          "execution_count": 18
        }
      ]
    },
    {
      "cell_type": "markdown",
      "source": [
        "count()"
      ],
      "metadata": {
        "id": "rcD4or1doapn"
      }
    },
    {
      "cell_type": "code",
      "source": [
        "algorithm"
      ],
      "metadata": {
        "colab": {
          "base_uri": "https://localhost:8080/",
          "height": 0
        },
        "id": "bbWXGkFQompG",
        "outputId": "4ac85329-314e-4f4b-9a1c-e3704572a435"
      },
      "execution_count": 19,
      "outputs": [
        {
          "output_type": "execute_result",
          "data": {
            "text/plain": [
              "'Neural Networks'"
            ],
            "application/vnd.google.colaboratory.intrinsic+json": {
              "type": "string"
            }
          },
          "metadata": {},
          "execution_count": 19
        }
      ]
    },
    {
      "cell_type": "code",
      "source": [
        "algorithm.count('Ne')"
      ],
      "metadata": {
        "colab": {
          "base_uri": "https://localhost:8080/"
        },
        "id": "8GbyeNcIoaCt",
        "outputId": "57f68e52-76dc-4fe9-d05f-b05497a57986"
      },
      "execution_count": 20,
      "outputs": [
        {
          "output_type": "execute_result",
          "data": {
            "text/plain": [
              "2"
            ]
          },
          "metadata": {},
          "execution_count": 20
        }
      ]
    },
    {
      "cell_type": "markdown",
      "source": [
        "find()"
      ],
      "metadata": {
        "id": "LmxnjqeMosc1"
      }
    },
    {
      "cell_type": "code",
      "source": [
        "algorithm.find('e')"
      ],
      "metadata": {
        "colab": {
          "base_uri": "https://localhost:8080/"
        },
        "id": "5fRGr8zBotC1",
        "outputId": "3262972c-7ee7-4da3-bcb6-5b26c2113fe5"
      },
      "execution_count": 21,
      "outputs": [
        {
          "output_type": "execute_result",
          "data": {
            "text/plain": [
              "1"
            ]
          },
          "metadata": {},
          "execution_count": 21
        }
      ]
    },
    {
      "cell_type": "markdown",
      "source": [
        "replace()"
      ],
      "metadata": {
        "id": "qQMaanHzo1nt"
      }
    },
    {
      "cell_type": "code",
      "source": [
        "algorithm.replace(\" \", \"-\")\n"
      ],
      "metadata": {
        "colab": {
          "base_uri": "https://localhost:8080/",
          "height": 0
        },
        "id": "naIfmrOco2LW",
        "outputId": "a10a3438-82e6-4254-e4a4-0d036d3409b8"
      },
      "execution_count": 22,
      "outputs": [
        {
          "output_type": "execute_result",
          "data": {
            "text/plain": [
              "'Neural-Networks'"
            ],
            "application/vnd.google.colaboratory.intrinsic+json": {
              "type": "string"
            }
          },
          "metadata": {},
          "execution_count": 22
        }
      ]
    },
    {
      "cell_type": "markdown",
      "source": [
        "# **List**"
      ],
      "metadata": {
        "id": "PoDnIPYvdue8"
      }
    },
    {
      "cell_type": "code",
      "source": [
        "#List can take int, float, str etc\n",
        "my_list = ['A string',23,100.232,'o',True]\n",
        "my_list"
      ],
      "metadata": {
        "colab": {
          "base_uri": "https://localhost:8080/"
        },
        "id": "LHyjfP0-dx2q",
        "outputId": "55401505-d595-4d73-ca1f-2ca928982f84"
      },
      "execution_count": 23,
      "outputs": [
        {
          "output_type": "execute_result",
          "data": {
            "text/plain": [
              "['A string', 23, 100.232, 'o', True]"
            ]
          },
          "metadata": {},
          "execution_count": 23
        }
      ]
    },
    {
      "cell_type": "markdown",
      "source": [
        "List Indexing"
      ],
      "metadata": {
        "id": "VeuJvkAmNfn5"
      }
    },
    {
      "cell_type": "code",
      "source": [
        "loss_functions = ['Mean Absolute Error','Mean Squared Error','Huber Loss','Log Loss','Hinge Loss']\n",
        "print(loss_functions)"
      ],
      "metadata": {
        "colab": {
          "base_uri": "https://localhost:8080/"
        },
        "id": "ZBJ0fljMNc1r",
        "outputId": "5a042769-52c9-4b2d-b15d-f06de8d102bf"
      },
      "execution_count": 24,
      "outputs": [
        {
          "output_type": "stream",
          "name": "stdout",
          "text": [
            "['Mean Absolute Error', 'Mean Squared Error', 'Huber Loss', 'Log Loss', 'Hinge Loss']\n"
          ]
        }
      ]
    },
    {
      "cell_type": "code",
      "source": [
        "print(loss_functions[0])"
      ],
      "metadata": {
        "colab": {
          "base_uri": "https://localhost:8080/"
        },
        "id": "hCXod2MwNjAt",
        "outputId": "7370cc42-904c-4f20-d4ae-6df3a44e752c"
      },
      "execution_count": 25,
      "outputs": [
        {
          "output_type": "stream",
          "name": "stdout",
          "text": [
            "Mean Absolute Error\n"
          ]
        }
      ]
    },
    {
      "cell_type": "code",
      "source": [
        "print(loss_functions[-1])"
      ],
      "metadata": {
        "colab": {
          "base_uri": "https://localhost:8080/"
        },
        "id": "IF2tT9BKNmmA",
        "outputId": "960ba034-cd84-402c-b77d-e8edc7a64052"
      },
      "execution_count": 26,
      "outputs": [
        {
          "output_type": "stream",
          "name": "stdout",
          "text": [
            "Hinge Loss\n"
          ]
        }
      ]
    },
    {
      "cell_type": "markdown",
      "source": [
        "List Slicing"
      ],
      "metadata": {
        "id": "EmJ9DtG_Npzo"
      }
    },
    {
      "cell_type": "code",
      "source": [
        "loss_functions[1:4]"
      ],
      "metadata": {
        "colab": {
          "base_uri": "https://localhost:8080/"
        },
        "id": "tInPtX-7NqZY",
        "outputId": "86aa6bab-cf9c-4ed3-c18c-c88496abdef3"
      },
      "execution_count": 27,
      "outputs": [
        {
          "output_type": "execute_result",
          "data": {
            "text/plain": [
              "['Mean Squared Error', 'Huber Loss', 'Log Loss']"
            ]
          },
          "metadata": {},
          "execution_count": 27
        }
      ]
    },
    {
      "cell_type": "code",
      "source": [
        "loss_functions[2:]"
      ],
      "metadata": {
        "colab": {
          "base_uri": "https://localhost:8080/"
        },
        "id": "Cc6ddmewNvDP",
        "outputId": "49aa4c8c-0fe8-45bc-e4cf-3282a4462008"
      },
      "execution_count": 28,
      "outputs": [
        {
          "output_type": "execute_result",
          "data": {
            "text/plain": [
              "['Huber Loss', 'Log Loss', 'Hinge Loss']"
            ]
          },
          "metadata": {},
          "execution_count": 28
        }
      ]
    },
    {
      "cell_type": "code",
      "source": [
        "# Grab everything\n",
        "print(loss_functions[:])"
      ],
      "metadata": {
        "colab": {
          "base_uri": "https://localhost:8080/"
        },
        "id": "hKnN6JCINykI",
        "outputId": "2abb2906-f12e-46ff-d2c4-b624b0585e30"
      },
      "execution_count": 29,
      "outputs": [
        {
          "output_type": "stream",
          "name": "stdout",
          "text": [
            "['Mean Absolute Error', 'Mean Squared Error', 'Huber Loss', 'Log Loss', 'Hinge Loss']\n"
          ]
        }
      ]
    },
    {
      "cell_type": "markdown",
      "source": [
        "List Operations"
      ],
      "metadata": {
        "id": "qkJz4upzN3ci"
      }
    },
    {
      "cell_type": "code",
      "source": [
        "#concatenate\n",
        "loss_functions + ['Kullback-Leibler']"
      ],
      "metadata": {
        "colab": {
          "base_uri": "https://localhost:8080/"
        },
        "id": "6AtmlLkHN4IZ",
        "outputId": "1d7c0dfb-a53c-45ad-8d0d-76d7dd023a47"
      },
      "execution_count": 30,
      "outputs": [
        {
          "output_type": "execute_result",
          "data": {
            "text/plain": [
              "['Mean Absolute Error',\n",
              " 'Mean Squared Error',\n",
              " 'Huber Loss',\n",
              " 'Log Loss',\n",
              " 'Hinge Loss',\n",
              " 'Kullback-Leibler']"
            ]
          },
          "metadata": {},
          "execution_count": 30
        }
      ]
    },
    {
      "cell_type": "code",
      "source": [
        "#Note: This doesn't actually change the original list!\n",
        "print(loss_functions)"
      ],
      "metadata": {
        "colab": {
          "base_uri": "https://localhost:8080/"
        },
        "id": "o3hvwVm8OBgQ",
        "outputId": "aab5d5b1-dbe8-45ef-cfe6-6d8e96027600"
      },
      "execution_count": 31,
      "outputs": [
        {
          "output_type": "stream",
          "name": "stdout",
          "text": [
            "['Mean Absolute Error', 'Mean Squared Error', 'Huber Loss', 'Log Loss', 'Hinge Loss']\n"
          ]
        }
      ]
    },
    {
      "cell_type": "code",
      "source": [
        "# Reassign\n",
        "loss_functions = loss_functions + ['Kullback-Leibler']"
      ],
      "metadata": {
        "id": "Uso8CGYROIV7"
      },
      "execution_count": 32,
      "outputs": []
    },
    {
      "cell_type": "markdown",
      "source": [
        "List Functions"
      ],
      "metadata": {
        "id": "hPdN6W8JOiMH"
      }
    },
    {
      "cell_type": "markdown",
      "source": [
        "1. sum(list)"
      ],
      "metadata": {
        "id": "78-3lg1vOs2g"
      }
    },
    {
      "cell_type": "code",
      "source": [
        "new_list = [6, 9, 1, 3, 5.5]"
      ],
      "metadata": {
        "id": "0AECAQW9Ow7Z"
      },
      "execution_count": 33,
      "outputs": []
    },
    {
      "cell_type": "code",
      "source": [
        "sum(new_list)"
      ],
      "metadata": {
        "colab": {
          "base_uri": "https://localhost:8080/"
        },
        "id": "U-MNE7ayOisf",
        "outputId": "a414d672-e7c9-46fe-abee-7ba79730a4f5"
      },
      "execution_count": 34,
      "outputs": [
        {
          "output_type": "execute_result",
          "data": {
            "text/plain": [
              "24.5"
            ]
          },
          "metadata": {},
          "execution_count": 34
        }
      ]
    },
    {
      "cell_type": "markdown",
      "source": [
        "2. sorted()"
      ],
      "metadata": {
        "id": "QlV7ktP-O5NB"
      }
    },
    {
      "cell_type": "code",
      "source": [
        "sorted(new_list)"
      ],
      "metadata": {
        "colab": {
          "base_uri": "https://localhost:8080/"
        },
        "id": "szKZ9qC6O6rC",
        "outputId": "80b27eb5-09ca-4c5c-8eff-e4258fbb19a6"
      },
      "execution_count": 35,
      "outputs": [
        {
          "output_type": "execute_result",
          "data": {
            "text/plain": [
              "[1, 3, 5.5, 6, 9]"
            ]
          },
          "metadata": {},
          "execution_count": 35
        }
      ]
    },
    {
      "cell_type": "code",
      "source": [
        "#descending order\n",
        "sorted(new_list,reverse=True)"
      ],
      "metadata": {
        "colab": {
          "base_uri": "https://localhost:8080/"
        },
        "id": "_nCUtWkSPBsY",
        "outputId": "a804b0ad-b77a-42b8-ce18-c2a40f0406d5"
      },
      "execution_count": 36,
      "outputs": [
        {
          "output_type": "execute_result",
          "data": {
            "text/plain": [
              "[9, 6, 5.5, 3, 1]"
            ]
          },
          "metadata": {},
          "execution_count": 36
        }
      ]
    },
    {
      "cell_type": "markdown",
      "source": [
        "List Methods"
      ],
      "metadata": {
        "id": "RW9LfbEZPNIh"
      }
    },
    {
      "cell_type": "markdown",
      "source": [
        "1. append()"
      ],
      "metadata": {
        "id": "NfBHP_56PRxQ"
      }
    },
    {
      "cell_type": "code",
      "source": [
        "my_list"
      ],
      "metadata": {
        "colab": {
          "base_uri": "https://localhost:8080/"
        },
        "id": "jRDqmPsWPNoY",
        "outputId": "0531f37d-d5a8-4c23-ce7c-a71a6b4751f4"
      },
      "execution_count": 37,
      "outputs": [
        {
          "output_type": "execute_result",
          "data": {
            "text/plain": [
              "['A string', 23, 100.232, 'o', True]"
            ]
          },
          "metadata": {},
          "execution_count": 37
        }
      ]
    },
    {
      "cell_type": "code",
      "source": [
        "# Append to the end of the list\n",
        "my_list.append('Append me!')"
      ],
      "metadata": {
        "id": "mn3JA4FkPWz4"
      },
      "execution_count": 38,
      "outputs": []
    },
    {
      "cell_type": "markdown",
      "source": [
        "2. extend()\n",
        "\n",
        "  Use the extend() method to merge a list to an existing list"
      ],
      "metadata": {
        "id": "H2bID51qPeaQ"
      }
    },
    {
      "cell_type": "code",
      "source": [
        "my_list"
      ],
      "metadata": {
        "colab": {
          "base_uri": "https://localhost:8080/"
        },
        "id": "ws5t-RhKPpKL",
        "outputId": "66c6e867-da13-423c-fc8c-44adff788d56"
      },
      "execution_count": 39,
      "outputs": [
        {
          "output_type": "execute_result",
          "data": {
            "text/plain": [
              "['A string', 23, 100.232, 'o', True, 'Append me!']"
            ]
          },
          "metadata": {},
          "execution_count": 39
        }
      ]
    },
    {
      "cell_type": "code",
      "source": [
        "my_list.extend(['Wubba','Lubba','Dub Dub'])"
      ],
      "metadata": {
        "id": "kboPcss7PkvA"
      },
      "execution_count": 40,
      "outputs": []
    },
    {
      "cell_type": "code",
      "source": [
        "my_list"
      ],
      "metadata": {
        "colab": {
          "base_uri": "https://localhost:8080/"
        },
        "id": "sreiJdcJPqRi",
        "outputId": "eafc97cb-9368-4e1f-a0a2-a6334e5531d4"
      },
      "execution_count": 41,
      "outputs": [
        {
          "output_type": "execute_result",
          "data": {
            "text/plain": [
              "['A string', 23, 100.232, 'o', True, 'Append me!', 'Wubba', 'Lubba', 'Dub Dub']"
            ]
          },
          "metadata": {},
          "execution_count": 41
        }
      ]
    },
    {
      "cell_type": "markdown",
      "source": [
        "3. pop()"
      ],
      "metadata": {
        "id": "tPcP9WlFPv93"
      }
    },
    {
      "cell_type": "code",
      "source": [
        "my_list"
      ],
      "metadata": {
        "colab": {
          "base_uri": "https://localhost:8080/"
        },
        "id": "vvZcWsB6P6Kv",
        "outputId": "39b415ae-bb6e-48f1-a550-9bae2af405ff"
      },
      "execution_count": 42,
      "outputs": [
        {
          "output_type": "execute_result",
          "data": {
            "text/plain": [
              "['A string', 23, 100.232, 'o', True, 'Append me!', 'Wubba', 'Lubba', 'Dub Dub']"
            ]
          },
          "metadata": {},
          "execution_count": 42
        }
      ]
    },
    {
      "cell_type": "code",
      "source": [
        "#Last index is default pop element\n",
        "my_list.pop()"
      ],
      "metadata": {
        "colab": {
          "base_uri": "https://localhost:8080/",
          "height": 0
        },
        "id": "e2NkXFyWP6Qd",
        "outputId": "5c33d5fd-e802-489a-8a8b-0396ad033628"
      },
      "execution_count": 43,
      "outputs": [
        {
          "output_type": "execute_result",
          "data": {
            "text/plain": [
              "'Dub Dub'"
            ],
            "application/vnd.google.colaboratory.intrinsic+json": {
              "type": "string"
            }
          },
          "metadata": {},
          "execution_count": 43
        }
      ]
    },
    {
      "cell_type": "code",
      "source": [
        "my_list"
      ],
      "metadata": {
        "colab": {
          "base_uri": "https://localhost:8080/"
        },
        "id": "OzYHsn99P9d8",
        "outputId": "cdd1adf1-17bd-4a77-e226-cd772c4b99e7"
      },
      "execution_count": 44,
      "outputs": [
        {
          "output_type": "execute_result",
          "data": {
            "text/plain": [
              "['A string', 23, 100.232, 'o', True, 'Append me!', 'Wubba', 'Lubba']"
            ]
          },
          "metadata": {},
          "execution_count": 44
        }
      ]
    },
    {
      "cell_type": "markdown",
      "source": [
        "4. remove()"
      ],
      "metadata": {
        "id": "Gfwc2iouQJFu"
      }
    },
    {
      "cell_type": "code",
      "source": [
        "my_list.remove(\"A string\")"
      ],
      "metadata": {
        "id": "gZnGtvr2QKC6"
      },
      "execution_count": 45,
      "outputs": []
    },
    {
      "cell_type": "code",
      "source": [
        "my_list"
      ],
      "metadata": {
        "colab": {
          "base_uri": "https://localhost:8080/"
        },
        "id": "AquMH8n4QWLP",
        "outputId": "fa3f4fa1-511b-487b-90a6-e91e9fbdce43"
      },
      "execution_count": 46,
      "outputs": [
        {
          "output_type": "execute_result",
          "data": {
            "text/plain": [
              "[23, 100.232, 'o', True, 'Append me!', 'Wubba', 'Lubba']"
            ]
          },
          "metadata": {},
          "execution_count": 46
        }
      ]
    },
    {
      "cell_type": "markdown",
      "source": [
        "5. reverse()"
      ],
      "metadata": {
        "id": "plofcdxbQbgI"
      }
    },
    {
      "cell_type": "code",
      "source": [
        "my_list"
      ],
      "metadata": {
        "colab": {
          "base_uri": "https://localhost:8080/"
        },
        "id": "0qYJLeXwQce0",
        "outputId": "2b80a5e5-2f5f-4ed8-e5ae-dc21e383dddd"
      },
      "execution_count": 47,
      "outputs": [
        {
          "output_type": "execute_result",
          "data": {
            "text/plain": [
              "[23, 100.232, 'o', True, 'Append me!', 'Wubba', 'Lubba']"
            ]
          },
          "metadata": {},
          "execution_count": 47
        }
      ]
    },
    {
      "cell_type": "code",
      "source": [
        "my_list.reverse()"
      ],
      "metadata": {
        "id": "lKXaajCQQeth"
      },
      "execution_count": 48,
      "outputs": []
    },
    {
      "cell_type": "code",
      "source": [
        "my_list"
      ],
      "metadata": {
        "id": "YAYJFEIpQkxo",
        "outputId": "88000e7d-eb40-4b89-8a49-adee3d6a464e",
        "colab": {
          "base_uri": "https://localhost:8080/"
        }
      },
      "execution_count": 49,
      "outputs": [
        {
          "output_type": "execute_result",
          "data": {
            "text/plain": [
              "['Lubba', 'Wubba', 'Append me!', True, 'o', 100.232, 23]"
            ]
          },
          "metadata": {},
          "execution_count": 49
        }
      ]
    },
    {
      "cell_type": "markdown",
      "source": [
        "# **Tuples**"
      ],
      "metadata": {
        "id": "BAYgJQNzHxgo"
      }
    },
    {
      "cell_type": "code",
      "source": [
        "# Create a tuple\n",
        "my_tuple = (1,'a',3)"
      ],
      "metadata": {
        "id": "rriAgwFcH_Oy"
      },
      "execution_count": 50,
      "outputs": []
    },
    {
      "cell_type": "code",
      "source": [
        "print(my_tuple)"
      ],
      "metadata": {
        "colab": {
          "base_uri": "https://localhost:8080/"
        },
        "id": "H5W943LQICgx",
        "outputId": "767da622-d536-44e3-c2b8-c206e664b2ac"
      },
      "execution_count": 51,
      "outputs": [
        {
          "output_type": "stream",
          "name": "stdout",
          "text": [
            "(1, 'a', 3)\n"
          ]
        }
      ]
    },
    {
      "cell_type": "markdown",
      "source": [
        "Tuple Indexing"
      ],
      "metadata": {
        "id": "aN7xCOByIK9s"
      }
    },
    {
      "cell_type": "code",
      "source": [
        "my_tuple[0]"
      ],
      "metadata": {
        "colab": {
          "base_uri": "https://localhost:8080/"
        },
        "id": "KMOlJ5j2IL2N",
        "outputId": "a789996f-17f9-4dcf-8f03-aa37820c6503"
      },
      "execution_count": 52,
      "outputs": [
        {
          "output_type": "execute_result",
          "data": {
            "text/plain": [
              "1"
            ]
          },
          "metadata": {},
          "execution_count": 52
        }
      ]
    },
    {
      "cell_type": "code",
      "source": [
        "my_tuple[-1]"
      ],
      "metadata": {
        "colab": {
          "base_uri": "https://localhost:8080/"
        },
        "id": "9JPqeJIIITzL",
        "outputId": "4fd9246d-f29e-4abc-ea69-9f5319d53ab8"
      },
      "execution_count": 53,
      "outputs": [
        {
          "output_type": "execute_result",
          "data": {
            "text/plain": [
              "3"
            ]
          },
          "metadata": {},
          "execution_count": 53
        }
      ]
    },
    {
      "cell_type": "markdown",
      "source": [
        "Tuple Slicing"
      ],
      "metadata": {
        "id": "69AfLxiOIYlE"
      }
    },
    {
      "cell_type": "code",
      "source": [
        "my_tuple[:]"
      ],
      "metadata": {
        "colab": {
          "base_uri": "https://localhost:8080/"
        },
        "id": "OWEdPtHCIZWN",
        "outputId": "53fea124-907b-40ab-abba-ce28efe6f92b"
      },
      "execution_count": 54,
      "outputs": [
        {
          "output_type": "execute_result",
          "data": {
            "text/plain": [
              "(1, 'a', 3)"
            ]
          },
          "metadata": {},
          "execution_count": 54
        }
      ]
    },
    {
      "cell_type": "code",
      "source": [
        "my_tuple[1:]"
      ],
      "metadata": {
        "colab": {
          "base_uri": "https://localhost:8080/"
        },
        "id": "xggtdgyLIjRM",
        "outputId": "8972d15c-4700-431f-ccaf-28b214754614"
      },
      "execution_count": 55,
      "outputs": [
        {
          "output_type": "execute_result",
          "data": {
            "text/plain": [
              "('a', 3)"
            ]
          },
          "metadata": {},
          "execution_count": 55
        }
      ]
    },
    {
      "cell_type": "markdown",
      "source": [
        "Tuple Methods"
      ],
      "metadata": {
        "id": "oa3whzaJIsJ3"
      }
    },
    {
      "cell_type": "markdown",
      "source": [
        "1) Index"
      ],
      "metadata": {
        "id": "BCYQKKMAI1Dz"
      }
    },
    {
      "cell_type": "code",
      "source": [
        "my_tuple =(1,2,3,4,5,6,1,1,2)\n",
        "my_tuple.index(2)"
      ],
      "metadata": {
        "colab": {
          "base_uri": "https://localhost:8080/"
        },
        "id": "fGhEL3nVIsvK",
        "outputId": "9e51cc2f-0f7e-456b-ed09-9ec25c06d1fa"
      },
      "execution_count": 56,
      "outputs": [
        {
          "output_type": "execute_result",
          "data": {
            "text/plain": [
              "1"
            ]
          },
          "metadata": {},
          "execution_count": 56
        }
      ]
    },
    {
      "cell_type": "markdown",
      "source": [
        "2) Count"
      ],
      "metadata": {
        "id": "yLeb9jBpI4LX"
      }
    },
    {
      "cell_type": "code",
      "source": [
        "my_tuple.count(2)"
      ],
      "metadata": {
        "colab": {
          "base_uri": "https://localhost:8080/"
        },
        "id": "VfKl-PomI8Yw",
        "outputId": "0bd6c9de-8272-484b-a5b3-01f253f3a640"
      },
      "execution_count": 57,
      "outputs": [
        {
          "output_type": "execute_result",
          "data": {
            "text/plain": [
              "2"
            ]
          },
          "metadata": {},
          "execution_count": 57
        }
      ]
    },
    {
      "cell_type": "markdown",
      "source": [
        "Immutability"
      ],
      "metadata": {
        "id": "8tZNRnxaJEyj"
      }
    },
    {
      "cell_type": "code",
      "source": [
        "my_tuple[0] = 'change'"
      ],
      "metadata": {
        "colab": {
          "base_uri": "https://localhost:8080/",
          "height": 176
        },
        "id": "5otqmWNHJFbp",
        "outputId": "1a1db8d7-8efa-4f67-d377-020fe5b3840f"
      },
      "execution_count": 59,
      "outputs": [
        {
          "output_type": "error",
          "ename": "TypeError",
          "evalue": "ignored",
          "traceback": [
            "\u001b[0;31m---------------------------------------------------------------------------\u001b[0m",
            "\u001b[0;31mTypeError\u001b[0m                                 Traceback (most recent call last)",
            "\u001b[0;32m<ipython-input-59-1113c19e61ee>\u001b[0m in \u001b[0;36m<cell line: 1>\u001b[0;34m()\u001b[0m\n\u001b[0;32m----> 1\u001b[0;31m \u001b[0mmy_tuple\u001b[0m\u001b[0;34m[\u001b[0m\u001b[0;36m0\u001b[0m\u001b[0;34m]\u001b[0m \u001b[0;34m=\u001b[0m \u001b[0;34m'change'\u001b[0m\u001b[0;34m\u001b[0m\u001b[0;34m\u001b[0m\u001b[0m\n\u001b[0m",
            "\u001b[0;31mTypeError\u001b[0m: 'tuple' object does not support item assignment"
          ]
        }
      ]
    },
    {
      "cell_type": "markdown",
      "source": [
        "3) zip()"
      ],
      "metadata": {
        "id": "uJRMH0ANJa9z"
      }
    },
    {
      "cell_type": "code",
      "source": [
        "city_list = ['Delhi','Patna','Cuttack','Guwahati']\n",
        "river_list = ['Yamuna','Ganga','Mahanadi','Brahmaputra']"
      ],
      "metadata": {
        "id": "7pznqkVdJIsa"
      },
      "execution_count": 60,
      "outputs": []
    },
    {
      "cell_type": "code",
      "source": [
        "zip(city_list, river_list)"
      ],
      "metadata": {
        "colab": {
          "base_uri": "https://localhost:8080/"
        },
        "id": "r_WNqno2JhWk",
        "outputId": "5614a233-bb88-4be2-b949-3976a7f2f4cc"
      },
      "execution_count": 61,
      "outputs": [
        {
          "output_type": "execute_result",
          "data": {
            "text/plain": [
              "<zip at 0x78ae5f615080>"
            ]
          },
          "metadata": {},
          "execution_count": 61
        }
      ]
    },
    {
      "cell_type": "code",
      "source": [
        "print(zip(city_list, river_list))"
      ],
      "metadata": {
        "colab": {
          "base_uri": "https://localhost:8080/"
        },
        "id": "XLcZcUzZJjdT",
        "outputId": "e266f213-47a8-42a5-9eeb-d5c0622fa1df"
      },
      "execution_count": 62,
      "outputs": [
        {
          "output_type": "stream",
          "name": "stdout",
          "text": [
            "<zip object at 0x78ae5c36af40>\n"
          ]
        }
      ]
    },
    {
      "cell_type": "code",
      "source": [
        "city_and_their_rivers = list(zip(city_list,river_list))"
      ],
      "metadata": {
        "id": "v5WUDFdEJfjj"
      },
      "execution_count": 63,
      "outputs": []
    },
    {
      "cell_type": "code",
      "source": [
        "city_and_their_rivers"
      ],
      "metadata": {
        "colab": {
          "base_uri": "https://localhost:8080/"
        },
        "id": "GvQGpoHBJs37",
        "outputId": "c904f245-0590-4c13-b5da-034b20243ba1"
      },
      "execution_count": 64,
      "outputs": [
        {
          "output_type": "execute_result",
          "data": {
            "text/plain": [
              "[('Delhi', 'Yamuna'),\n",
              " ('Patna', 'Ganga'),\n",
              " ('Cuttack', 'Mahanadi'),\n",
              " ('Guwahati', 'Brahmaputra')]"
            ]
          },
          "metadata": {},
          "execution_count": 64
        }
      ]
    },
    {
      "cell_type": "markdown",
      "source": [
        "# **Sets**"
      ],
      "metadata": {
        "id": "Ti_QkF8lJ69M"
      }
    },
    {
      "cell_type": "code",
      "source": [
        "my_list = [1 ,2, 23, 3 ,56]\n",
        "my_set = set(my_list) # unordered Property\n",
        "my_set # Hash Table"
      ],
      "metadata": {
        "id": "6v8XemLwJ8VM",
        "colab": {
          "base_uri": "https://localhost:8080/"
        },
        "outputId": "a542b9e7-b626-47cb-ebfb-bb6f192f6243"
      },
      "execution_count": 65,
      "outputs": [
        {
          "output_type": "execute_result",
          "data": {
            "text/plain": [
              "{1, 2, 3, 23, 56}"
            ]
          },
          "metadata": {},
          "execution_count": 65
        }
      ]
    },
    {
      "cell_type": "code",
      "source": [
        "# We add to sets with the add() method\n",
        "my_set = set() # empty Set\n",
        "my_set.add('a')"
      ],
      "metadata": {
        "id": "nAt9dDI9arQR"
      },
      "execution_count": 66,
      "outputs": []
    },
    {
      "cell_type": "code",
      "source": [
        "my_set = {5,7,9,3}"
      ],
      "metadata": {
        "id": "zE1FtExMa96V"
      },
      "execution_count": 67,
      "outputs": []
    },
    {
      "cell_type": "code",
      "source": [
        "# add multiple elements\n",
        "add_list = [2, 3, 4]\n",
        "my_set.update(add_list)\n",
        "print(my_set)"
      ],
      "metadata": {
        "colab": {
          "base_uri": "https://localhost:8080/"
        },
        "id": "2OtzgVbZbABC",
        "outputId": "04d6e010-7e57-4289-c582-1d08d961c568"
      },
      "execution_count": 68,
      "outputs": [
        {
          "output_type": "stream",
          "name": "stdout",
          "text": [
            "{2, 3, 4, 5, 7, 9}\n"
          ]
        }
      ]
    },
    {
      "cell_type": "markdown",
      "source": [
        "Remove()"
      ],
      "metadata": {
        "id": "-bx1qCWAbJgy"
      }
    },
    {
      "cell_type": "code",
      "source": [
        "non_empty_set = {1, 5, 6, 73, 2}"
      ],
      "metadata": {
        "id": "1YjY0Ja8bKYA"
      },
      "execution_count": 69,
      "outputs": []
    },
    {
      "cell_type": "code",
      "source": [
        "non_empty_set.remove(5)\n"
      ],
      "metadata": {
        "id": "GinXvjFUbOiO"
      },
      "execution_count": 70,
      "outputs": []
    },
    {
      "cell_type": "code",
      "source": [
        "non_empty_set"
      ],
      "metadata": {
        "colab": {
          "base_uri": "https://localhost:8080/"
        },
        "id": "S4CJf60wbVfz",
        "outputId": "010bb5f8-1f27-4221-b3e9-9708d9a34c4d"
      },
      "execution_count": 71,
      "outputs": [
        {
          "output_type": "execute_result",
          "data": {
            "text/plain": [
              "{1, 2, 6, 73}"
            ]
          },
          "metadata": {},
          "execution_count": 71
        }
      ]
    },
    {
      "cell_type": "markdown",
      "source": [
        "union()"
      ],
      "metadata": {
        "id": "s3VOxtxWbY3j"
      }
    },
    {
      "cell_type": "code",
      "source": [
        "# Initialize sets A and B\n",
        "A = {1, 2, 3, 4, 5}\n",
        "\n",
        "B = {4, 5, 6, 7, 8}"
      ],
      "metadata": {
        "id": "4mLia_YBbbS9"
      },
      "execution_count": 72,
      "outputs": []
    },
    {
      "cell_type": "code",
      "source": [
        "A | B"
      ],
      "metadata": {
        "colab": {
          "base_uri": "https://localhost:8080/"
        },
        "id": "icjYokqsbhR6",
        "outputId": "4525bfcd-edaf-475b-dce5-e7b771758fa4"
      },
      "execution_count": 73,
      "outputs": [
        {
          "output_type": "execute_result",
          "data": {
            "text/plain": [
              "{1, 2, 3, 4, 5, 6, 7, 8}"
            ]
          },
          "metadata": {},
          "execution_count": 73
        }
      ]
    },
    {
      "cell_type": "code",
      "source": [
        "A.union(B)"
      ],
      "metadata": {
        "colab": {
          "base_uri": "https://localhost:8080/"
        },
        "id": "-tTEUqK7bitS",
        "outputId": "2334fdfb-5baa-4f2d-b257-fcb92ca83515"
      },
      "execution_count": 74,
      "outputs": [
        {
          "output_type": "execute_result",
          "data": {
            "text/plain": [
              "{1, 2, 3, 4, 5, 6, 7, 8}"
            ]
          },
          "metadata": {},
          "execution_count": 74
        }
      ]
    },
    {
      "cell_type": "markdown",
      "source": [
        "intersection()"
      ],
      "metadata": {
        "id": "JO8ZrGoHbm4i"
      }
    },
    {
      "cell_type": "code",
      "source": [
        "A = {1, 2, 3, 4, 5}\n",
        "B = {4, 5, 6, 7, 8}"
      ],
      "metadata": {
        "id": "jaEPmrvQbmMV"
      },
      "execution_count": 75,
      "outputs": []
    },
    {
      "cell_type": "code",
      "source": [
        "A & B"
      ],
      "metadata": {
        "colab": {
          "base_uri": "https://localhost:8080/"
        },
        "id": "UIVpnRAAbtVf",
        "outputId": "5b9932ef-162d-4215-b4ec-c3815334c120"
      },
      "execution_count": 76,
      "outputs": [
        {
          "output_type": "execute_result",
          "data": {
            "text/plain": [
              "{4, 5}"
            ]
          },
          "metadata": {},
          "execution_count": 76
        }
      ]
    },
    {
      "cell_type": "code",
      "source": [
        "A.intersection(B)"
      ],
      "metadata": {
        "colab": {
          "base_uri": "https://localhost:8080/"
        },
        "id": "q122P1qRbrU5",
        "outputId": "9d0dbb3f-de0c-4d33-926f-668a2ab72aa0"
      },
      "execution_count": 77,
      "outputs": [
        {
          "output_type": "execute_result",
          "data": {
            "text/plain": [
              "{4, 5}"
            ]
          },
          "metadata": {},
          "execution_count": 77
        }
      ]
    },
    {
      "cell_type": "markdown",
      "source": [
        "Difference()"
      ],
      "metadata": {
        "id": "EKEj4WDnb0pT"
      }
    },
    {
      "cell_type": "code",
      "source": [
        "A = {1, 2, 3, 4, 5}\n",
        "\n",
        "B = {4, 5, 6, 7, 8}"
      ],
      "metadata": {
        "id": "cnT60D3mb28Q"
      },
      "execution_count": 78,
      "outputs": []
    },
    {
      "cell_type": "code",
      "source": [
        "A - B"
      ],
      "metadata": {
        "colab": {
          "base_uri": "https://localhost:8080/"
        },
        "id": "PyQtLto9b4el",
        "outputId": "e94d0c53-9994-48d7-de53-76237fe4b29d"
      },
      "execution_count": 79,
      "outputs": [
        {
          "output_type": "execute_result",
          "data": {
            "text/plain": [
              "{1, 2, 3}"
            ]
          },
          "metadata": {},
          "execution_count": 79
        }
      ]
    },
    {
      "cell_type": "code",
      "source": [
        "A.difference(B)"
      ],
      "metadata": {
        "colab": {
          "base_uri": "https://localhost:8080/"
        },
        "id": "R_U28-Glb6Sw",
        "outputId": "6b721df6-122f-4300-e764-f4d108dfecf7"
      },
      "execution_count": 80,
      "outputs": [
        {
          "output_type": "execute_result",
          "data": {
            "text/plain": [
              "{1, 2, 3}"
            ]
          },
          "metadata": {},
          "execution_count": 80
        }
      ]
    },
    {
      "cell_type": "code",
      "source": [
        "B - A"
      ],
      "metadata": {
        "colab": {
          "base_uri": "https://localhost:8080/"
        },
        "id": "svw0NvaXb8fQ",
        "outputId": "081ecd6d-4937-40e1-d488-8ef0465fb093"
      },
      "execution_count": 81,
      "outputs": [
        {
          "output_type": "execute_result",
          "data": {
            "text/plain": [
              "{6, 7, 8}"
            ]
          },
          "metadata": {},
          "execution_count": 81
        }
      ]
    },
    {
      "cell_type": "code",
      "source": [
        "B.difference(A)"
      ],
      "metadata": {
        "colab": {
          "base_uri": "https://localhost:8080/"
        },
        "id": "B3DRKmY3cAg-",
        "outputId": "e114108e-a362-4577-c26e-99e3d8c90c9a"
      },
      "execution_count": 82,
      "outputs": [
        {
          "output_type": "execute_result",
          "data": {
            "text/plain": [
              "{6, 7, 8}"
            ]
          },
          "metadata": {},
          "execution_count": 82
        }
      ]
    },
    {
      "cell_type": "markdown",
      "source": [
        "symmetric_difference()"
      ],
      "metadata": {
        "id": "8jebEp-8cIHs"
      }
    },
    {
      "cell_type": "code",
      "source": [
        "A = {1, 2, 3, 4, 5}\n",
        "B = {4, 5, 6, 7, 8}"
      ],
      "metadata": {
        "id": "XaJ5b5gXcLF8"
      },
      "execution_count": 83,
      "outputs": []
    },
    {
      "cell_type": "code",
      "source": [
        "A^B"
      ],
      "metadata": {
        "colab": {
          "base_uri": "https://localhost:8080/"
        },
        "id": "IaeJAaYXcMVh",
        "outputId": "53eb7386-46b1-478f-fcf7-eb70de8c98e1"
      },
      "execution_count": 84,
      "outputs": [
        {
          "output_type": "execute_result",
          "data": {
            "text/plain": [
              "{1, 2, 3, 6, 7, 8}"
            ]
          },
          "metadata": {},
          "execution_count": 84
        }
      ]
    },
    {
      "cell_type": "code",
      "source": [
        "A.symmetric_difference(B)"
      ],
      "metadata": {
        "colab": {
          "base_uri": "https://localhost:8080/"
        },
        "id": "__lRXIYYcQZd",
        "outputId": "35d37aa0-d4ac-4f82-fafb-6186e3ea0bf0"
      },
      "execution_count": 85,
      "outputs": [
        {
          "output_type": "execute_result",
          "data": {
            "text/plain": [
              "{1, 2, 3, 6, 7, 8}"
            ]
          },
          "metadata": {},
          "execution_count": 85
        }
      ]
    },
    {
      "cell_type": "markdown",
      "source": [
        "# **Dictionaries**"
      ],
      "metadata": {
        "id": "SA-fwHN-caPs"
      }
    },
    {
      "cell_type": "markdown",
      "source": [
        "# Dictionaries\n",
        "\n",
        "* We've been learning about *sequences* in Python but now we're going to switch gears and learn about *mappings* in Python.\n",
        "\n",
        "\n",
        "* If you're familiar with other languages you can think of these Dictionaries as hash tables.\n",
        "\n",
        "\n",
        "* So what are mappings? Mappings are a collection of objects that are stored by a *key*, unlike a sequence that stored objects by their relative position. This is an important distinction, since mappings won't retain order since they have objects defined by a key.\n",
        "\n",
        "\n",
        "* A Python dictionary consists of a key and then an associated value. That value can be almost any Python object. So a dictionary object always has elements as key-value pairs\n",
        "\n",
        "\n",
        "## Constructing a Dictionary\n",
        "\n",
        "\n",
        "* A dictionary object is constructed using curly braces <code>{key1:value1,key2:value2,key3:value3}</code>"
      ],
      "metadata": {
        "id": "1tafulBk-n9Z"
      }
    },
    {
      "cell_type": "code",
      "source": [
        "marvel_dict = {'Name':'Thor','Place':'Asgard','Weapon' : 'Hammer', 1:2, 3 : 'power', 'alibies' : ['Ironman','Captain America'], 'abc' : {1:2, 4:5}}"
      ],
      "metadata": {
        "id": "Llrixr2Ackpn"
      },
      "execution_count": 86,
      "outputs": []
    },
    {
      "cell_type": "code",
      "source": [
        "# Call values by their key\n",
        "marvel_dict['Place']"
      ],
      "metadata": {
        "colab": {
          "base_uri": "https://localhost:8080/",
          "height": 35
        },
        "id": "3dV-rWfD-vwq",
        "outputId": "130714fe-f368-48b0-a9df-afb61db6d626"
      },
      "execution_count": 87,
      "outputs": [
        {
          "output_type": "execute_result",
          "data": {
            "text/plain": [
              "'Asgard'"
            ],
            "application/vnd.google.colaboratory.intrinsic+json": {
              "type": "string"
            }
          },
          "metadata": {},
          "execution_count": 87
        }
      ]
    },
    {
      "cell_type": "code",
      "source": [
        "type(marvel_dict)"
      ],
      "metadata": {
        "colab": {
          "base_uri": "https://localhost:8080/"
        },
        "id": "xBUwA982-wEQ",
        "outputId": "d2e13ed9-5d41-48a8-8783-f83ce9aa653e"
      },
      "execution_count": 88,
      "outputs": [
        {
          "output_type": "execute_result",
          "data": {
            "text/plain": [
              "dict"
            ]
          },
          "metadata": {},
          "execution_count": 88
        }
      ]
    },
    {
      "cell_type": "code",
      "source": [
        "marvel_dict['Name']"
      ],
      "metadata": {
        "colab": {
          "base_uri": "https://localhost:8080/",
          "height": 35
        },
        "id": "9LXTZiLs-2mq",
        "outputId": "c74f3de8-2766-401a-d73a-15827962a7c4"
      },
      "execution_count": 89,
      "outputs": [
        {
          "output_type": "execute_result",
          "data": {
            "text/plain": [
              "'Thor'"
            ],
            "application/vnd.google.colaboratory.intrinsic+json": {
              "type": "string"
            }
          },
          "metadata": {},
          "execution_count": 89
        }
      ]
    },
    {
      "cell_type": "markdown",
      "source": [
        "# **Dictionary Methods**"
      ],
      "metadata": {
        "id": "WbH-BRsu-7lK"
      }
    },
    {
      "cell_type": "markdown",
      "source": [
        "keys()"
      ],
      "metadata": {
        "id": "jRX8mhW3-_Fa"
      }
    },
    {
      "cell_type": "code",
      "source": [
        "marvel_dict.keys()"
      ],
      "metadata": {
        "colab": {
          "base_uri": "https://localhost:8080/"
        },
        "id": "AZih91ZN-8Rm",
        "outputId": "9500d6bf-fcd6-4290-c7e4-240d2530befd"
      },
      "execution_count": 90,
      "outputs": [
        {
          "output_type": "execute_result",
          "data": {
            "text/plain": [
              "dict_keys(['Name', 'Place', 'Weapon', 1, 3, 'alibies', 'abc'])"
            ]
          },
          "metadata": {},
          "execution_count": 90
        }
      ]
    },
    {
      "cell_type": "markdown",
      "source": [
        "values()"
      ],
      "metadata": {
        "id": "Lr-zz2G8_IZ1"
      }
    },
    {
      "cell_type": "code",
      "source": [
        "list(marvel_dict.values())"
      ],
      "metadata": {
        "colab": {
          "base_uri": "https://localhost:8080/"
        },
        "id": "APPejdXj_K6f",
        "outputId": "f1b95290-efa1-495a-8197-c94b44211f39"
      },
      "execution_count": 91,
      "outputs": [
        {
          "output_type": "execute_result",
          "data": {
            "text/plain": [
              "['Thor',\n",
              " 'Asgard',\n",
              " 'Hammer',\n",
              " 2,\n",
              " 'power',\n",
              " ['Ironman', 'Captain America'],\n",
              " {1: 2, 4: 5}]"
            ]
          },
          "metadata": {},
          "execution_count": 91
        }
      ]
    },
    {
      "cell_type": "markdown",
      "source": [
        "items()"
      ],
      "metadata": {
        "id": "7Lx3Xqmf_SO-"
      }
    },
    {
      "cell_type": "code",
      "source": [
        "# Get the keys and their corresponding values\n",
        "list(marvel_dict.items()) # Dict in the list form"
      ],
      "metadata": {
        "colab": {
          "base_uri": "https://localhost:8080/"
        },
        "id": "LX7Z2hT7_S8F",
        "outputId": "c93f47f6-102c-4638-e953-b1c063159ce5"
      },
      "execution_count": 92,
      "outputs": [
        {
          "output_type": "execute_result",
          "data": {
            "text/plain": [
              "[('Name', 'Thor'),\n",
              " ('Place', 'Asgard'),\n",
              " ('Weapon', 'Hammer'),\n",
              " (1, 2),\n",
              " (3, 'power'),\n",
              " ('alibies', ['Ironman', 'Captain America']),\n",
              " ('abc', {1: 2, 4: 5})]"
            ]
          },
          "metadata": {},
          "execution_count": 92
        }
      ]
    },
    {
      "cell_type": "markdown",
      "source": [
        "update()"
      ],
      "metadata": {
        "id": "RaXZPC4gpiFf"
      }
    },
    {
      "cell_type": "code",
      "source": [
        "marvel_dict.update({'Place':'Earth'})\n",
        "marvel_dict"
      ],
      "metadata": {
        "colab": {
          "base_uri": "https://localhost:8080/"
        },
        "id": "c1yWN8JopoNR",
        "outputId": "438d6bb0-7966-4ee0-c7c4-09656a280d57"
      },
      "execution_count": 93,
      "outputs": [
        {
          "output_type": "execute_result",
          "data": {
            "text/plain": [
              "{'Name': 'Thor',\n",
              " 'Place': 'Earth',\n",
              " 'Weapon': 'Hammer',\n",
              " 1: 2,\n",
              " 3: 'power',\n",
              " 'alibies': ['Ironman', 'Captain America'],\n",
              " 'abc': {1: 2, 4: 5}}"
            ]
          },
          "metadata": {},
          "execution_count": 93
        }
      ]
    },
    {
      "cell_type": "markdown",
      "source": [
        "# Python Comments"
      ],
      "metadata": {
        "id": "_VV0wAaN0Z2h"
      }
    },
    {
      "cell_type": "markdown",
      "source": [
        "\n",
        "\n",
        "*   Comments are very important while writing a program. They describe what is going on inside a program, so that a person looking at the source code does not have a hard time figuring it out.\n",
        "\n",
        "*   You might forget the key details of the program you just wrote in a month's time. So taking the time to explain these concepts in the form of comments is always fruitful.\n",
        "\n",
        "\n",
        "*   In Python, we use the hash (#) symbol to start writing a comment.\n",
        "It extends up to the newline character. Comments are for programmers to better understand a program. Python Interpreter ignores comments.\n",
        "\n",
        "\n",
        "\n"
      ],
      "metadata": {
        "id": "zKnIqsaQ0bdo"
      }
    },
    {
      "cell_type": "code",
      "source": [
        "# This is a comment\n",
        "# print('Hello')\n",
        "print('Hello')"
      ],
      "metadata": {
        "colab": {
          "base_uri": "https://localhost:8080/"
        },
        "id": "JVSSzA0b0-H2",
        "outputId": "61824ca4-63de-41b1-a6c8-a9ca319cdebf"
      },
      "execution_count": 94,
      "outputs": [
        {
          "output_type": "stream",
          "name": "stdout",
          "text": [
            "Hello\n"
          ]
        }
      ]
    },
    {
      "cell_type": "markdown",
      "source": [
        "\n",
        "\n",
        "*   We can have comments that extend up to multiple lines. One way is to use the hash(#) symbol at the beginning of each line. For example:\n",
        "\n"
      ],
      "metadata": {
        "id": "oO46Txbi00fp"
      }
    },
    {
      "cell_type": "code",
      "source": [
        "# This is a long comment\n",
        "# and it extends\n",
        "# to multiple lines"
      ],
      "metadata": {
        "id": "-8-eP1ht1IQL"
      },
      "execution_count": 95,
      "outputs": []
    },
    {
      "cell_type": "markdown",
      "source": [
        "\n",
        "\n",
        "*   Another way of doing this is to use triple quotes, either ''' or \"\"\".\n",
        "\n",
        "*   These triple quotes are generally used for multi-line strings. But they can be used as a multi-line comment as well. Unless they are not docstrings, they do not generate any extra code.\n",
        "\n"
      ],
      "metadata": {
        "id": "tNk-AlPe1Kwh"
      }
    },
    {
      "cell_type": "code",
      "source": [
        "'''This is also a\n",
        "perfect example of\n",
        "ahjcdjh\n",
        "sdjbdkjas\n",
        "mnbscjsab\n",
        "bkjabfa\n",
        "multi-line comments'''\n",
        "\n",
        "a = 3\n",
        "print(a)"
      ],
      "metadata": {
        "colab": {
          "base_uri": "https://localhost:8080/"
        },
        "id": "1NaJsdgD1UE5",
        "outputId": "f0cd4d52-aaee-41d7-9692-49d00a15c566"
      },
      "execution_count": 96,
      "outputs": [
        {
          "output_type": "stream",
          "name": "stdout",
          "text": [
            "3\n"
          ]
        }
      ]
    },
    {
      "cell_type": "markdown",
      "source": [
        "# Indentation in Python\n",
        "\n",
        "\n"
      ],
      "metadata": {
        "id": "4LxdL1L_1gIO"
      }
    },
    {
      "cell_type": "markdown",
      "source": [
        "It is important to keep a good understanding of how indentation works in Python to maintain the structure and order of your code. We will touch on this topic again when we start building out functions!"
      ],
      "metadata": {
        "id": "Vvg8EsHQ1rYF"
      }
    },
    {
      "cell_type": "markdown",
      "source": [
        "# **Loops**"
      ],
      "metadata": {
        "id": "NfUGqyXfAuZf"
      }
    },
    {
      "cell_type": "markdown",
      "source": [
        "### For - Loop"
      ],
      "metadata": {
        "id": "z6LrwIdKAzOA"
      }
    },
    {
      "cell_type": "code",
      "source": [
        "for i in range(1,10):\n",
        "  print(i, end=\" \")\n",
        "\n",
        "print()\n",
        "# Negative looping\n",
        "for i in range(10,0,-1):\n",
        "  print(i, end=\" \")"
      ],
      "metadata": {
        "colab": {
          "base_uri": "https://localhost:8080/"
        },
        "id": "_WMTIV4jA2D1",
        "outputId": "9a9e5cfc-44ce-42f7-9fa5-674fc02b5996"
      },
      "execution_count": 97,
      "outputs": [
        {
          "output_type": "stream",
          "name": "stdout",
          "text": [
            "1 2 3 4 5 6 7 8 9 \n",
            "10 9 8 7 6 5 4 3 2 1 "
          ]
        }
      ]
    },
    {
      "cell_type": "code",
      "source": [
        "for i in range(1,10):\n",
        "  print(i, end=\"\")\n"
      ],
      "metadata": {
        "colab": {
          "base_uri": "https://localhost:8080/"
        },
        "id": "HQGs_CMUDZCr",
        "outputId": "865145a5-8b1c-410f-b651-082e0dcc1319"
      },
      "execution_count": 98,
      "outputs": [
        {
          "output_type": "stream",
          "name": "stdout",
          "text": [
            "123456789"
          ]
        }
      ]
    },
    {
      "cell_type": "code",
      "source": [
        "for i in range(1,10):\n",
        "  print(i)"
      ],
      "metadata": {
        "colab": {
          "base_uri": "https://localhost:8080/"
        },
        "id": "6PlSGFX6DeKR",
        "outputId": "5f9b3044-400b-476c-8db1-738dc28b91a3"
      },
      "execution_count": 99,
      "outputs": [
        {
          "output_type": "stream",
          "name": "stdout",
          "text": [
            "1\n",
            "2\n",
            "3\n",
            "4\n",
            "5\n",
            "6\n",
            "7\n",
            "8\n",
            "9\n"
          ]
        }
      ]
    },
    {
      "cell_type": "markdown",
      "source": [
        "### Enumerate"
      ],
      "metadata": {
        "id": "EIv0EPUHDoDU"
      }
    },
    {
      "cell_type": "code",
      "source": [
        "list = ['a','b','c','d']\n",
        "\n",
        "for i, char in enumerate(list):\n",
        "  print(i, char)"
      ],
      "metadata": {
        "colab": {
          "base_uri": "https://localhost:8080/"
        },
        "id": "QpR0TE6BDsqf",
        "outputId": "45bed41a-949a-4d62-a310-643f44bb2b76"
      },
      "execution_count": 100,
      "outputs": [
        {
          "output_type": "stream",
          "name": "stdout",
          "text": [
            "0 a\n",
            "1 b\n",
            "2 c\n",
            "3 d\n"
          ]
        }
      ]
    },
    {
      "cell_type": "markdown",
      "source": [
        "### While - Loop"
      ],
      "metadata": {
        "id": "ns-7ohpkDwQZ"
      }
    },
    {
      "cell_type": "code",
      "source": [
        "i=10\n",
        "while(i>0):\n",
        "  print(i)\n",
        "  i-=1"
      ],
      "metadata": {
        "colab": {
          "base_uri": "https://localhost:8080/"
        },
        "id": "5BRdJIELDzIj",
        "outputId": "8e6940a5-3e0c-4833-bfc3-89dafcbbb811"
      },
      "execution_count": 101,
      "outputs": [
        {
          "output_type": "stream",
          "name": "stdout",
          "text": [
            "10\n",
            "9\n",
            "8\n",
            "7\n",
            "6\n",
            "5\n",
            "4\n",
            "3\n",
            "2\n",
            "1\n"
          ]
        }
      ]
    },
    {
      "cell_type": "markdown",
      "source": [
        "- The `break` statement is used to exit a loop prematurely.\n",
        "- The `pass` statement is a no-operation statement. It does nothing and allows the loop to continue.\n",
        "-The `continue` statement is used to skip the current iteration of the loop and continue with the next iteration."
      ],
      "metadata": {
        "id": "LCKhWQvED34-"
      }
    },
    {
      "cell_type": "code",
      "source": [
        "#Break\n",
        "i = 0\n",
        "while i < 5:\n",
        "    print(i)\n",
        "    if i == 3:\n",
        "        break\n",
        "    i += 1"
      ],
      "metadata": {
        "colab": {
          "base_uri": "https://localhost:8080/"
        },
        "id": "nPRndbS4D6PM",
        "outputId": "8e6fbdd0-b471-4099-8fe3-ab1eb7fa91db"
      },
      "execution_count": 104,
      "outputs": [
        {
          "output_type": "stream",
          "name": "stdout",
          "text": [
            "0\n",
            "1\n",
            "2\n",
            "3\n"
          ]
        }
      ]
    },
    {
      "cell_type": "code",
      "source": [
        "#Pass\n",
        "i = 0\n",
        "while i < 5:\n",
        "    if i == 2:\n",
        "        pass\n",
        "    else:\n",
        "        print(i)\n",
        "    i += 1\n"
      ],
      "metadata": {
        "colab": {
          "base_uri": "https://localhost:8080/"
        },
        "id": "dOthw4LND89c",
        "outputId": "e88d084b-e377-4e30-b24a-00aa156e6529"
      },
      "execution_count": 105,
      "outputs": [
        {
          "output_type": "stream",
          "name": "stdout",
          "text": [
            "0\n",
            "1\n",
            "3\n",
            "4\n"
          ]
        }
      ]
    },
    {
      "cell_type": "code",
      "source": [
        "#Continue\n",
        "i = 0\n",
        "while i < 5:\n",
        "    i += 1\n",
        "    if i == 2:\n",
        "        continue\n",
        "    print(i)\n"
      ],
      "metadata": {
        "colab": {
          "base_uri": "https://localhost:8080/"
        },
        "id": "kGreheZoD9wC",
        "outputId": "c751a510-cb2d-476c-b8db-baab3cccf3dc"
      },
      "execution_count": 106,
      "outputs": [
        {
          "output_type": "stream",
          "name": "stdout",
          "text": [
            "1\n",
            "3\n",
            "4\n",
            "5\n"
          ]
        }
      ]
    },
    {
      "cell_type": "markdown",
      "source": [
        "## Functions and Methods"
      ],
      "metadata": {
        "id": "51uV4QftELKG"
      }
    },
    {
      "cell_type": "markdown",
      "source": [
        "Certainly! Let's start by defining functions and methods and then discuss their differences and scope.\n",
        "\n",
        "**Function:**\n",
        "- A function is a block of reusable code that performs a specific task or a set of tasks.\n",
        "- Functions are defined using the `def` keyword in Python, followed by the function name, parameters (if any), a colon, and the function body.\n",
        "- Functions are called by their name, followed by parentheses `()`, which may contain arguments.\n",
        "- Functions can be defined at the module level or within other functions.\n",
        "\n",
        "Example of defining and calling a function:\n",
        "\n",
        "```python\n",
        "def greet(name):\n",
        "    print(f\"Hello, {name}!\")\n",
        "\n",
        "greet(\"Alice\")  # Calling the function\n",
        "```\n",
        "\n",
        "**Method:**\n",
        "- A method is a function that is associated with an object or a class.\n",
        "- Methods are called on objects and can access and modify the object's data.\n",
        "- Methods are defined within classes and are used to define the behavior of objects of that class.\n",
        "- Methods are accessed using the dot notation `object.method()`.\n",
        "\n",
        "Example of defining and calling a method:\n",
        "\n",
        "```python\n",
        "class Dog:\n",
        "    def bark(self):\n",
        "        print(\"Woof!\")\n",
        "\n",
        "my_dog = Dog()\n",
        "my_dog.bark()  # Calling the method on an object\n",
        "```\n",
        "\n",
        "**Difference between Function and Method:**\n",
        "1. **Association with Objects:**\n",
        "   - A function is not associated with any particular object or class.\n",
        "   - A method is always associated with an object or a class. It operates on the data contained within that object or class.\n",
        "\n",
        "2. **Syntax:**\n",
        "   - Functions are defined using the `def` keyword.\n",
        "   - Methods are defined within classes and use the `def` keyword as well but are associated with that class.\n",
        "\n",
        "3. **Calling:**\n",
        "   - Functions are called by their name.\n",
        "   - Methods are called on objects or classes and use the dot notation (`object.method()` or `class.method()`).\n",
        "\n",
        "**Scope:**\n",
        "- The scope of a function or method defines where it can be accessed or called within a program.\n",
        "- In Python, there are two main types of scope: global scope and local scope.\n",
        "- Functions and methods have their own local scope, which means variables defined inside them are only accessible within that function or method.\n",
        "- Variables defined outside of any function or method have global scope and can be accessed from anywhere in the program.\n",
        "\n",
        "Example of scope:\n",
        "\n",
        "```python\n",
        "x = 10  # Global variable\n",
        "\n",
        "def my_function():\n",
        "    y = 5  # Local variable\n",
        "    print(x)  # Accessing the global variable\n",
        "    print(y)  # Accessing the local variable\n",
        "\n",
        "my_function()\n",
        "print(x)  # Accessing the global variable outside the function\n",
        "# print(y)  # This would result in an error because y is a local variable\n",
        "```\n",
        "\n",
        "In summary, functions are independent blocks of code that can be defined and called globally, while methods are functions associated with objects or classes and operate on their data. Both functions and methods have their own local scope, and variables within them have limited visibility. Global variables, on the other hand, are accessible from anywhere in the program."
      ],
      "metadata": {
        "id": "0nR3HesuEO0i"
      }
    },
    {
      "cell_type": "markdown",
      "source": [
        "## **Pandas**"
      ],
      "metadata": {
        "id": "lLQeB_Y4EUYy"
      }
    },
    {
      "cell_type": "markdown",
      "source": [
        "**Series and DataFrames** are fundamental data structures provided by the **Pandas** library in Python for data manipulation and analysis. They are built on top of NumPy arrays and are particularly useful for handling structured data.\n",
        "\n",
        "### Series:\n",
        "\n",
        "- A **Series** is a one-dimensional labeled array capable of holding data of various types (numeric, string, etc.).\n",
        "- It is similar to a column in a spreadsheet or a single column in a database table.\n",
        "- A Series has two main components: the data (values) and the index (labels for the data).\n",
        "- You can create a Series using the `pd.Series()` constructor.\n",
        "\n",
        "Creating a Series from a list:\n",
        "```python\n",
        "import pandas as pd\n",
        "\n",
        "data = [1, 2, 3, 4, 5]\n",
        "series = pd.Series(data)\n",
        "```\n",
        "\n",
        "Creating a Series from a dictionary:\n",
        "```python\n",
        "data = {'a': 1, 'b': 2, 'c': 3}\n",
        "series = pd.Series(data)\n",
        "```\n",
        "\n",
        "### DataFrame:\n",
        "\n",
        "- A **DataFrame** is a two-dimensional labeled data structure with columns of potentially different types.\n",
        "- It is similar to a spreadsheet or SQL table, where data is organized in rows and columns.\n",
        "- A DataFrame has both row labels (index) and column labels.\n",
        "- You can create a DataFrame using the `pd.DataFrame()` constructor.\n",
        "\n",
        "Creating a DataFrame from a list of lists:\n",
        "```python\n",
        "import pandas as pd\n",
        "\n",
        "data = [[1, 'Alice'], [2, 'Bob'], [3, 'Charlie']]\n",
        "df = pd.DataFrame(data, columns=['ID', 'Name'])\n",
        "```\n",
        "\n",
        "Creating a DataFrame from a dictionary of lists:\n",
        "```python\n",
        "data = {'ID': [1, 2, 3], 'Name': ['Alice', 'Bob', 'Charlie']}\n",
        "df = pd.DataFrame(data)\n",
        "```\n",
        "\n",
        "Creating a DataFrame from a list of dictionaries:\n",
        "```python\n",
        "data = [{'ID': 1, 'Name': 'Alice'}, {'ID': 2, 'Name': 'Bob'}, {'ID': 3, 'Name': 'Charlie'}]\n",
        "df = pd.DataFrame(data)\n",
        "```"
      ],
      "metadata": {
        "id": "kRdAb8YAEXIa"
      }
    },
    {
      "cell_type": "markdown",
      "source": [
        "## Function and Method"
      ],
      "metadata": {
        "id": "jQqG_q6zEcOa"
      }
    },
    {
      "cell_type": "markdown",
      "source": [
        "### Functions and Methods\n",
        "\n",
        "Let's cover some fundamental DataFrame operations:\n",
        "\n",
        "**1. Creating DataFrames:**\n",
        "\n",
        "```python\n",
        "import pandas as pd\n",
        "\n",
        "# Creating a DataFrame from a dictionary\n",
        "data = {'Name': ['Alice', 'Bob', 'Charlie'],\n",
        "        'Age': [25, 30, 22]}\n",
        "df = pd.DataFrame(data)\n",
        "print(df)\n",
        "```\n",
        "\n",
        "**2. Accessing Data:**\n",
        "\n",
        "```python\n",
        "# Accessing a single column\n",
        "names = df['Name']\n",
        "\n",
        "# Accessing multiple columns\n",
        "subset = df[['Name', 'Age']]\n",
        "\n",
        "# Accessing rows using iloc (integer location)\n",
        "row = df.iloc[1]  # Access the second row (index 1)\n",
        "```\n",
        "\n",
        "**3. Filtering Data:**\n",
        "\n",
        "```python\n",
        "# Filtering rows based on a condition\n",
        "young_people = df[df['Age'] < 30]\n",
        "```\n",
        "\n",
        "**4. Adding and Removing Columns:**\n",
        "\n",
        "```python\n",
        "# Adding a new column\n",
        "df['City'] = ['New York', 'San Francisco', 'Los Angeles']\n",
        "\n",
        "# Removing a column\n",
        "df.drop('City', axis=1, inplace=True)\n",
        "```\n",
        "\n",
        "**5. Aggregation and Summary Statistics:**\n",
        "\n",
        "```python\n",
        "# Calculating mean age\n",
        "mean_age = df['Age'].mean()\n",
        "\n",
        "# Grouping and aggregating data\n",
        "grouped = df.groupby('City')['Age'].mean()\n",
        "```\n",
        "\n",
        "**6. Sorting Data:**\n",
        "\n",
        "```python\n",
        "# Sorting by a specific column\n",
        "sorted_df = df.sort_values(by='Age', ascending=False)\n",
        "```\n",
        "\n",
        "**7. Merging DataFrames (Joining):**\n",
        "\n",
        "```python\n",
        "# Merging two DataFrames\n",
        "data1 = {'ID': [1, 2, 3], 'Score1': [85, 92, 78]}\n",
        "data2 = {'ID': [2, 3, 4], 'Score2': [88, 75, 90]}\n",
        "df1 = pd.DataFrame(data1)\n",
        "df2 = pd.DataFrame(data2)\n",
        "merged_df = pd.merge(df1, df2, on='ID', how='inner')\n",
        "```\n",
        "\n",
        "**8. Handling Missing Data:**\n",
        "\n",
        "```python\n",
        "# Checking for missing values\n",
        "missing_values = df.isnull()\n",
        "\n",
        "# Dropping rows with missing values\n",
        "df.dropna(inplace=True)\n",
        "\n",
        "# Filling missing values\n",
        "df.fillna(0, inplace=True)\n",
        "```\n",
        "\n",
        "**9. Pivot Tables:**\n",
        "\n",
        "```python\n",
        "# Creating a pivot table\n",
        "pivot_table = df.pivot_table(index='City', values='Age', aggfunc='mean')\n",
        "```\n",
        "\n",
        "**10. Saving and Loading Data:**\n",
        "\n",
        "```python\n",
        "# Saving DataFrame to a CSV file\n",
        "df.to_csv('data.csv', index=False)\n",
        "\n",
        "# Loading data from a CSV file\n",
        "loaded_df = pd.read_csv('data.csv')\n",
        "```"
      ],
      "metadata": {
        "id": "RvMbPjC1Einy"
      }
    },
    {
      "cell_type": "markdown",
      "source": [
        "Here are explanations of several important DataFrame methods and functions in Pandas:\n",
        "\n",
        "1. **`head(n)` and `tail(n)`:**\n",
        "   - `head(n)` returns the first `n` rows of the DataFrame.\n",
        "   - `tail(n)` returns the last `n` rows of the DataFrame.\n",
        "   \n",
        "2. **`index` and `columns`:**\n",
        "   - `index` returns the index (row labels) of the DataFrame.\n",
        "   - `columns` returns the column labels of the DataFrame.\n",
        "\n",
        "3. **`info()`:**\n",
        "   - `info()` provides a concise summary of the DataFrame, including the data types, non-null values, and memory usage.\n",
        "\n",
        "4. **`rename(columns=)` and `rename(index=)`:**\n",
        "   - `rename(columns=)` renames columns in the DataFrame.\n",
        "   - `rename(index=)` renames index (row labels) in the DataFrame.\n",
        "\n",
        "5. **`describe()`:**\n",
        "   - `describe()` generates summary statistics of the DataFrame's numeric columns, including count, mean, standard deviation, min, max, and quartiles.\n",
        "\n",
        "6. **`iloc[row_index, col_index]` and `loc[row_label, col_label]`:**\n",
        "   - `iloc` and `loc` allow for selecting rows and columns by integer position (`iloc`) or by labels (`loc`).\n",
        "\n",
        "7. **`strptime()` and `strftime()`:**\n",
        "   - `strptime()` converts a string to a datetime object based on a specified format.\n",
        "   - `strftime()` formats a datetime object as a string based on a specified format.\n",
        "\n",
        "8. **`unique()`:**\n",
        "   - `unique()` returns an array of unique values in a column, excluding duplicates.\n",
        "\n",
        "9. **`nunique()`:**\n",
        "   - `nunique()` returns the number of unique values in a column.\n",
        "\n",
        "10. **`value_counts()`:**\n",
        "    - `value_counts()` counts the occurrences of unique values in a column and returns a Series with counts.\n",
        "\n",
        "11. **`isnull()` and `fillna()`:**\n",
        "    - `isnull()` returns a DataFrame of the same shape with `True` where values are missing (NaN) and `False` otherwise.\n",
        "    - `fillna()` fills missing (NaN) values with specified values or methods."
      ],
      "metadata": {
        "id": "lUTHOMsfEoI5"
      }
    },
    {
      "cell_type": "markdown",
      "source": [
        "## **Numpy**"
      ],
      "metadata": {
        "id": "PEboJavREpJI"
      }
    },
    {
      "cell_type": "markdown",
      "source": [
        "**NumPy** is a powerful Python library for numerical and scientific computing. It provides support for large, multi-dimensional arrays and matrices, as well as a variety of high-level mathematical functions to operate on these arrays. NumPy is a fundamental library for data analysis, machine learning, and scientific research in Python.\n",
        "\n",
        "### Importing NumPy:\n",
        "\n",
        "You can import NumPy in your Python code using the following statement:\n",
        "\n",
        "```python\n",
        "import numpy as np\n",
        "```\n",
        "\n",
        "### Array Inspection Methods:\n",
        "\n",
        "NumPy provides several methods to inspect arrays:\n",
        "\n",
        "1. **`shape` and `ndim`:**\n",
        "   - `shape` returns a tuple representing the dimensions of the array.\n",
        "   - `ndim` returns the number of dimensions of the array.\n",
        "\n",
        "```python\n",
        "import numpy as np\n",
        "\n",
        "arr = np.array([[1, 2, 3], [4, 5, 6]])\n",
        "print(arr.shape)  # Output: (2, 3)\n",
        "print(arr.ndim)   # Output: 2\n",
        "```\n",
        "\n",
        "2. **`dtype`:**\n",
        "   - `dtype` returns the data type of elements in the array.\n",
        "\n",
        "```python\n",
        "arr = np.array([1, 2, 3], dtype=float)\n",
        "print(arr.dtype)  # Output: float64\n",
        "```\n",
        "\n",
        "3. **`size` and `itemsize`:**\n",
        "   - `size` returns the total number of elements in the array.\n",
        "   - `itemsize` returns the size (in bytes) of each element in the array.\n",
        "\n",
        "```python\n",
        "arr = np.array([[1, 2, 3], [4, 5, 6]])\n",
        "print(arr.size)      # Output: 6\n",
        "print(arr.itemsize)  # Output: 8 (assuming 64-bit system)\n",
        "```\n",
        "\n",
        "### Creating ndarrays:\n",
        "\n",
        "NumPy provides several ways to create ndarrays:\n",
        "\n",
        "1. **`np.array()`:**\n",
        "   - Create an ndarray from a list or iterable.\n",
        "\n",
        "```python\n",
        "arr = np.array([1, 2, 3])\n",
        "```\n",
        "\n",
        "2. **`np.zeros()`:**\n",
        "   - Create an ndarray filled with zeros.\n",
        "\n",
        "```python\n",
        "zeros = np.zeros((2, 3))\n",
        "```\n",
        "\n",
        "3. **`np.ones()`:**\n",
        "   - Create an ndarray filled with ones.\n",
        "\n",
        "```python\n",
        "ones = np.ones((2, 3))\n",
        "```\n",
        "\n",
        "4. **`np.arange()`:**\n",
        "   - Create an ndarray with regularly spaced values.\n",
        "\n",
        "```python\n",
        "seq = np.arange(0, 10, 2)  # [0, 2, 4, 6, 8]\n",
        "```\n",
        "\n",
        "### Indexing and Slicing:\n",
        "\n",
        "NumPy arrays support various ways of indexing and slicing:\n",
        "\n",
        "```python\n",
        "arr = np.array([[1, 2, 3], [4, 5, 6]])\n",
        "\n",
        "# Access a specific element\n",
        "element = arr[0, 1]  # 2\n",
        "\n",
        "# Slicing\n",
        "row = arr[1, :]  # [4, 5, 6]\n",
        "column = arr[:, 2]  # [3, 6]\n",
        "```\n",
        "\n",
        "### Array Manipulation Methods:\n",
        "\n",
        "NumPy provides functions to manipulate arrays:\n",
        "\n",
        "1. **`reshape()`:**\n",
        "   - Change the shape of an array.\n",
        "\n",
        "```python\n",
        "arr = np.array([1, 2, 3, 4, 5, 6])\n",
        "reshaped = arr.reshape(2, 3)\n",
        "```\n",
        "\n",
        "2. **`flatten()` and `ravel()`:**\n",
        "   - `flatten()` returns a new 1D array.\n",
        "   - `ravel()` returns a flattened 1D view of the original array.\n",
        "\n",
        "```python\n",
        "flattened = arr.flatten()\n",
        "raveled = arr.ravel()\n",
        "```\n",
        "\n",
        "3. **`transpose()`:**\n",
        "   - Transpose rows and columns of an array.\n",
        "\n",
        "```python\n",
        "transposed = arr.transpose()\n",
        "```\n",
        "\n",
        "4. **`concatenate()`:**\n",
        "   - Join arrays along an existing axis.\n",
        "\n",
        "```python\n",
        "arr1 = np.array([1, 2, 3])\n",
        "arr2 = np.array([4, 5, 6])\n",
        "concatenated = np.concatenate((arr1, arr2))\n",
        "```\n",
        "\n",
        "These are just a few of the many methods and functions available in NumPy for working with arrays. NumPy is a vast library with extensive documentation, making it a powerful tool for scientific computing and data analysis in Python."
      ],
      "metadata": {
        "id": "aePX0JC6Ew9L"
      }
    },
    {
      "cell_type": "markdown",
      "source": [
        "# **OUTLIERS**"
      ],
      "metadata": {
        "id": "Y4l0FisNM-fP"
      }
    },
    {
      "cell_type": "code",
      "source": [
        "import numpy as np\n",
        "import pandas as pd\n",
        "import matplotlib.pyplot as plt\n",
        "%matplotlib inline"
      ],
      "metadata": {
        "id": "Se9XhLa0M9Jw"
      },
      "execution_count": 107,
      "outputs": []
    },
    {
      "cell_type": "code",
      "source": [
        "dataset1 = [10,23,14,15,8,99, 508,666,33,23, 34, 12, 1, 24, 11, 20, 25, 27, 30, 36 ]"
      ],
      "metadata": {
        "id": "oloWbOmTQYEM"
      },
      "execution_count": 108,
      "outputs": []
    },
    {
      "cell_type": "code",
      "source": [
        "plt.hist(dataset1)"
      ],
      "metadata": {
        "colab": {
          "base_uri": "https://localhost:8080/",
          "height": 499
        },
        "id": "M9tYXBhNOsks",
        "outputId": "96b9e28b-78c6-4e5c-93f6-359a01224dbf"
      },
      "execution_count": 109,
      "outputs": [
        {
          "output_type": "execute_result",
          "data": {
            "text/plain": [
              "(array([17.,  1.,  0.,  0.,  0.,  0.,  0.,  1.,  0.,  1.]),\n",
              " array([  1. ,  67.5, 134. , 200.5, 267. , 333.5, 400. , 466.5, 533. ,\n",
              "        599.5, 666. ]),\n",
              " <BarContainer object of 10 artists>)"
            ]
          },
          "metadata": {},
          "execution_count": 109
        },
        {
          "output_type": "display_data",
          "data": {
            "text/plain": [
              "<Figure size 640x480 with 1 Axes>"
            ],
            "image/png": "[encoded data removed]"
          },
          "metadata": {}
        }
      ]
    },
    {
      "cell_type": "markdown",
      "source": [
        "**Method 1: Z-Score**"
      ],
      "metadata": {
        "id": "4oeI1IBRRFbB"
      }
    },
    {
      "cell_type": "code",
      "source": [
        "#Method 1: Z-Score\n",
        "\n",
        "#If point lies outside the 3rd SD then it will be treated as Outlies\n",
        "\n",
        "outliers=[]\n",
        "def detect_outlier(data):\n",
        "  treshold=3 #3rd standard deviation\n",
        "  mean=np.mean(data)\n",
        "  std=np.std(data)\n",
        "\n",
        "  for i in data:\n",
        "    z_score=(i-mean)/std\n",
        "    if np.abs(z_score)>treshold:\n",
        "      outliers.append(i)\n",
        "\n",
        "  return outliers\n"
      ],
      "metadata": {
        "id": "alNfMbTmOwv2"
      },
      "execution_count": 110,
      "outputs": []
    },
    {
      "cell_type": "code",
      "source": [
        "detect_outlier(dataset1)"
      ],
      "metadata": {
        "colab": {
          "base_uri": "https://localhost:8080/"
        },
        "id": "bqR6s_LUQKQL",
        "outputId": "3ae15da6-fd21-450b-ba6b-d1de1816090e"
      },
      "execution_count": 111,
      "outputs": [
        {
          "output_type": "execute_result",
          "data": {
            "text/plain": [
              "[666]"
            ]
          },
          "metadata": {},
          "execution_count": 111
        }
      ]
    },
    {
      "cell_type": "markdown",
      "source": [
        "**Method 2: IQR**"
      ],
      "metadata": {
        "id": "MzVVWKItRJsd"
      }
    },
    {
      "cell_type": "code",
      "source": [
        "#Method 2: IQR\n",
        "\n",
        "#1.Sort\n",
        "#2. Find 25 and 75 percentile\n",
        "#3. IQR=Q3-Q1\n",
        "#4. Lower fence = Q1-1.5(IQR)\n",
        "#5. Upper fence = Q3+1.5(IQR)"
      ],
      "metadata": {
        "id": "f1SiLLMhQmMj"
      },
      "execution_count": 112,
      "outputs": []
    },
    {
      "cell_type": "code",
      "source": [
        "dataset1=sorted(dataset1)"
      ],
      "metadata": {
        "id": "JuFH17IUR2wn"
      },
      "execution_count": 113,
      "outputs": []
    },
    {
      "cell_type": "code",
      "source": [
        "q1, q3 = np.percentile(dataset1, [25, 75])\n",
        "print(q1,q3)"
      ],
      "metadata": {
        "colab": {
          "base_uri": "https://localhost:8080/"
        },
        "id": "3AtjP1C5R-wC",
        "outputId": "700910b6-6a35-4a35-c058-247e73f28723"
      },
      "execution_count": 115,
      "outputs": [
        {
          "output_type": "stream",
          "name": "stdout",
          "text": [
            "13.5 33.25\n"
          ]
        }
      ]
    },
    {
      "cell_type": "code",
      "source": [
        "iqr= q3-q1"
      ],
      "metadata": {
        "id": "8YrJzYz833NO"
      },
      "execution_count": 116,
      "outputs": []
    },
    {
      "cell_type": "code",
      "source": [
        "lower_fense = q1-(1.5*iqr)\n",
        "upper_fense = q3+(1.5*iqr)\n",
        "\n",
        "print(lower_fense, upper_fense)"
      ],
      "metadata": {
        "colab": {
          "base_uri": "https://localhost:8080/"
        },
        "id": "PD_wowFe3wPI",
        "outputId": "c10b77c9-d814-49da-af88-e736ca261c7d"
      },
      "execution_count": 118,
      "outputs": [
        {
          "output_type": "stream",
          "name": "stdout",
          "text": [
            "-16.125 62.875\n"
          ]
        }
      ]
    },
    {
      "cell_type": "code",
      "source": [
        "outlierss=[]\n",
        "for i in dataset1:\n",
        "  if i > -16.125 and i < 62.875:\n",
        "    pass\n",
        "  else:\n",
        "    outlierss.append(i)\n",
        "\n",
        "print(outlierss)"
      ],
      "metadata": {
        "colab": {
          "base_uri": "https://localhost:8080/"
        },
        "id": "pGlSSYgk4iMT",
        "outputId": "db865fb2-3764-406d-8c67-711ce8fb795c"
      },
      "execution_count": 120,
      "outputs": [
        {
          "output_type": "stream",
          "name": "stdout",
          "text": [
            "[99, 508, 666]\n"
          ]
        }
      ]
    },
    {
      "cell_type": "markdown",
      "source": [
        "**Method 3: Boxplot**"
      ],
      "metadata": {
        "id": "u1W-ctai4YUu"
      }
    },
    {
      "cell_type": "code",
      "source": [
        "import seaborn as sns\n",
        "sns.boxplot(dataset1)"
      ],
      "metadata": {
        "colab": {
          "base_uri": "https://localhost:8080/",
          "height": 447
        },
        "id": "1ypePXgp4aQi",
        "outputId": "5dd70271-4ca2-4f32-8f58-bec7e03aba7c"
      },
      "execution_count": 119,
      "outputs": [
        {
          "output_type": "execute_result",
          "data": {
            "text/plain": [
              "<Axes: >"
            ]
          },
          "metadata": {},
          "execution_count": 119
        },
        {
          "output_type": "display_data",
          "data": {
            "text/plain": [
              "<Figure size 640x480 with 1 Axes>"
            ],
            "image/png": "[encoded data removed]"
          },
          "metadata": {}
        }
      ]
    }
  ]
}